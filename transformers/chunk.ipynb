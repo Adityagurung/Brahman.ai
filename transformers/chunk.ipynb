{
 "cells": [
  {
   "cell_type": "markdown",
   "id": "a50f5c56",
   "metadata": {},
   "source": [
    "####  Code to convert JSONL into smaller chunks with the help of Chonkie "
   ]
  },
  {
   "cell_type": "code",
   "execution_count": 4,
   "id": "8f7c89f6",
   "metadata": {},
   "outputs": [
    {
     "data": {
      "application/vnd.jupyter.widget-view+json": {
       "model_id": "eb4a7ae8c80a4d0585f12b9185584491",
       "version_major": 2,
       "version_minor": 0
      },
      "text/plain": [
       "v1.schema.json: 0.00B [00:00, ?B/s]"
      ]
     },
     "metadata": {},
     "output_type": "display_data"
    },
    {
     "name": "stderr",
     "output_type": "stream",
     "text": [
      "c:\\Users\\Adi\\Miniconda\\envs\\brahman_env\\lib\\site-packages\\huggingface_hub\\file_download.py:143: UserWarning: `huggingface_hub` cache-system uses symlinks by default to efficiently store duplicated files but your machine does not support them in C:\\Users\\Adi\\.cache\\huggingface\\hub\\datasets--chonkie-ai--recipes. Caching files will still work but in a degraded version that might require more space on your disk. This warning can be disabled by setting the `HF_HUB_DISABLE_SYMLINKS_WARNING` environment variable. For more details, see https://huggingface.co/docs/huggingface_hub/how-to-cache#limitations.\n",
      "To support symlinks on Windows, you either need to activate Developer Mode or to run Python as an administrator. In order to activate developer mode, see this article: https://docs.microsoft.com/en-us/windows/apps/get-started/enable-your-device-for-development\n",
      "  warnings.warn(message)\n"
     ]
    },
    {
     "data": {
      "application/vnd.jupyter.widget-view+json": {
       "model_id": "216900912bbd43de8a76aaa418cca80f",
       "version_major": 2,
       "version_minor": 0
      },
      "text/plain": [
       "markdown_en.json: 0.00B [00:00, ?B/s]"
      ]
     },
     "metadata": {},
     "output_type": "display_data"
    },
    {
     "name": "stdout",
     "output_type": "stream",
     "text": [
      " Wrote 149 chunks to c:\\Users\\Adi\\Brahman.ai\\data\\processed\\semantic_chunks.json\n"
     ]
    }
   ],
   "source": [
    "from pathlib import Path\n",
    "import json\n",
    "from chonkie import RecursiveChunker\n",
    "\n",
    "# Determine project root dynamically\n",
    "current = Path.cwd()\n",
    "while not (current / \"data\").exists():\n",
    "    if current.parent == current:\n",
    "        raise FileNotFoundError(\"Cannot locate 'data' directory in any parent path.\")\n",
    "    current = current.parent\n",
    "project_root = current\n",
    "\n",
    "input_file = project_root / \"data\" / \"processed\" / \"docs_processed.jsonl\"\n",
    "output_file = project_root / \"data\" / \"processed\" / \"semantic_chunks.json\"\n",
    "\n",
    "# Load input docs\n",
    "with open(input_file, \"r\", encoding=\"utf-8\") as f:\n",
    "    docs = [json.loads(line) for line in f]\n",
    "\n",
    "# Initialize Chonkie RecursiveChunker with a recipe\n",
    "chunker = RecursiveChunker.from_recipe(\"markdown\", lang=\"en\")\n",
    "\n",
    "# Chunking\n",
    "all_chunks = []\n",
    "for doc in docs:\n",
    "    metadata = doc.get(\"metadata\", {})\n",
    "    for chunk in chunker(doc[\"content\"]):\n",
    "        all_chunks.append({\n",
    "            \"metadata\": metadata,\n",
    "            \"chunk_text\": chunk.text,\n",
    "            \"token_count\": chunk.token_count\n",
    "        })\n",
    "\n",
    "# Save to JSON\n",
    "with open(output_file, \"w\", encoding=\"utf-8\") as f:\n",
    "    json.dump(all_chunks, f, ensure_ascii=False, indent=2)\n",
    "\n",
    "print(f\" Wrote {len(all_chunks)} chunks to {output_file}\")\n"
   ]
  }
 ],
 "metadata": {
  "kernelspec": {
   "display_name": "brahman_env",
   "language": "python",
   "name": "python3"
  },
  "language_info": {
   "codemirror_mode": {
    "name": "ipython",
    "version": 3
   },
   "file_extension": ".py",
   "mimetype": "text/x-python",
   "name": "python",
   "nbconvert_exporter": "python",
   "pygments_lexer": "ipython3",
   "version": "3.10.18"
  }
 },
 "nbformat": 4,
 "nbformat_minor": 5
}
