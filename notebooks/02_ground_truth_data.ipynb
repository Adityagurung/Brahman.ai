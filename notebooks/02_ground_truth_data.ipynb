{
 "cells": [
  {
   "cell_type": "markdown",
   "id": "b6845a9f",
   "metadata": {},
   "source": [
    "This notebook/script processes semantic chunks generated from PDF and creates ground truth data \n",
    "for retrieval evaluation\n",
    "1. Reads chunked semantic data from a JSON file.\n",
    "2. Filters and renames specific fields for cleaner processing.\n",
    "3. Uses an AI model to generate 5 sustainability-focused travel questions \n",
    "   for each record.\n",
    "4. Generate unique doc ID that merges with Md5 hash (doc+hash)   \n",
    "5. Saves the resulting ground truth dataset to CSV for retrieval evaluation."
   ]
  },
  {
   "cell_type": "markdown",
   "id": "4b0c8ff8",
   "metadata": {},
   "source": [
    "#### Helper functions"
   ]
  },
  {
   "cell_type": "code",
   "execution_count": 1,
   "id": "d46edba5",
   "metadata": {},
   "outputs": [],
   "source": [
    "import json\n",
    "import pandas as pd\n",
    "from pathlib import Path\n",
    "from tqdm import tqdm\n",
    "import os\n",
    "import sys\n",
    "from dotenv import load_dotenv"
   ]
  },
  {
   "cell_type": "code",
   "execution_count": 2,
   "id": "33b7ca53",
   "metadata": {},
   "outputs": [],
   "source": [
    "file_path = '../data/processed/semantic_chunks.json'\n",
    "output_csv = '../data/processed/ground-truth-retreival.csv'"
   ]
  },
  {
   "cell_type": "code",
   "execution_count": 3,
   "id": "8883266c",
   "metadata": {},
   "outputs": [],
   "source": [
    "# ------------------------------------------------------------\n",
    "# Load semantic chunks JSON file\n",
    "# ------------------------------------------------------------\n",
    "with open(file_path, \"r\", encoding=\"utf-8\") as f:\n",
    "    chunks = json.load(f)"
   ]
  },
  {
   "cell_type": "code",
   "execution_count": 4,
   "id": "faf78dc8",
   "metadata": {},
   "outputs": [
    {
     "data": {
      "text/plain": [
       "{'metadata': {'document_id': 'd4402d82c0',\n",
       "  'pdf_name': 'Andhra_Pradesh.pdf',\n",
       "  'pdf_part': 0},\n",
       " 'chunk_text': 'Asia > South Asia > India > Southern India > Andhra Pradesh  \\n![0_image_0.png](0_image_0.png)',\n",
       " 'token_count': 93}"
      ]
     },
     "execution_count": 4,
     "metadata": {},
     "output_type": "execute_result"
    }
   ],
   "source": [
    "chunks[0]"
   ]
  },
  {
   "cell_type": "code",
   "execution_count": 5,
   "id": "546e9c5c",
   "metadata": {},
   "outputs": [],
   "source": [
    "# ------------------------------------------------------------\n",
    "# Create DataFrame with required fields\n",
    "# ------------------------------------------------------------\n",
    "df_filtered = pd.DataFrame(chunks)\n",
    "df_filtered[\"location\"] = df_filtered[\"metadata\"].apply(lambda m: m.get(\"pdf_name\", \"\").replace(\".pdf\", \"\"))\n",
    "df_filtered[\"doc_id\"] = df_filtered[\"metadata\"].apply(lambda m: m.get(\"document_id\", \"\"))\n",
    "df_filtered[\"content\"] = df_filtered[\"chunk_text\"]\n",
    "df_filtered = df_filtered[[\"location\", \"doc_id\", \"content\"]]"
   ]
  },
  {
   "cell_type": "code",
   "execution_count": 6,
   "id": "6b7e3529",
   "metadata": {},
   "outputs": [
    {
     "data": {
      "text/html": [
       "<div>\n",
       "<style scoped>\n",
       "    .dataframe tbody tr th:only-of-type {\n",
       "        vertical-align: middle;\n",
       "    }\n",
       "\n",
       "    .dataframe tbody tr th {\n",
       "        vertical-align: top;\n",
       "    }\n",
       "\n",
       "    .dataframe thead th {\n",
       "        text-align: right;\n",
       "    }\n",
       "</style>\n",
       "<table border=\"1\" class=\"dataframe\">\n",
       "  <thead>\n",
       "    <tr style=\"text-align: right;\">\n",
       "      <th></th>\n",
       "      <th>location</th>\n",
       "      <th>doc_id</th>\n",
       "      <th>content</th>\n",
       "    </tr>\n",
       "  </thead>\n",
       "  <tbody>\n",
       "    <tr>\n",
       "      <th>0</th>\n",
       "      <td>Andhra_Pradesh</td>\n",
       "      <td>d4402d82c0</td>\n",
       "      <td>Asia &gt; South Asia &gt; India &gt; Southern India &gt; A...</td>\n",
       "    </tr>\n",
       "    <tr>\n",
       "      <th>1</th>\n",
       "      <td>Andhra_Pradesh</td>\n",
       "      <td>d4402d82c0</td>\n",
       "      <td>Andhra Pradesh (AP) is a state in Southern Ind...</td>\n",
       "    </tr>\n",
       "    <tr>\n",
       "      <th>2</th>\n",
       "      <td>Andhra_Pradesh</td>\n",
       "      <td>d4402d82c0</td>\n",
       "      <td>Northern Coast (Alluri Sitharama Raju, Anakapa...</td>\n",
       "    </tr>\n",
       "    <tr>\n",
       "      <th>3</th>\n",
       "      <td>Andhra_Pradesh</td>\n",
       "      <td>d4402d82c0</td>\n",
       "      <td>Here are some of the most notable cities.</td>\n",
       "    </tr>\n",
       "    <tr>\n",
       "      <th>4</th>\n",
       "      <td>Andhra_Pradesh</td>\n",
       "      <td>ed240be0ed</td>\n",
       "      <td>Amaravati - the capital of Andhra Pradesh whic...</td>\n",
       "    </tr>\n",
       "  </tbody>\n",
       "</table>\n",
       "</div>"
      ],
      "text/plain": [
       "         location      doc_id  \\\n",
       "0  Andhra_Pradesh  d4402d82c0   \n",
       "1  Andhra_Pradesh  d4402d82c0   \n",
       "2  Andhra_Pradesh  d4402d82c0   \n",
       "3  Andhra_Pradesh  d4402d82c0   \n",
       "4  Andhra_Pradesh  ed240be0ed   \n",
       "\n",
       "                                             content  \n",
       "0  Asia > South Asia > India > Southern India > A...  \n",
       "1  Andhra Pradesh (AP) is a state in Southern Ind...  \n",
       "2  Northern Coast (Alluri Sitharama Raju, Anakapa...  \n",
       "3          Here are some of the most notable cities.  \n",
       "4  Amaravati - the capital of Andhra Pradesh whic...  "
      ]
     },
     "metadata": {},
     "output_type": "display_data"
    }
   ],
   "source": [
    "display(df_filtered.head())"
   ]
  },
  {
   "cell_type": "code",
   "execution_count": 44,
   "id": "13fb1ff4",
   "metadata": {},
   "outputs": [],
   "source": [
    "# Convert back to list of dictionaries for processing\n",
    "documents = df_filtered.to_dict('records')"
   ]
  },
  {
   "cell_type": "code",
   "execution_count": 45,
   "id": "d039bc2f",
   "metadata": {},
   "outputs": [
    {
     "data": {
      "text/plain": [
       "{'location': 'Andhra_Pradesh',\n",
       " 'doc_id': 'd4402d82c0',\n",
       " 'content': 'Andhra Pradesh (AP) is a state in Southern India, with Bay of Bengal on the east and shares boundaries with Telangana on the north, Chhattisgarh and Odisha on the north-east, Tamil Nadu on the south and Karnataka on the west. Vijayawada is the capital of this state.'}"
      ]
     },
     "execution_count": 45,
     "metadata": {},
     "output_type": "execute_result"
    }
   ],
   "source": [
    "documents[1]"
   ]
  },
  {
   "cell_type": "code",
   "execution_count": 46,
   "id": "e203fac5",
   "metadata": {},
   "outputs": [
    {
     "name": "stdout",
     "output_type": "stream",
     "text": [
      "Processed 149 documents\n"
     ]
    }
   ],
   "source": [
    "print(f\"Processed {len(documents)} documents\")\n"
   ]
  },
  {
   "cell_type": "code",
   "execution_count": 48,
   "id": "64c9fc15",
   "metadata": {},
   "outputs": [
    {
     "name": "stdout",
     "output_type": "stream",
     "text": [
      "Generated IDs for all documents\n"
     ]
    }
   ],
   "source": [
    "# ------------------------------------------------------------\n",
    "# Generate unique document IDs (using existing doc_id + content hash)\n",
    "# ------------------------------------------------------------\n",
    "import hashlib\n",
    "def generate_document_id(doc):\n",
    "    # Use existing doc_id + first 20 chars of content for uniqueness\n",
    "    combined = f\"{doc['location']}-{doc['doc_id']}-{doc['content'][:20]}\"\n",
    "    hash_object = hashlib.md5(combined.encode())\n",
    "    hash_hex = hash_object.hexdigest()\n",
    "    document_id = hash_hex[:8]\n",
    "    return document_id\n",
    "\n",
    "for doc in documents:\n",
    "    doc['id'] = generate_document_id(doc)\n",
    "\n",
    "print(f\"Generated IDs for all documents\")"
   ]
  },
  {
   "cell_type": "code",
   "execution_count": 50,
   "id": "cf7c4509",
   "metadata": {},
   "outputs": [
    {
     "name": "stdout",
     "output_type": "stream",
     "text": [
      "Hash collision: 76f6a7f0 appears 2 times\n",
      "Hash collision: 919660f8 appears 2 times\n",
      "Total documents: 149, Unique IDs: 147, Collisions: 2\n"
     ]
    }
   ],
   "source": [
    "# ------------------------------------------------------------\n",
    "# Check for hash collisions\n",
    "# ------------------------------------------------------------\n",
    "from collections import defaultdict\n",
    "hashes = defaultdict(list)\n",
    "\n",
    "for doc in documents:\n",
    "    doc_id = doc['id']\n",
    "    hashes[doc_id].append(doc)\n",
    "\n",
    "collision_count = 0\n",
    "for k, values in hashes.items():\n",
    "    if len(values) > 1:\n",
    "        print(f\"Hash collision: {k} appears {len(values)} times\")\n",
    "        collision_count += 1\n",
    "\n",
    "print(f\"Total documents: {len(documents)}, Unique IDs: {len(hashes)}, Collisions: {collision_count}\")"
   ]
  },
  {
   "cell_type": "code",
   "execution_count": 52,
   "id": "192a131c",
   "metadata": {},
   "outputs": [
    {
     "data": {
      "text/plain": [
       "[{'location': 'Karnataka',\n",
       "  'doc_id': '9a1dcdf649',\n",
       "  'content': \"Karnataka is known for its wealth of flora and fauna. Around 25% of India's elephants and 10% of its tigers are in Karnataka. Many regions in Karnataka are as yet unexplored, leading to discoveries of flora and fauna. The Western Ghats teem with wildlife and are an acknowledged *biodiversity hotspot*.\",\n",
       "  'id': '76f6a7f0'},\n",
       " {'location': 'Karnataka',\n",
       "  'doc_id': '9a1dcdf649',\n",
       "  'content': 'Karnataka is known for a wide variety of **local fast foods** which are available at outlets everywhere. Some are standalone outlets while others are well known names with branch locations. The outlets are self-service where you stand and eat, although some of the newer ones provide sit-down table service for a higher charge. The outlets are open throughout the day and popular during breakfast and lunch. Some outlets specialize, while others have more variety as indicated in their menus.Udupi',\n",
       "  'id': '76f6a7f0'}]"
      ]
     },
     "execution_count": 52,
     "metadata": {},
     "output_type": "execute_result"
    }
   ],
   "source": [
    "hashes['76f6a7f0']"
   ]
  },
  {
   "cell_type": "code",
   "execution_count": 53,
   "id": "185b1b7e",
   "metadata": {},
   "outputs": [
    {
     "data": {
      "text/plain": [
       "[{'location': 'Karnataka',\n",
       "  'doc_id': '9a1dcdf649',\n",
       "  'content': 'Kempegowda International Airport (BLR IATA) in northern Bangalore is the 3rd-busiest airport in India, connecting with major state capitals and cities as well as 20 international destinations.  \\n![5_image_0.png](5_image_0.png)',\n",
       "  'id': '919660f8'},\n",
       " {'location': 'Karnataka',\n",
       "  'doc_id': '9a1dcdf649',\n",
       "  'content': 'Kempegowda International Airport serves most domestic routes in India. Mangalore International Airport also serves domestic destinations. Domestic-only airports in Karnataka with varying service levels include Hubli, Belgaum, Hampi, Vidhyanagar and Mysore. These airports also connect with the Kempegowda International Airport in the state capital of Bangalore.',\n",
       "  'id': '919660f8'}]"
      ]
     },
     "execution_count": 53,
     "metadata": {},
     "output_type": "execute_result"
    }
   ],
   "source": [
    "hashes['919660f8']"
   ]
  },
  {
   "cell_type": "code",
   "execution_count": 54,
   "id": "a32b4c14",
   "metadata": {},
   "outputs": [
    {
     "data": {
      "text/plain": [
       "{'location': 'Andhra_Pradesh',\n",
       " 'doc_id': 'd4402d82c0',\n",
       " 'content': 'Asia > South Asia > India > Southern India > Andhra Pradesh  \\n![0_image_0.png](0_image_0.png)',\n",
       " 'id': '4f80b327'}"
      ]
     },
     "execution_count": 54,
     "metadata": {},
     "output_type": "execute_result"
    }
   ],
   "source": [
    "documents[0]"
   ]
  },
  {
   "cell_type": "code",
   "execution_count": 55,
   "id": "dbe6fe47",
   "metadata": {},
   "outputs": [
    {
     "name": "stdout",
     "output_type": "stream",
     "text": [
      "Saved documents with IDs\n"
     ]
    }
   ],
   "source": [
    "# ------------------------------------------------------------\n",
    "# Save documents with IDs\n",
    "# ------------------------------------------------------------\n",
    "with open('../data/processed/documents-with-ids.json', 'wt') as f_out:\n",
    "    json.dump(documents, f_out, indent=2)\n",
    "\n",
    "print(\"Saved documents with IDs\")"
   ]
  },
  {
   "cell_type": "code",
   "execution_count": 56,
   "id": "271ecaab",
   "metadata": {},
   "outputs": [],
   "source": [
    "# ------------------------------------------------------------\n",
    "# Prompt template for generating questions\n",
    "# ------------------------------------------------------------\n",
    "prompt_template = \"\"\"\n",
    "You are helping create training data for a travel information retrieval system.\n",
    "Based on the travel content provided, formulate 5 questions that a traveler might ask.\n",
    "The questions should be answerable from the given content and should be practical travel-related queries.\n",
    "Use varied phrasing and avoid copying exact words from the content when possible.\n",
    "\n",
    "Content about {location}:\n",
    "{content}\n",
    "\n",
    "Provide the output in parsable JSON without using code blocks:\n",
    "\n",
    "[\"question1\", \"question2\", \"question3\", \"question4\", \"question5\"]\n",
    "\"\"\".strip()"
   ]
  },
  {
   "cell_type": "code",
   "execution_count": 59,
   "id": "65d0ee12",
   "metadata": {},
   "outputs": [],
   "source": [
    "prompt = prompt_template.format(**documents[1])"
   ]
  },
  {
   "cell_type": "code",
   "execution_count": 60,
   "id": "0bd5661d",
   "metadata": {},
   "outputs": [
    {
     "name": "stdout",
     "output_type": "stream",
     "text": [
      "You are helping create training data for a travel information retrieval system.\n",
      "Based on the travel content provided, formulate 5 questions that a traveler might ask.\n",
      "The questions should be answerable from the given content and should be practical travel-related queries.\n",
      "Use varied phrasing and avoid copying exact words from the content when possible.\n",
      "\n",
      "Content about Andhra_Pradesh:\n",
      "Andhra Pradesh (AP) is a state in Southern India, with Bay of Bengal on the east and shares boundaries with Telangana on the north, Chhattisgarh and Odisha on the north-east, Tamil Nadu on the south and Karnataka on the west. Vijayawada is the capital of this state.\n",
      "\n",
      "Provide the output in parsable JSON without using code blocks:\n",
      "\n",
      "[\"question1\", \"question2\", \"question3\", \"question4\", \"question5\"]\n"
     ]
    }
   ],
   "source": [
    "print(prompt)"
   ]
  },
  {
   "cell_type": "code",
   "execution_count": 61,
   "id": "68f417fa",
   "metadata": {},
   "outputs": [],
   "source": [
    "from dotenv import load_dotenv\n",
    "import os\n",
    "import requests\n",
    "\n",
    "load_dotenv()  # Loads variables from .env\n",
    "API_KEY = os.getenv(\"PERPLEXITY_API_KEY\")"
   ]
  },
  {
   "cell_type": "code",
   "execution_count": 62,
   "id": "e5842bc3",
   "metadata": {},
   "outputs": [],
   "source": [
    "def llm(prompt):\n",
    "    response = requests.post(\n",
    "        'https://api.perplexity.ai/chat/completions',\n",
    "        headers={\n",
    "            'Authorization': f'Bearer {API_KEY}',\n",
    "            'Content-Type': 'application/json'\n",
    "        },\n",
    "        json={\n",
    "            'model': 'sonar',\n",
    "            'messages': [{\"role\": \"user\", \"content\": prompt}]\n",
    "        }\n",
    "    )\n",
    "    \n",
    "    if response.status_code == 200:\n",
    "        return response.json()['choices'][0]['message']['content']\n",
    "    else:\n",
    "        raise Exception(f\"API call failed with status {response.status_code}: {response.text}\")"
   ]
  },
  {
   "cell_type": "code",
   "execution_count": 63,
   "id": "2cb76ac2",
   "metadata": {},
   "outputs": [],
   "source": [
    "questions = llm(prompt)"
   ]
  },
  {
   "cell_type": "code",
   "execution_count": 64,
   "id": "053b01b9",
   "metadata": {},
   "outputs": [
    {
     "data": {
      "text/plain": [
       "['What are the must-see religious sites for pilgrims visiting Andhra Pradesh?',\n",
       " 'Which beaches in Andhra Pradesh are recommended for tourists looking to relax by the sea?',\n",
       " 'What are the key attractions for nature lovers visiting the Araku Valley area?',\n",
       " 'Could you suggest historical forts or museums to visit in Vijayawada?',\n",
       " 'What is the best time of year to plan a trip to popular Andhra Pradesh temples like Tirumala or Srikalahasti?']"
      ]
     },
     "execution_count": 64,
     "metadata": {},
     "output_type": "execute_result"
    }
   ],
   "source": [
    "json.loads(questions)"
   ]
  },
  {
   "cell_type": "code",
   "execution_count": 65,
   "id": "840d718f",
   "metadata": {},
   "outputs": [],
   "source": [
    "def generate_questions(doc):\n",
    "    prompt = prompt_template.format(\n",
    "        location=doc['location'],\n",
    "        content=doc['content']\n",
    "    )\n",
    "    \n",
    "    try:\n",
    "        # Make the Perplexity API call\n",
    "        response = requests.post(\n",
    "        'https://api.perplexity.ai/chat/completions',\n",
    "        headers={\n",
    "            'Authorization': f'Bearer {API_KEY}',\n",
    "            'Content-Type': 'application/json'\n",
    "        },\n",
    "        json={\n",
    "            'model': 'sonar',\n",
    "            'messages': [{\"role\": \"user\", \"content\": prompt}]\n",
    "        }\n",
    "    )\n",
    "        \n",
    "        json_response = response.json()['choices'][0]['message']['content']\n",
    "        return json_response\n",
    "    except Exception as e:\n",
    "        print(f\"Error generating questions for doc {doc['id']}: {e}\")\n",
    "        return '[\"Error generating questions\"]'"
   ]
  },
  {
   "cell_type": "code",
   "execution_count": 66,
   "id": "981b0a17",
   "metadata": {},
   "outputs": [
    {
     "name": "stdout",
     "output_type": "stream",
     "text": [
      "Generating questions using LLM\n"
     ]
    },
    {
     "data": {
      "application/vnd.jupyter.widget-view+json": {
       "model_id": "11cf7c0869cf435980f48d008271a035",
       "version_major": 2,
       "version_minor": 0
      },
      "text/plain": [
       "  0%|          | 0/149 [00:00<?, ?it/s]"
      ]
     },
     "metadata": {},
     "output_type": "display_data"
    },
    {
     "name": "stdout",
     "output_type": "stream",
     "text": [
      "Generated questions for 147 unique documents\n"
     ]
    }
   ],
   "source": [
    "results = {}\n",
    "\n",
    "print(\"Generating questions using LLM\")\n",
    "\n",
    "for doc in tqdm(documents): \n",
    "    doc_id = doc['id']\n",
    "    if doc_id in results:\n",
    "        continue  # Skip duplicates from hash collisions\n",
    "\n",
    "    questions = generate_questions(doc)\n",
    "    results[doc_id] = questions\n",
    "\n",
    "print(f\"Generated questions for {len(results)} unique documents\")"
   ]
  },
  {
   "cell_type": "code",
   "execution_count": 69,
   "id": "a0b525e6",
   "metadata": {},
   "outputs": [
    {
     "data": {
      "text/plain": [
       "'[\\n  \"Which national parks in Karnataka offer opportunities to see elephants and tigers in their natural habitats?\",\\n  \"What are some top historical sites or forts that tourists should visit when traveling through Karnataka?\",\\n  \"Where in Karnataka can I experience rich biodiversity, especially in the Western Ghats region?\",\\n  \"What are the key tourist attractions in Bangalore that combine nature and historical significance?\",\\n  \"During which months is it best to visit scenic places like Kudremukh or Agumbe in Karnataka for trekking and nature exploration?\"\\n]'"
      ]
     },
     "execution_count": 69,
     "metadata": {},
     "output_type": "execute_result"
    }
   ],
   "source": [
    "results['76f6a7f0']"
   ]
  },
  {
   "cell_type": "code",
   "execution_count": 73,
   "id": "dbf4bb55",
   "metadata": {},
   "outputs": [
    {
     "name": "stdout",
     "output_type": "stream",
     "text": [
      "Saved raw results\n"
     ]
    }
   ],
   "source": [
    "# ------------------------------------------------------------\n",
    "# Save raw results\n",
    "# ------------------------------------------------------------\n",
    "import pickle\n",
    "\n",
    "with open('../data/processed/results.bin', 'wb') as f_out:\n",
    "    pickle.dump(results, f_out)\n",
    "\n",
    "print(\"Saved raw results\")"
   ]
  },
  {
   "cell_type": "code",
   "execution_count": 74,
   "id": "63880418",
   "metadata": {},
   "outputs": [
    {
     "name": "stdout",
     "output_type": "stream",
     "text": [
      "Parsed 147 question sets\n"
     ]
    }
   ],
   "source": [
    "# ------------------------------------------------------------\n",
    "# Parse JSON responses\n",
    "# ------------------------------------------------------------\n",
    "parsed_results = {}\n",
    "\n",
    "for doc_id, json_questions in results.items():\n",
    "    try:\n",
    "        parsed_results[doc_id] = json.loads(json_questions)\n",
    "    except json.JSONDecodeError as e:\n",
    "        print(f\"Error parsing JSON for doc {doc_id}: {e}\")\n",
    "        print(f\"Raw response: {json_questions}\")\n",
    "        # Create fallback questions\n",
    "        parsed_results[doc_id] = [f\"What can you tell me about this location?\"]\n",
    "\n",
    "print(f\"Parsed {len(parsed_results)} question sets\")"
   ]
  },
  {
   "cell_type": "code",
   "execution_count": 75,
   "id": "0bee04fb",
   "metadata": {},
   "outputs": [
    {
     "name": "stdout",
     "output_type": "stream",
     "text": [
      "Created 735 question-document pairs\n"
     ]
    }
   ],
   "source": [
    "# ------------------------------------------------------------\n",
    "# Create document index and final results\n",
    "# ------------------------------------------------------------\n",
    "doc_index = {d['id']: d for d in documents}\n",
    "\n",
    "final_results = []\n",
    "\n",
    "for doc_id, questions in parsed_results.items():\n",
    "    if doc_id not in doc_index:\n",
    "        continue\n",
    "        \n",
    "    location = doc_index[doc_id]['location']\n",
    "    original_doc_id = doc_index[doc_id]['doc_id']\n",
    "    \n",
    "    for q in questions:\n",
    "        final_results.append((q, location, doc_id, original_doc_id))\n",
    "\n",
    "print(f\"Created {len(final_results)} question-document pairs\")"
   ]
  },
  {
   "cell_type": "code",
   "execution_count": 82,
   "id": "162b106d",
   "metadata": {},
   "outputs": [
    {
     "data": {
      "text/plain": [
       "[('What are the must-see religious sites in Andhra Pradesh for pilgrims?',\n",
       "  'Andhra_Pradesh',\n",
       "  '4f80b327',\n",
       "  'd4402d82c0'),\n",
       " ('Which natural attractions and caves can tourists explore in Andhra Pradesh?',\n",
       "  'Andhra_Pradesh',\n",
       "  '4f80b327',\n",
       "  'd4402d82c0'),\n",
       " ('Where in Andhra Pradesh can I visit museums related to military and tribal culture?',\n",
       "  'Andhra_Pradesh',\n",
       "  '4f80b327',\n",
       "  'd4402d82c0'),\n",
       " ('What beaches and coastal towns in Andhra Pradesh offer historical landmarks?',\n",
       "  'Andhra_Pradesh',\n",
       "  '4f80b327',\n",
       "  'd4402d82c0'),\n",
       " ('What are some recommended hill stations and forested areas for nature lovers in Andhra Pradesh?',\n",
       "  'Andhra_Pradesh',\n",
       "  '4f80b327',\n",
       "  'd4402d82c0')]"
      ]
     },
     "execution_count": 82,
     "metadata": {},
     "output_type": "execute_result"
    }
   ],
   "source": [
    "final_results[:5]"
   ]
  },
  {
   "cell_type": "code",
   "execution_count": 100,
   "id": "94948e42",
   "metadata": {},
   "outputs": [],
   "source": [
    "df_ground_truth = pd.DataFrame(final_results, columns=['question', 'location', 'generated_id', 'original_doc_id'])"
   ]
  },
  {
   "cell_type": "code",
   "execution_count": 101,
   "id": "d8bed358",
   "metadata": {},
   "outputs": [],
   "source": [
    "df_ground_truth.rename(columns={'generated_id': 'id'}, inplace=True)"
   ]
  },
  {
   "cell_type": "code",
   "execution_count": 102,
   "id": "c2fd20e6",
   "metadata": {},
   "outputs": [
    {
     "data": {
      "text/html": [
       "<div>\n",
       "<style scoped>\n",
       "    .dataframe tbody tr th:only-of-type {\n",
       "        vertical-align: middle;\n",
       "    }\n",
       "\n",
       "    .dataframe tbody tr th {\n",
       "        vertical-align: top;\n",
       "    }\n",
       "\n",
       "    .dataframe thead th {\n",
       "        text-align: right;\n",
       "    }\n",
       "</style>\n",
       "<table border=\"1\" class=\"dataframe\">\n",
       "  <thead>\n",
       "    <tr style=\"text-align: right;\">\n",
       "      <th></th>\n",
       "      <th>question</th>\n",
       "      <th>location</th>\n",
       "      <th>id</th>\n",
       "      <th>original_doc_id</th>\n",
       "    </tr>\n",
       "  </thead>\n",
       "  <tbody>\n",
       "    <tr>\n",
       "      <th>0</th>\n",
       "      <td>What are the must-see religious sites in Andhr...</td>\n",
       "      <td>Andhra_Pradesh</td>\n",
       "      <td>4f80b327</td>\n",
       "      <td>d4402d82c0</td>\n",
       "    </tr>\n",
       "    <tr>\n",
       "      <th>1</th>\n",
       "      <td>Which natural attractions and caves can touris...</td>\n",
       "      <td>Andhra_Pradesh</td>\n",
       "      <td>4f80b327</td>\n",
       "      <td>d4402d82c0</td>\n",
       "    </tr>\n",
       "    <tr>\n",
       "      <th>2</th>\n",
       "      <td>Where in Andhra Pradesh can I visit museums re...</td>\n",
       "      <td>Andhra_Pradesh</td>\n",
       "      <td>4f80b327</td>\n",
       "      <td>d4402d82c0</td>\n",
       "    </tr>\n",
       "    <tr>\n",
       "      <th>3</th>\n",
       "      <td>What beaches and coastal towns in Andhra Prade...</td>\n",
       "      <td>Andhra_Pradesh</td>\n",
       "      <td>4f80b327</td>\n",
       "      <td>d4402d82c0</td>\n",
       "    </tr>\n",
       "    <tr>\n",
       "      <th>4</th>\n",
       "      <td>What are some recommended hill stations and fo...</td>\n",
       "      <td>Andhra_Pradesh</td>\n",
       "      <td>4f80b327</td>\n",
       "      <td>d4402d82c0</td>\n",
       "    </tr>\n",
       "  </tbody>\n",
       "</table>\n",
       "</div>"
      ],
      "text/plain": [
       "                                            question        location  \\\n",
       "0  What are the must-see religious sites in Andhr...  Andhra_Pradesh   \n",
       "1  Which natural attractions and caves can touris...  Andhra_Pradesh   \n",
       "2  Where in Andhra Pradesh can I visit museums re...  Andhra_Pradesh   \n",
       "3  What beaches and coastal towns in Andhra Prade...  Andhra_Pradesh   \n",
       "4  What are some recommended hill stations and fo...  Andhra_Pradesh   \n",
       "\n",
       "         id original_doc_id  \n",
       "0  4f80b327      d4402d82c0  \n",
       "1  4f80b327      d4402d82c0  \n",
       "2  4f80b327      d4402d82c0  \n",
       "3  4f80b327      d4402d82c0  \n",
       "4  4f80b327      d4402d82c0  "
      ]
     },
     "metadata": {},
     "output_type": "display_data"
    }
   ],
   "source": [
    "display(df_ground_truth.head())"
   ]
  },
  {
   "cell_type": "code",
   "execution_count": 103,
   "id": "9d2d8f8d",
   "metadata": {},
   "outputs": [],
   "source": [
    "df_ground_truth_filt = df_ground_truth.loc[:, ['question', 'id']]"
   ]
  },
  {
   "cell_type": "code",
   "execution_count": 104,
   "id": "52daf8a4",
   "metadata": {},
   "outputs": [
    {
     "data": {
      "text/html": [
       "<div>\n",
       "<style scoped>\n",
       "    .dataframe tbody tr th:only-of-type {\n",
       "        vertical-align: middle;\n",
       "    }\n",
       "\n",
       "    .dataframe tbody tr th {\n",
       "        vertical-align: top;\n",
       "    }\n",
       "\n",
       "    .dataframe thead th {\n",
       "        text-align: right;\n",
       "    }\n",
       "</style>\n",
       "<table border=\"1\" class=\"dataframe\">\n",
       "  <thead>\n",
       "    <tr style=\"text-align: right;\">\n",
       "      <th></th>\n",
       "      <th>question</th>\n",
       "      <th>id</th>\n",
       "    </tr>\n",
       "  </thead>\n",
       "  <tbody>\n",
       "    <tr>\n",
       "      <th>0</th>\n",
       "      <td>What are the must-see religious sites in Andhr...</td>\n",
       "      <td>4f80b327</td>\n",
       "    </tr>\n",
       "    <tr>\n",
       "      <th>1</th>\n",
       "      <td>Which natural attractions and caves can touris...</td>\n",
       "      <td>4f80b327</td>\n",
       "    </tr>\n",
       "    <tr>\n",
       "      <th>2</th>\n",
       "      <td>Where in Andhra Pradesh can I visit museums re...</td>\n",
       "      <td>4f80b327</td>\n",
       "    </tr>\n",
       "    <tr>\n",
       "      <th>3</th>\n",
       "      <td>What beaches and coastal towns in Andhra Prade...</td>\n",
       "      <td>4f80b327</td>\n",
       "    </tr>\n",
       "    <tr>\n",
       "      <th>4</th>\n",
       "      <td>What are some recommended hill stations and fo...</td>\n",
       "      <td>4f80b327</td>\n",
       "    </tr>\n",
       "  </tbody>\n",
       "</table>\n",
       "</div>"
      ],
      "text/plain": [
       "                                            question        id\n",
       "0  What are the must-see religious sites in Andhr...  4f80b327\n",
       "1  Which natural attractions and caves can touris...  4f80b327\n",
       "2  Where in Andhra Pradesh can I visit museums re...  4f80b327\n",
       "3  What beaches and coastal towns in Andhra Prade...  4f80b327\n",
       "4  What are some recommended hill stations and fo...  4f80b327"
      ]
     },
     "metadata": {},
     "output_type": "display_data"
    }
   ],
   "source": [
    "display(df_ground_truth_filt.head())"
   ]
  },
  {
   "cell_type": "code",
   "execution_count": null,
   "id": "b2b698f6",
   "metadata": {},
   "outputs": [
    {
     "name": "stdout",
     "output_type": "stream",
     "text": [
      "Saved ground truth data to ../data/processed/ground-truth-retreival.csv\n"
     ]
    }
   ],
   "source": [
    "# Save to CSV\n",
    "df_ground_truth_filt.to_csv(output_csv, index=False)\n",
    "print(f\"Saved ground truth data to {output_csv}\")"
   ]
  },
  {
   "cell_type": "code",
   "execution_count": 109,
   "id": "4bb6766f",
   "metadata": {},
   "outputs": [],
   "source": [
    "# ------------------------------------------------------------\n",
    "# Save some statistics\n",
    "# ------------------------------------------------------------\n",
    "stats = {\n",
    "    'total_documents': len(documents),\n",
    "    'unique_documents': len(hashes),\n",
    "    'hash_collisions': collision_count,\n",
    "    'total_questions_generated': len(df_ground_truth),\n",
    "    'unique_locations': df_ground_truth['location'].nunique(),\n",
    "    'questions_per_location': len(df_ground_truth) / df_ground_truth['location'].nunique()\n",
    "}"
   ]
  },
  {
   "cell_type": "code",
   "execution_count": 110,
   "id": "2b35f5ce",
   "metadata": {},
   "outputs": [
    {
     "name": "stdout",
     "output_type": "stream",
     "text": [
      "{'total_documents': 149, 'unique_documents': 147, 'hash_collisions': 2, 'total_questions_generated': 735, 'unique_locations': 2, 'questions_per_location': 367.5}\n"
     ]
    }
   ],
   "source": [
    "print(stats)"
   ]
  }
 ],
 "metadata": {
  "kernelspec": {
   "display_name": "brahman_env",
   "language": "python",
   "name": "python3"
  },
  "language_info": {
   "codemirror_mode": {
    "name": "ipython",
    "version": 3
   },
   "file_extension": ".py",
   "mimetype": "text/x-python",
   "name": "python",
   "nbconvert_exporter": "python",
   "pygments_lexer": "ipython3",
   "version": "3.10.18"
  }
 },
 "nbformat": 4,
 "nbformat_minor": 5
}
