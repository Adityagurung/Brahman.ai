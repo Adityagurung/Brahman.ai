{
 "cells": [
  {
   "cell_type": "code",
   "execution_count": 1,
   "id": "b8f48bdd",
   "metadata": {},
   "outputs": [],
   "source": [
    "import torch\n",
    "import transformers"
   ]
  },
  {
   "cell_type": "code",
   "execution_count": 2,
   "id": "ac7ba98b",
   "metadata": {},
   "outputs": [],
   "source": [
    "import json\n",
    "import pandas as pd\n",
    "import numpy as np\n",
    "import seaborn as sns\n",
    "import matplotlib.pyplot as plt\n",
    "import os\n",
    "import random"
   ]
  },
  {
   "cell_type": "code",
   "execution_count": 3,
   "id": "2c2399c6",
   "metadata": {},
   "outputs": [],
   "source": [
    "from sentence_transformers import SentenceTransformer\n",
    "from tqdm.auto import tqdm\n",
    "from openai import OpenAI\n",
    "from concurrent.futures import ThreadPoolExecutor"
   ]
  },
  {
   "cell_type": "code",
   "execution_count": 4,
   "id": "ff81a473",
   "metadata": {},
   "outputs": [
    {
     "name": "stderr",
     "output_type": "stream",
     "text": [
      "Some weights of BertModel were not initialized from the model checkpoint at jinaai/jina-embeddings-v2-small-en and are newly initialized: ['embeddings.position_embeddings.weight', 'encoder.layer.0.intermediate.dense.bias', 'encoder.layer.0.intermediate.dense.weight', 'encoder.layer.0.output.LayerNorm.bias', 'encoder.layer.0.output.LayerNorm.weight', 'encoder.layer.0.output.dense.bias', 'encoder.layer.0.output.dense.weight', 'encoder.layer.1.intermediate.dense.bias', 'encoder.layer.1.intermediate.dense.weight', 'encoder.layer.1.output.LayerNorm.bias', 'encoder.layer.1.output.LayerNorm.weight', 'encoder.layer.1.output.dense.bias', 'encoder.layer.1.output.dense.weight', 'encoder.layer.2.intermediate.dense.bias', 'encoder.layer.2.intermediate.dense.weight', 'encoder.layer.2.output.LayerNorm.bias', 'encoder.layer.2.output.LayerNorm.weight', 'encoder.layer.2.output.dense.bias', 'encoder.layer.2.output.dense.weight', 'encoder.layer.3.intermediate.dense.bias', 'encoder.layer.3.intermediate.dense.weight', 'encoder.layer.3.output.LayerNorm.bias', 'encoder.layer.3.output.LayerNorm.weight', 'encoder.layer.3.output.dense.bias', 'encoder.layer.3.output.dense.weight']\n",
      "You should probably TRAIN this model on a down-stream task to be able to use it for predictions and inference.\n"
     ]
    }
   ],
   "source": [
    "from sentence_transformers import SentenceTransformer\n",
    "model = SentenceTransformer(\"jinaai/jina-embeddings-v2-small-en\")"
   ]
  },
  {
   "cell_type": "code",
   "execution_count": 5,
   "id": "abecb06a",
   "metadata": {},
   "outputs": [
    {
     "name": "stdout",
     "output_type": "stream",
     "text": [
      "Loaded 149 documents and 735 ground truth questions\n"
     ]
    }
   ],
   "source": [
    "# Load documents from processed JSON file\n",
    "with open('../data/processed/documents-with-ids.json', 'r') as f:\n",
    "    documents = json.load(f)\n",
    "\n",
    "# Load ground truth dataset for evaluation from CSV file\n",
    "df_ground_truth = pd.read_csv('../data/processed/ground-truth-retrieval.csv')\n",
    "ground_truth = df_ground_truth.to_dict(orient='records')\n",
    "\n",
    "print(f\"Loaded {len(documents)} documents and {len(ground_truth)} ground truth questions\")"
   ]
  },
  {
   "cell_type": "code",
   "execution_count": 6,
   "id": "979776da",
   "metadata": {},
   "outputs": [
    {
     "data": {
      "text/plain": [
       "{'location': 'Andhra_Pradesh',\n",
       " 'doc_id': 'd4402d82c0',\n",
       " 'content': \"Andhra Pradesh is known for its rich history, architecture and culture. Andhra Pradesh has a variety of tourist attractions including beaches, hills, wildlife, forests and temples. Like rest of the Southern India, the culture of Andhra Pradesh is essentially Dravidian, quite different from North India's Sanskrit Hindu culture. Andhra Pradesh was part of the British Madras presidency and then independent India's Madras State until 1953, when Andhra State was formed, with the capital being\",\n",
       " 'id': '450a9d36'}"
      ]
     },
     "execution_count": 6,
     "metadata": {},
     "output_type": "execute_result"
    }
   ],
   "source": [
    "documents[10]"
   ]
  },
  {
   "cell_type": "code",
   "execution_count": 7,
   "id": "938a7f50",
   "metadata": {},
   "outputs": [
    {
     "data": {
      "text/plain": [
       "{'question': 'What are the must-see religious temples to visit in Andhra Pradesh?',\n",
       " 'id': 'db0beb52'}"
      ]
     },
     "execution_count": 7,
     "metadata": {},
     "output_type": "execute_result"
    }
   ],
   "source": [
    "ground_truth[10]"
   ]
  },
  {
   "cell_type": "code",
   "execution_count": 8,
   "id": "d92f8c0c",
   "metadata": {},
   "outputs": [
    {
     "name": "stdout",
     "output_type": "stream",
     "text": [
      "Created merged dataset with 745 question-document pairs\n",
      "Sample merged record keys: ['question', 'id', 'location', 'doc_id', 'content']\n"
     ]
    }
   ],
   "source": [
    "# Create a merged dataframe by joining ground-truth with documents on 'id' column\n",
    "df_documents = pd.DataFrame(documents)\n",
    "df_merged = df_ground_truth.merge(df_documents, on='id', how='inner')\n",
    "merged_data = df_merged.to_dict(orient='records')\n",
    "with open('../data/processed/ques-docs-pairs.json', 'w') as f:\n",
    "    json.dump(merged_data, f, indent=2)\n",
    "    \n",
    "print(f\"Created merged dataset with {len(merged_data)} question-document pairs\")\n",
    "print(f\"Sample merged record keys: {list(merged_data[0].keys()) if merged_data else 'No data'}\")"
   ]
  },
  {
   "cell_type": "code",
   "execution_count": 9,
   "id": "f7da208f",
   "metadata": {},
   "outputs": [],
   "source": [
    "# Create document index for quick lookup\n",
    "doc_idx = {d['id']: d for d in documents}"
   ]
  },
  {
   "cell_type": "code",
   "execution_count": 10,
   "id": "314ed3f6",
   "metadata": {},
   "outputs": [
    {
     "data": {
      "text/plain": [
       "'Northern Coast (Alluri Sitharama Raju, Anakapalli, East Godavari, Kakinada, Konaseema, Parvathipuram Manyam, Srikakulam, Visakhapatnam, Vizianagaram, Yanam) Central Coast (Eluru, Krishna, NTR, West Godavari) Southern Coast (Bapatla, Guntur, Nellore, Palnadu, Prakasam, Tirupati) Rayalaseema (Annamayya, Anantapur, Chittoor, Kadapa, Kurnool, Nandyal, Sri Sathya Sai)  \\n![0_image_1.png](0_image_1.png) interactive map'"
      ]
     },
     "execution_count": 10,
     "metadata": {},
     "output_type": "execute_result"
    }
   ],
   "source": [
    "doc_idx['db0beb52']['content']"
   ]
  },
  {
   "cell_type": "markdown",
   "id": "97e562ce",
   "metadata": {},
   "source": [
    " #### Index data"
   ]
  },
  {
   "cell_type": "code",
   "execution_count": 11,
   "id": "12241af7",
   "metadata": {},
   "outputs": [],
   "source": [
    "# We'll generate embeddings using [the sentence transformers](https://sbert.net/) library, if you don't have it, install it with pip:\n",
    "# !pip install sentence-transformers"
   ]
  },
  {
   "cell_type": "code",
   "execution_count": 12,
   "id": "8cc82898",
   "metadata": {},
   "outputs": [],
   "source": [
    "# Initialize sentence transformer model\n",
    "model_name = 'multi-qa-MiniLM-L6-cos-v1'\n",
    "model = SentenceTransformer(model_name)"
   ]
  },
  {
   "cell_type": "code",
   "execution_count": 13,
   "id": "4a2ba7e6",
   "metadata": {},
   "outputs": [
    {
     "data": {
      "application/vnd.jupyter.widget-view+json": {
       "model_id": "906ba0975dc94cfcb28c65b78f9e6761",
       "version_major": 2,
       "version_minor": 0
      },
      "text/plain": [
       "  0%|          | 0/149 [00:00<?, ?it/s]"
      ]
     },
     "metadata": {},
     "output_type": "display_data"
    }
   ],
   "source": [
    "# Generate vectors for all documents\n",
    "vectors = []\n",
    "for doc in tqdm(documents):\n",
    "    # Use content field instead of question + text\n",
    "    content = doc['content']\n",
    "    vector = model.encode(content)\n",
    "    vectors.append(vector)\n",
    "\n",
    "vectors = np.array(vectors)"
   ]
  },
  {
   "cell_type": "code",
   "execution_count": 14,
   "id": "e7f50e55",
   "metadata": {},
   "outputs": [
    {
     "data": {
      "text/plain": [
       "<minsearch.vector.VectorSearch at 0x2b3415f6320>"
      ]
     },
     "execution_count": 14,
     "metadata": {},
     "output_type": "execute_result"
    }
   ],
   "source": [
    "# Create vector search index\n",
    "from minsearch import VectorSearch\n",
    "\n",
    "vindex = VectorSearch(keyword_fields=['location'])\n",
    "vindex.fit(vectors, documents)"
   ]
  },
  {
   "cell_type": "markdown",
   "id": "d0cb6f1c",
   "metadata": {},
   "source": [
    "### Retrieval\n"
   ]
  },
  {
   "cell_type": "code",
   "execution_count": 15,
   "id": "4e2a3ae6",
   "metadata": {},
   "outputs": [],
   "source": [
    "def minsearch_vector_search(vector, location):\n",
    "    return vindex.search(\n",
    "        vector,\n",
    "        filter_dict={'location': location},\n",
    "        num_results=5\n",
    "    )\n",
    "\n",
    "def question_text_vector(q):\n",
    "    question = q['question']\n",
    "    location = q.get('location', None)  # Get location if available, otherwise None\n",
    "    v_q = model.encode(question)\n",
    "    \n",
    "    if location:\n",
    "        return minsearch_vector_search(v_q, location)\n",
    "    else:\n",
    "        # If no location specified, search without filter\n",
    "        return vindex.search(v_q, num_results=5)"
   ]
  },
  {
   "cell_type": "code",
   "execution_count": 16,
   "id": "671e5606",
   "metadata": {},
   "outputs": [
    {
     "name": "stdout",
     "output_type": "stream",
     "text": [
      "Found 5 relevant documents\n"
     ]
    }
   ],
   "source": [
    "# Test vector search functionality\n",
    "test_question = {\n",
    "    'question': 'What are the must-see religious sites in Andhra Pradesh?',\n",
    "}\n",
    "search_results = question_text_vector(test_question)\n",
    "print(f\"Found {len(search_results)} relevant documents\")"
   ]
  },
  {
   "cell_type": "code",
   "execution_count": 17,
   "id": "b44dfc4f",
   "metadata": {},
   "outputs": [
    {
     "data": {
      "text/plain": [
       "[{'location': 'Andhra_Pradesh',\n",
       "  'doc_id': 'd4402d82c0',\n",
       "  'content': 'Andhra Pradesh (AP) is a state in Southern India, with Bay of Bengal on the east and shares boundaries with Telangana on the north, Chhattisgarh and Odisha on the north-east, Tamil Nadu on the south and Karnataka on the west. Vijayawada is the capital of this state.',\n",
       "  'id': 'a411c9aa'},\n",
       " {'location': 'Andhra_Pradesh',\n",
       "  'doc_id': 'd4402d82c0',\n",
       "  'content': \"Andhra Pradesh is known for its rich history, architecture and culture. Andhra Pradesh has a variety of tourist attractions including beaches, hills, wildlife, forests and temples. Like rest of the Southern India, the culture of Andhra Pradesh is essentially Dravidian, quite different from North India's Sanskrit Hindu culture. Andhra Pradesh was part of the British Madras presidency and then independent India's Madras State until 1953, when Andhra State was formed, with the capital being\",\n",
       "  'id': '450a9d36'},\n",
       " {'location': 'Andhra_Pradesh',\n",
       "  'doc_id': '9eb5245053',\n",
       "  'content': 'the most attractive city in Andhra Pradesh, with exotic resorts near beaches 7 8 9',\n",
       "  'id': '3ed17fb0'},\n",
       " {'location': 'Andhra_Pradesh',\n",
       "  'doc_id': 'ed240be0ed',\n",
       "  'content': 'Amaravati - the capital of Andhra Pradesh which covers the areas that have Buddhist sites Anantapur - a city well connected by road and rail with the city and nearby attractions Guntur - the third largest city in Andhra Pradesh and home to many ancient and archaeological sites and temples Kurnool - the site of Konda Reddy Fort Nellore - a combination of religion, nature, and history Rajahmundry - known as the cultural capital of Andhra Pradesh, noted for its versatile Vedic culture and',\n",
       "  'id': '4de0caea'},\n",
       " {'location': 'Andhra_Pradesh',\n",
       "  'doc_id': 'd4402d82c0',\n",
       "  'content': 'Odisha Karnataka Tamil Nadu Telangana Retrieved from \"https://en.wikivoyage.org/w/index.php?title=Andhra_Pradesh&oldid=5081274\"',\n",
       "  'id': 'b184cf08'}]"
      ]
     },
     "execution_count": 17,
     "metadata": {},
     "output_type": "execute_result"
    }
   ],
   "source": [
    "search_results"
   ]
  },
  {
   "cell_type": "markdown",
   "id": "89b17141",
   "metadata": {},
   "source": [
    "#### The RAG flow with Travel Assistant Prompt"
   ]
  },
  {
   "cell_type": "code",
   "execution_count": 18,
   "id": "176dbdf1",
   "metadata": {},
   "outputs": [],
   "source": [
    "def build_prompt(query, search_results):\n",
    "    prompt_template = \"\"\"\n",
    "You're a travel assistant bot that helps users plan their itinerary and discover amazing places to visit.\n",
    "Answer the QUESTION based on the CONTEXT from the travel database.\n",
    "Use only the facts from the CONTEXT when answering the QUESTION.\n",
    "\n",
    "When answering, consider:\n",
    "- Must-visit tourist attractions and landmarks\n",
    "- Cultural experiences and local traditions  \n",
    "- Historical significance of places\n",
    "- Best times to visit and travel tips\n",
    "- Local cuisine and specialties (if mentioned in context)\n",
    "- Transportation and accessibility information (if available)\n",
    "\n",
    "QUESTION: {question}\n",
    "\n",
    "CONTEXT: \n",
    "{context}\n",
    "\"\"\".strip()\n",
    "\n",
    "    context = \"\"\n",
    "    for doc in search_results:\n",
    "        location = doc.get('location', 'Unknown')\n",
    "        content = doc.get('content', doc.get('text', ''))  # Handle both content and text fields\n",
    "        context = context + f\"location: {location}\\ncontent: {content}\\n\\n\"\n",
    "    \n",
    "    prompt = prompt_template.format(question=query, context=context).strip()\n",
    "    return prompt"
   ]
  },
  {
   "cell_type": "code",
   "execution_count": 19,
   "id": "b8b6c7fb",
   "metadata": {},
   "outputs": [],
   "source": [
    "# Initialize OpenAI client\n",
    "client = OpenAI()"
   ]
  },
  {
   "cell_type": "code",
   "execution_count": 20,
   "id": "854e24eb",
   "metadata": {},
   "outputs": [],
   "source": [
    "def llm(prompt, model='gpt-4o'):\n",
    "    response = client.chat.completions.create(\n",
    "        model=model,\n",
    "        messages=[{\"role\": \"user\", \"content\": prompt}]\n",
    "    )\n",
    "    return response.choices[0].message.content"
   ]
  },
  {
   "cell_type": "code",
   "execution_count": 21,
   "id": "fa4f7ae3",
   "metadata": {},
   "outputs": [],
   "source": [
    "def rag(query: dict, model='gpt-4o') -> str:\n",
    "    search_results = question_text_vector(query)\n",
    "    prompt = build_prompt(query['question'], search_results)\n",
    "    answer = llm(prompt, model=model)\n",
    "    return answer"
   ]
  },
  {
   "cell_type": "markdown",
   "id": "33872cf6",
   "metadata": {},
   "source": [
    "#### Evaluation Across All Models"
   ]
  },
  {
   "cell_type": "code",
   "execution_count": null,
   "id": "64e1994c",
   "metadata": {},
   "outputs": [
    {
     "name": "stdout",
     "output_type": "stream",
     "text": [
      "Selected 25 random questions for evaluation\n",
      "Sample questions:\n",
      "1. Do foreign travelers need a visa and passport to visit Karnataka?\n",
      "2. What is the historical importance of Penukonda in the context of the Vijayanagara empire?\n",
      "3. What are the main cultural and spiritual centers to visit in Andhra Pradesh?\n",
      "4. Which species of animals and birds might I encounter in Bandipur National Park?\n",
      "5. What are some must-visit cultural and natural attractions in Karnataka?\n"
     ]
    }
   ],
   "source": [
    "# Select 25 random samples for evaluation across all models\n",
    "random.seed(42)  # Set seed for reproducibility\n",
    "sample_size = min(25, len(ground_truth))  # Use 25 or total available, whichever is smaller\n",
    "sample_indices = random.sample(range(len(ground_truth)), sample_size)\n",
    "sample_questions = [ground_truth[i] for i in sample_indices]\n",
    "\n",
    "print(f\"Selected {len(sample_questions)} random questions for evaluation\")\n",
    "print(\"Sample questions:\")\n",
    "for i, q in enumerate(sample_questions[:5]):  # Show first 5 samples\n",
    "    print(f\"{i+1}. {q['question']}\")"
   ]
  },
  {
   "cell_type": "code",
   "execution_count": 23,
   "id": "838b3f76",
   "metadata": {},
   "outputs": [
    {
     "name": "stdout",
     "output_type": "stream",
     "text": [
      "Prepared 25 question dictionaries for evaluation\n"
     ]
    }
   ],
   "source": [
    "# Prepare sample questions with their corresponding documents\n",
    "sample_question_dicts = []\n",
    "for sample_question in sample_questions:\n",
    "    doc_id = sample_question['id']\n",
    "    original_doc = doc_idx[doc_id]\n",
    "    sample_location = original_doc.get('location', 'Unknown')\n",
    "    \n",
    "    question_dict = {\n",
    "        'question': sample_question['question'],\n",
    "        'location': sample_location,\n",
    "        'id': doc_id,\n",
    "        'answer_orig': original_doc['content']\n",
    "    }\n",
    "    sample_question_dicts.append(question_dict)\n",
    "\n",
    "print(f\"Prepared {len(sample_question_dicts)} question dictionaries for evaluation\")"
   ]
  },
  {
   "cell_type": "code",
   "execution_count": 24,
   "id": "65a19f7b",
   "metadata": {},
   "outputs": [
    {
     "name": "stdout",
     "output_type": "stream",
     "text": [
      "\n",
      "Testing model: gpt-3.5-turbo\n"
     ]
    },
    {
     "data": {
      "application/vnd.jupyter.widget-view+json": {
       "model_id": "62d0b1919bec4cd3a8d1206ae69156a3",
       "version_major": 2,
       "version_minor": 0
      },
      "text/plain": [
       "Processing gpt-3.5-turbo:   0%|          | 0/25 [00:00<?, ?it/s]"
      ]
     },
     "metadata": {},
     "output_type": "display_data"
    },
    {
     "name": "stdout",
     "output_type": "stream",
     "text": [
      "Completed 25 evaluations for gpt-3.5-turbo\n",
      "\n",
      "Testing model: gpt-4o\n"
     ]
    },
    {
     "data": {
      "application/vnd.jupyter.widget-view+json": {
       "model_id": "60508f713b8c4a35be7ca4b1f9da2af0",
       "version_major": 2,
       "version_minor": 0
      },
      "text/plain": [
       "Processing gpt-4o:   0%|          | 0/25 [00:00<?, ?it/s]"
      ]
     },
     "metadata": {},
     "output_type": "display_data"
    },
    {
     "name": "stdout",
     "output_type": "stream",
     "text": [
      "Completed 25 evaluations for gpt-4o\n",
      "\n",
      "Testing model: gpt-4o-mini\n"
     ]
    },
    {
     "data": {
      "application/vnd.jupyter.widget-view+json": {
       "model_id": "075d36d123074020bc5c0bdae67bc97b",
       "version_major": 2,
       "version_minor": 0
      },
      "text/plain": [
       "Processing gpt-4o-mini:   0%|          | 0/25 [00:00<?, ?it/s]"
      ]
     },
     "metadata": {},
     "output_type": "display_data"
    },
    {
     "name": "stdout",
     "output_type": "stream",
     "text": [
      "Completed 25 evaluations for gpt-4o-mini\n",
      "\n",
      "Total results generated: 75\n"
     ]
    }
   ],
   "source": [
    "# Test all GPT models on the 25 sample questions\n",
    "models_to_test = ['gpt-3.5-turbo', 'gpt-4o', 'gpt-4o-mini']\n",
    "multiple_example_results = []\n",
    "\n",
    "for model_name in models_to_test:\n",
    "    print(f\"\\nTesting model: {model_name}\")\n",
    "    model_results = []\n",
    "    \n",
    "    for i, sample_question_dict in enumerate(tqdm(sample_question_dicts, desc=f\"Processing {model_name}\")):\n",
    "        try:\n",
    "            answer_llm = rag(sample_question_dict, model=model_name)\n",
    "            \n",
    "            result = {\n",
    "                'model': model_name,\n",
    "                'question_index': i,\n",
    "                'question': sample_question_dict['question'],\n",
    "                'location': sample_question_dict['location'],\n",
    "                'document_id': sample_question_dict['id'],\n",
    "                'answer_orig': sample_question_dict['answer_orig'],\n",
    "                'answer_llm': answer_llm\n",
    "            }\n",
    "            model_results.append(result)\n",
    "            multiple_example_results.append(result)\n",
    "            \n",
    "        except Exception as e:\n",
    "            print(f\"Error with model {model_name} on question {i}: {e}\")\n",
    "            continue\n",
    "    \n",
    "    print(f\"Completed {len(model_results)} evaluations for {model_name}\")\n",
    "\n",
    "print(f\"\\nTotal results generated: {len(multiple_example_results)}\")\n"
   ]
  },
  {
   "cell_type": "code",
   "execution_count": 25,
   "id": "e0438275",
   "metadata": {},
   "outputs": [
    {
     "name": "stdout",
     "output_type": "stream",
     "text": [
      "Created DataFrame with shape: (75, 7)\n"
     ]
    },
    {
     "data": {
      "text/html": [
       "<div>\n",
       "<style scoped>\n",
       "    .dataframe tbody tr th:only-of-type {\n",
       "        vertical-align: middle;\n",
       "    }\n",
       "\n",
       "    .dataframe tbody tr th {\n",
       "        vertical-align: top;\n",
       "    }\n",
       "\n",
       "    .dataframe thead th {\n",
       "        text-align: right;\n",
       "    }\n",
       "</style>\n",
       "<table border=\"1\" class=\"dataframe\">\n",
       "  <thead>\n",
       "    <tr style=\"text-align: right;\">\n",
       "      <th></th>\n",
       "      <th>model</th>\n",
       "      <th>question_index</th>\n",
       "      <th>question</th>\n",
       "      <th>location</th>\n",
       "      <th>document_id</th>\n",
       "      <th>answer_orig</th>\n",
       "      <th>answer_llm</th>\n",
       "    </tr>\n",
       "  </thead>\n",
       "  <tbody>\n",
       "    <tr>\n",
       "      <th>0</th>\n",
       "      <td>gpt-3.5-turbo</td>\n",
       "      <td>0</td>\n",
       "      <td>Do foreign travelers need a visa and passport ...</td>\n",
       "      <td>Karnataka</td>\n",
       "      <td>7adcc584</td>\n",
       "      <td>of India. Served with brinjal curry (various t...</td>\n",
       "      <td>No, foreign travelers do not need a visa and p...</td>\n",
       "    </tr>\n",
       "    <tr>\n",
       "      <th>1</th>\n",
       "      <td>gpt-3.5-turbo</td>\n",
       "      <td>1</td>\n",
       "      <td>What is the historical importance of Penukonda...</td>\n",
       "      <td>Andhra_Pradesh</td>\n",
       "      <td>032385d9</td>\n",
       "      <td>a holy city with many temples Penukonda - Summ...</td>\n",
       "      <td>Penukonda holds historical importance as the s...</td>\n",
       "    </tr>\n",
       "    <tr>\n",
       "      <th>2</th>\n",
       "      <td>gpt-3.5-turbo</td>\n",
       "      <td>2</td>\n",
       "      <td>What are the main cultural and spiritual cente...</td>\n",
       "      <td>Andhra_Pradesh</td>\n",
       "      <td>dceae12c</td>\n",
       "      <td>- known as the cultural capital of Andhra Prad...</td>\n",
       "      <td>The main cultural and spiritual centers to vis...</td>\n",
       "    </tr>\n",
       "    <tr>\n",
       "      <th>3</th>\n",
       "      <td>gpt-3.5-turbo</td>\n",
       "      <td>3</td>\n",
       "      <td>Which species of animals and birds might I enc...</td>\n",
       "      <td>Karnataka</td>\n",
       "      <td>2ffbfa3d</td>\n",
       "      <td>Wildlife in Karnataka is administered under su...</td>\n",
       "      <td>In Bandipur National Park in Karnataka, you ma...</td>\n",
       "    </tr>\n",
       "    <tr>\n",
       "      <th>4</th>\n",
       "      <td>gpt-3.5-turbo</td>\n",
       "      <td>4</td>\n",
       "      <td>What are some must-visit cultural and natural ...</td>\n",
       "      <td>Karnataka</td>\n",
       "      <td>56d1a83b</td>\n",
       "      <td>Below is a selective list of sites of interest...</td>\n",
       "      <td>Some must-visit cultural and natural attractio...</td>\n",
       "    </tr>\n",
       "  </tbody>\n",
       "</table>\n",
       "</div>"
      ],
      "text/plain": [
       "           model  question_index  \\\n",
       "0  gpt-3.5-turbo               0   \n",
       "1  gpt-3.5-turbo               1   \n",
       "2  gpt-3.5-turbo               2   \n",
       "3  gpt-3.5-turbo               3   \n",
       "4  gpt-3.5-turbo               4   \n",
       "\n",
       "                                            question        location  \\\n",
       "0  Do foreign travelers need a visa and passport ...       Karnataka   \n",
       "1  What is the historical importance of Penukonda...  Andhra_Pradesh   \n",
       "2  What are the main cultural and spiritual cente...  Andhra_Pradesh   \n",
       "3  Which species of animals and birds might I enc...       Karnataka   \n",
       "4  What are some must-visit cultural and natural ...       Karnataka   \n",
       "\n",
       "  document_id                                        answer_orig  \\\n",
       "0    7adcc584  of India. Served with brinjal curry (various t...   \n",
       "1    032385d9  a holy city with many temples Penukonda - Summ...   \n",
       "2    dceae12c  - known as the cultural capital of Andhra Prad...   \n",
       "3    2ffbfa3d  Wildlife in Karnataka is administered under su...   \n",
       "4    56d1a83b  Below is a selective list of sites of interest...   \n",
       "\n",
       "                                          answer_llm  \n",
       "0  No, foreign travelers do not need a visa and p...  \n",
       "1  Penukonda holds historical importance as the s...  \n",
       "2  The main cultural and spiritual centers to vis...  \n",
       "3  In Bandipur National Park in Karnataka, you ma...  \n",
       "4  Some must-visit cultural and natural attractio...  "
      ]
     },
     "metadata": {},
     "output_type": "display_data"
    }
   ],
   "source": [
    "# Save multiple example results\n",
    "df_multiple_examples = pd.DataFrame(multiple_example_results)\n",
    "print(f\"Created DataFrame with shape: {df_multiple_examples.shape}\")\n",
    "display(df_multiple_examples.head())"
   ]
  },
  {
   "cell_type": "code",
   "execution_count": 26,
   "id": "bcf40a8d",
   "metadata": {},
   "outputs": [
    {
     "name": "stdout",
     "output_type": "stream",
     "text": [
      "Saved multiple example results to: results/multiple_examples_comparison.csv\n"
     ]
    }
   ],
   "source": [
    "df_multiple_examples.to_csv('../results/multiple_examples_comparison.csv', index=False)\n",
    "print(\"Saved multiple example results to: results/multiple_examples_comparison.csv\")"
   ]
  },
  {
   "cell_type": "markdown",
   "id": "d810719e",
   "metadata": {},
   "source": [
    "#### Cosine Similarity Metric "
   ]
  },
  {
   "cell_type": "code",
   "execution_count": 27,
   "id": "ba1bb080",
   "metadata": {},
   "outputs": [],
   "source": [
    "def compute_similarity(record):\n",
    "    \"\"\"Calculate cosine similarity between original and LLM answers\"\"\"\n",
    "    answer_orig = record['answer_orig']\n",
    "    answer_llm = record['answer_llm']\n",
    "    \n",
    "    v_llm = model.encode(answer_llm)\n",
    "    v_orig = model.encode(answer_orig)\n",
    "    \n",
    "    return v_llm.dot(v_orig)"
   ]
  },
  {
   "cell_type": "code",
   "execution_count": 28,
   "id": "36f68382",
   "metadata": {},
   "outputs": [
    {
     "name": "stdout",
     "output_type": "stream",
     "text": [
      "Computing cosine similarities for all results...\n"
     ]
    },
    {
     "data": {
      "application/vnd.jupyter.widget-view+json": {
       "model_id": "337660927f244189826caeb2df391156",
       "version_major": 2,
       "version_minor": 0
      },
      "text/plain": [
       "Computing similarities:   0%|          | 0/75 [00:00<?, ?it/s]"
      ]
     },
     "metadata": {},
     "output_type": "display_data"
    },
    {
     "name": "stdout",
     "output_type": "stream",
     "text": [
      "Computed 75 similarity scores\n"
     ]
    }
   ],
   "source": [
    "# Calculate cosine similarities for all results\n",
    "print(\"Computing cosine similarities for all results...\")\n",
    "cosine_similarities = []\n",
    "\n",
    "for result in tqdm(multiple_example_results, desc=\"Computing similarities\"):\n",
    "    try:\n",
    "        similarity = compute_similarity(result)\n",
    "        cosine_similarities.append({\n",
    "            'model': result['model'],\n",
    "            'question_index': result['question_index'],\n",
    "            'cosine_similarity': similarity,\n",
    "            'question': result['question'],\n",
    "            'document_id': result['document_id']\n",
    "        })\n",
    "    except Exception as e:\n",
    "        print(f\"Error computing similarity for {result['model']} question {result['question_index']}: {e}\")\n",
    "\n",
    "print(f\"Computed {len(cosine_similarities)} similarity scores\")"
   ]
  },
  {
   "cell_type": "code",
   "execution_count": 46,
   "id": "c44c4354",
   "metadata": {},
   "outputs": [],
   "source": [
    "# Create aggregated statistics by model\n",
    "df_similarities = pd.DataFrame(cosine_similarities)"
   ]
  },
  {
   "cell_type": "code",
   "execution_count": 73,
   "id": "0f42fc8e",
   "metadata": {},
   "outputs": [
    {
     "name": "stdout",
     "output_type": "stream",
     "text": [
      "Cosine Similarity Statistics by Model:\n",
      "         count    mean     std     min     max  median\n",
      "model                                                 \n",
      "Model A     66  0.7565  0.0509  0.6341  0.9031  0.7530\n",
      "Model B     61  0.7570  0.0481  0.6532  0.8892  0.7555\n",
      "Model C     73  0.7413  0.0477  0.6453  0.8487  0.7366\n"
     ]
    }
   ],
   "source": [
    "# Calculate statistics for each model\n",
    "similarity_stats = df_similarities.groupby('model')['cosine_similarity'].agg([\n",
    "    'count', 'mean', 'std', 'min', 'max', 'median'\n",
    "]).round(4)\n",
    "\n",
    "print(\"Cosine Similarity Statistics by Model:\")\n",
    "print(similarity_stats)"
   ]
  },
  {
   "cell_type": "code",
   "execution_count": 63,
   "id": "a257649b",
   "metadata": {},
   "outputs": [
    {
     "data": {
      "image/png": "[encoded data removed]",
      "text/plain": [
       "<Figure size 1600x1200 with 4 Axes>"
      ]
     },
     "metadata": {},
     "output_type": "display_data"
    }
   ],
   "source": [
    "# Create comprehensive visualization for cosine similarities\n",
    "fig, ((ax1, ax2), (ax3, ax4)) = plt.subplots(2, 2, figsize=(16, 12))\n",
    "plt.style.use('default')\n",
    "\n",
    "# 1. Average cosine similarity by model (Bar chart)\n",
    "avg_similarities = df_similarities.groupby('model')['cosine_similarity'].mean()\n",
    "colors = [\"#B85D5D\", \"#29D4C9\", \"#89D145\"]\n",
    "bars = ax1.bar(avg_similarities.index, avg_similarities.values, \n",
    "               color=colors, alpha=0.55, edgecolor='black', linewidth=1.2)\n",
    "\n",
    "ax1.set_title('Average Cosine Similarity by Model', \n",
    "              fontsize=14, fontweight='bold')\n",
    "ax1.set_xlabel('Language Model', fontsize=12, fontweight='bold')\n",
    "ax1.set_ylabel('Average Cosine Similarity', fontsize=12, fontweight='bold')\n",
    "ax1.grid(axis='y', alpha=0.3, linestyle='--')\n",
    "\n",
    "# Add value labels on bars\n",
    "for bar, avg in zip(bars, avg_similarities.values):\n",
    "    ax1.text(bar.get_x() + bar.get_width()/2, bar.get_height() + 0.01, \n",
    "             f'{avg:.3f}', ha='center', va='bottom', \n",
    "             fontsize=11, fontweight='bold')\n",
    "\n",
    "# 2. Box plot showing distribution of similarities\n",
    "df_similarities.boxplot(column='cosine_similarity', by='model', ax=ax2)\n",
    "ax2.set_title('Distribution of Cosine Similarities by Model')\n",
    "ax2.set_xlabel('Language Model', fontsize=12, fontweight='bold')\n",
    "ax2.set_ylabel('Cosine Similarity', fontsize=12, fontweight='bold')\n",
    "plt.setp(ax2, title='')  # Remove default boxplot title\n",
    "\n",
    "# 3. Histogram of all similarities\n",
    "ax3.hist([df_similarities[df_similarities['model'] == model]['cosine_similarity'] \n",
    "          for model in models_to_test], \n",
    "         bins=15, alpha=0.7, label=models_to_test, color=colors)\n",
    "ax3.set_title('Distribution of All Cosine Similarities', fontsize=14, fontweight='bold')\n",
    "ax3.set_xlabel('Cosine Similarity Score', fontsize=12)\n",
    "ax3.set_ylabel('Frequency', fontsize=12)\n",
    "ax3.legend()\n",
    "ax3.grid(alpha=0.3)\n",
    "\n",
    "# 4. Line plot showing similarities across questions\n",
    "for i, model in enumerate(models_to_test):\n",
    "    model_data = df_similarities[df_similarities['model'] == model].sort_values('question_index')\n",
    "    ax4.plot(model_data['question_index'], model_data['cosine_similarity'], \n",
    "             marker='o', label=model, color=colors[i], linewidth=2, markersize=4)\n",
    "\n",
    "ax4.set_title('Cosine Similarity Across Questions by Model', fontsize=14, fontweight='bold')\n",
    "ax4.set_xlabel('Question Index', fontsize=12)\n",
    "ax4.set_ylabel('Cosine Similarity', fontsize=12)\n",
    "ax4.legend()\n",
    "ax4.grid(alpha=0.3)\n",
    "\n",
    "plt.tight_layout()\n",
    "plt.savefig('../images/cosine_similarity_multiple_examples.png', dpi=300, bbox_inches='tight', \n",
    "            facecolor='white', edgecolor='none')\n",
    "plt.show()"
   ]
  },
  {
   "cell_type": "code",
   "execution_count": 32,
   "id": "6d25c960",
   "metadata": {},
   "outputs": [
    {
     "name": "stdout",
     "output_type": "stream",
     "text": [
      "Saved detailed similarities to: results/cosine_similarities_multiple.csv\n",
      "Saved summary statistics to: results/cosine_similarity_stats.csv\n"
     ]
    }
   ],
   "source": [
    "# Save similarities to CSV\n",
    "df_similarities.to_csv('../results/cosine_similarities_multiple.csv', index=False)\n",
    "similarity_stats.to_csv('../results/cosine_similarity_stats.csv')\n",
    "print(\"Saved detailed similarities to: results/cosine_similarities_multiple.csv\")\n",
    "print(\"Saved summary statistics to: results/cosine_similarity_stats.csv\")"
   ]
  },
  {
   "cell_type": "markdown",
   "id": "5eb0a9cf",
   "metadata": {},
   "source": [
    "#### LLM-as-a-Judge Evaluation"
   ]
  },
  {
   "cell_type": "code",
   "execution_count": 33,
   "id": "308cd76e",
   "metadata": {},
   "outputs": [],
   "source": [
    "# LLM-as-a-Judge evaluation prompts\n",
    "prompt1_template = \"\"\"\n",
    "You are an expert evaluator for a Retrieval-Augmented Generation (RAG) system.\n",
    "Your task is to analyze the relevance of the generated answer compared to the original answer provided.\n",
    "Based on the relevance and similarity of the generated answer to the original answer, you will classify\n",
    "it as \"NON_RELEVANT\", \"PARTLY_RELEVANT\", or \"RELEVANT\".\n",
    "\n",
    "Here is the data for evaluation:\n",
    "\n",
    "Original Answer: {answer_orig}\n",
    "Generated Question: {question}\n",
    "Generated Answer: {answer_llm}\n",
    "\n",
    "Please analyze the content and context of the generated answer in relation to the original\n",
    "answer and provide your evaluation in parsable JSON without using code blocks:\n",
    "\n",
    "{{\n",
    "  \"Relevance\": \"NON_RELEVANT\" | \"PARTLY_RELEVANT\" | \"RELEVANT\",\n",
    "  \"Explanation\": \"[Provide a brief explanation for your evaluation]\"\n",
    "}}\n",
    "\"\"\".strip()\n",
    "\n",
    "prompt2_template = \"\"\"\n",
    "You are an expert evaluator for a Retrieval-Augmented Generation (RAG) system.\n",
    "Your task is to analyze the relevance of the generated answer to the given question.\n",
    "Based on the relevance of the generated answer, you will classify it\n",
    "as \"NON_RELEVANT\", \"PARTLY_RELEVANT\", or \"RELEVANT\".\n",
    "\n",
    "Here is the data for evaluation:\n",
    "\n",
    "Question: {question}\n",
    "Generated Answer: {answer_llm}\n",
    "\n",
    "Please analyze the content and context of the generated answer in relation to the question\n",
    "and provide your evaluation in parsable JSON without using code blocks:\n",
    "\n",
    "{{\n",
    "  \"Relevance\": \"NON_RELEVANT\" | \"PARTLY_RELEVANT\" | \"RELEVANT\",\n",
    "  \"Explanation\": \"[Provide a brief explanation for your evaluation]\"\n",
    "}}\n",
    "\"\"\".strip()"
   ]
  },
  {
   "cell_type": "markdown",
   "id": "263a32ec",
   "metadata": {},
   "source": [
    "#### Evaluate all models using LLM-as-a-Judge (A>Q>A evaluation)\n"
   ]
  },
  {
   "cell_type": "code",
   "execution_count": 34,
   "id": "46017790",
   "metadata": {},
   "outputs": [
    {
     "name": "stdout",
     "output_type": "stream",
     "text": [
      "Selected 75 results for LLM-as-a-Judge evaluation\n"
     ]
    }
   ],
   "source": [
    "# Sample a subset for evaluation to manage API costs (first 25 results per model)\n",
    "evaluation_sample_size = min(25, len(sample_questions))\n",
    "sample_results_for_eval = []\n",
    "\n",
    "for model in models_to_test:\n",
    "    model_results = [r for r in multiple_example_results if r['model'] == model][:evaluation_sample_size]\n",
    "    sample_results_for_eval.extend(model_results)\n",
    "\n",
    "print(f\"Selected {len(sample_results_for_eval)} results for LLM-as-a-Judge evaluation\")"
   ]
  },
  {
   "cell_type": "code",
   "execution_count": 35,
   "id": "085993a4",
   "metadata": {},
   "outputs": [
    {
     "name": "stdout",
     "output_type": "stream",
     "text": [
      "Running Answer-Question-Answer evaluations...\n"
     ]
    },
    {
     "data": {
      "application/vnd.jupyter.widget-view+json": {
       "model_id": "0148dec197c846de8884c4e662725b2b",
       "version_major": 2,
       "version_minor": 0
      },
      "text/plain": [
       "AQA Evaluation:   0%|          | 0/75 [00:00<?, ?it/s]"
      ]
     },
     "metadata": {},
     "output_type": "display_data"
    },
    {
     "name": "stdout",
     "output_type": "stream",
     "text": [
      "Completed 75 AQA evaluations\n"
     ]
    }
   ],
   "source": [
    "evaluations_aqa = []\n",
    "\n",
    "print(\"Running Answer-Question-Answer evaluations...\")\n",
    "for result in tqdm(sample_results_for_eval, desc=\"AQA Evaluation\"):\n",
    "    prompt = prompt1_template.format(**result)\n",
    "    try:\n",
    "        evaluation_str = llm(prompt, model='gpt-4o-mini')\n",
    "        evaluation = json.loads(evaluation_str)\n",
    "        evaluation['model'] = result['model']\n",
    "        evaluation['question_index'] = result['question_index']\n",
    "        evaluation['evaluation_type'] = 'Answer-Question-Answer'\n",
    "        evaluations_aqa.append(evaluation)\n",
    "    except (json.JSONDecodeError, Exception) as e:\n",
    "        print(f\"Failed to parse evaluation for model {result['model']}, question {result['question_index']}: {e}\")\n",
    "\n",
    "print(f\"Completed {len(evaluations_aqa)} AQA evaluations\")"
   ]
  },
  {
   "cell_type": "markdown",
   "id": "5bf627a6",
   "metadata": {},
   "source": [
    "#### Evaluate all models using LLM-as-a-Judge (Q>A evaluation)\n"
   ]
  },
  {
   "cell_type": "code",
   "execution_count": 36,
   "id": "d547873c",
   "metadata": {},
   "outputs": [
    {
     "name": "stdout",
     "output_type": "stream",
     "text": [
      "Running Question-Answer evaluations...\n"
     ]
    },
    {
     "data": {
      "application/vnd.jupyter.widget-view+json": {
       "model_id": "696b83c531014d80aa395ba9cea52465",
       "version_major": 2,
       "version_minor": 0
      },
      "text/plain": [
       "QA Evaluation:   0%|          | 0/75 [00:00<?, ?it/s]"
      ]
     },
     "metadata": {},
     "output_type": "display_data"
    },
    {
     "name": "stdout",
     "output_type": "stream",
     "text": [
      "Completed 75 QA evaluations\n"
     ]
    }
   ],
   "source": [
    "evaluations_qa = []\n",
    "\n",
    "print(\"Running Question-Answer evaluations...\")\n",
    "for result in tqdm(sample_results_for_eval, desc=\"QA Evaluation\"):\n",
    "    prompt = prompt2_template.format(**result)\n",
    "    try:\n",
    "        evaluation_str = llm(prompt, model='gpt-4o-mini')\n",
    "        evaluation = json.loads(evaluation_str)\n",
    "        evaluation['model'] = result['model']\n",
    "        evaluation['question_index'] = result['question_index']\n",
    "        evaluation['evaluation_type'] = 'Question-Answer'\n",
    "        evaluations_qa.append(evaluation)\n",
    "    except (json.JSONDecodeError, Exception) as e:\n",
    "        print(f\"Failed to parse evaluation for model {result['model']}, question {result['question_index']}: {e}\")\n",
    "\n",
    "print(f\"Completed {len(evaluations_qa)} QA evaluations\")"
   ]
  },
  {
   "cell_type": "code",
   "execution_count": 37,
   "id": "96b70e8c",
   "metadata": {},
   "outputs": [],
   "source": [
    "# Combine all evaluations\n",
    "all_evaluations = evaluations_aqa + evaluations_qa\n",
    "df_evaluations = pd.DataFrame(all_evaluations)"
   ]
  },
  {
   "cell_type": "code",
   "execution_count": 38,
   "id": "cc4ec460",
   "metadata": {},
   "outputs": [
    {
     "name": "stdout",
     "output_type": "stream",
     "text": [
      "LLM-as-a-Judge Evaluation Summary:\n",
      "Relevance                             NON_RELEVANT  PARTLY_RELEVANT  RELEVANT\n",
      "evaluation_type        model                                                 \n",
      "Answer-Question-Answer gpt-3.5-turbo             7               13         5\n",
      "                       gpt-4o                    8                9         8\n",
      "                       gpt-4o-mini               9                8         8\n",
      "Question-Answer        gpt-3.5-turbo             1                4        20\n",
      "                       gpt-4o                    1                5        19\n",
      "                       gpt-4o-mini               0                3        22\n"
     ]
    }
   ],
   "source": [
    "# Display evaluation results summary\n",
    "print(\"LLM-as-a-Judge Evaluation Summary:\")\n",
    "evaluation_summary = df_evaluations.groupby(['evaluation_type', 'model', 'Relevance']).size().unstack(fill_value=0)\n",
    "print(evaluation_summary)"
   ]
  },
  {
   "cell_type": "code",
   "execution_count": 39,
   "id": "91e4516b",
   "metadata": {},
   "outputs": [
    {
     "name": "stdout",
     "output_type": "stream",
     "text": [
      "Saved LLM-as-a-Judge evaluations to: results/llm_as_a_judge_evaluations_multiple.csv\n"
     ]
    }
   ],
   "source": [
    "# Save LLM-as-a-Judge evaluations\n",
    "df_evaluations.to_csv('../results/llm_as_a_judge_evaluations_multiple.csv', index=False)\n",
    "print(\"Saved LLM-as-a-Judge evaluations to: results/llm_as_a_judge_evaluations_multiple.csv\")"
   ]
  },
  {
   "cell_type": "markdown",
   "id": "29d1ef86",
   "metadata": {},
   "source": [
    "#### Summary Results"
   ]
  },
  {
   "cell_type": "code",
   "execution_count": 45,
   "id": "e6079b4a",
   "metadata": {},
   "outputs": [
    {
     "name": "stdout",
     "output_type": "stream",
     "text": [
      "============================================================\n",
      "COMPREHENSIVE EVALUATION SUMMARY (25 Random Questions)\n",
      "============================================================\n",
      "\n",
      "DATASET INFO:\n",
      "   Total questions evaluated: 25\n",
      "   Total model responses: 75\n",
      "   Models tested: gpt-3.5-turbo, gpt-4o, gpt-4o-mini\n",
      "\n",
      "1. COSINE SIMILARITY STATISTICS:\n",
      "----------------------------------------\n",
      "   gpt-3.5-turbo:\n",
      "      Mean: 0.5429\n",
      "      Std:  0.1574\n",
      "      Min:  0.2907\n",
      "      Max:  0.9042\n",
      "      Median: 0.5662\n",
      "   gpt-4o:\n",
      "      Mean: 0.5562\n",
      "      Std:  0.1760\n",
      "      Min:  0.2679\n",
      "      Max:  0.8826\n",
      "      Median: 0.5335\n",
      "   gpt-4o-mini:\n",
      "      Mean: 0.5535\n",
      "      Std:  0.1779\n",
      "      Min:  0.2773\n",
      "      Max:  0.8788\n",
      "      Median: 0.5294\n",
      "\n",
      "2. LLM-as-a-JUDGE EVALUATION RESULTS:\n",
      "----------------------------------------\n",
      "\n",
      "   Answer-Question-Answer Relevance (Sample of 25 per model):\n",
      "   gpt-3.5-turbo:\n",
      "      NON_RELEVANT: 7\n",
      "      PARTLY_RELEVANT: 13\n",
      "      RELEVANT: 5\n",
      "   gpt-4o:\n",
      "      NON_RELEVANT: 8\n",
      "      PARTLY_RELEVANT: 9\n",
      "      RELEVANT: 8\n",
      "   gpt-4o-mini:\n",
      "      NON_RELEVANT: 9\n",
      "      PARTLY_RELEVANT: 8\n",
      "      RELEVANT: 8\n",
      "\n",
      "   Question-Answer Relevance (Sample of 25 per model):\n",
      "   gpt-3.5-turbo:\n",
      "      NON_RELEVANT: 1\n",
      "      PARTLY_RELEVANT: 4\n",
      "      RELEVANT: 20\n",
      "   gpt-4o:\n",
      "      NON_RELEVANT: 1\n",
      "      PARTLY_RELEVANT: 5\n",
      "      RELEVANT: 19\n",
      "   gpt-4o-mini:\n",
      "      PARTLY_RELEVANT: 3\n",
      "      RELEVANT: 22\n",
      "\n",
      "3. PERFORMANCE RANKING (by Average Cosine Similarity):\n",
      "----------------------------------------\n",
      "   🥇 gpt-4o: 0.5562\n",
      "   🥈 gpt-4o-mini: 0.5535\n",
      "   🥉 gpt-3.5-turbo: 0.5429\n",
      "\n",
      "4. FILES GENERATED:\n",
      "----------------------------------------\n",
      "   - results/multiple_examples_comparison.csv\n",
      "   - results/cosine_similarities_multiple.csv\n",
      "   - results/cosine_similarity_stats.csv\n",
      "   - results/llm_as_a_judge_evaluations_multiple.csv\n",
      "   - data/processed/ques-docs-pairs.json\n",
      "\n",
      "============================================================\n"
     ]
    }
   ],
   "source": [
    "# Create comprehensive summary report\n",
    "print(\"=\" * 60)\n",
    "print(\"COMPREHENSIVE EVALUATION SUMMARY (25 Random Questions)\")\n",
    "print(\"=\" * 60)\n",
    "\n",
    "print(f\"\\nDATASET INFO:\")\n",
    "print(f\"   Total questions evaluated: {len(sample_questions)}\")\n",
    "print(f\"   Total model responses: {len(multiple_example_results)}\")\n",
    "print(f\"   Models tested: {', '.join(models_to_test)}\")\n",
    "\n",
    "print(f\"\\n1. COSINE SIMILARITY STATISTICS:\")\n",
    "print(\"-\" * 40)\n",
    "for model in models_to_test:\n",
    "    model_sims = df_similarities[df_similarities['model'] == model]['cosine_similarity']\n",
    "    print(f\"   {model}:\")\n",
    "    print(f\"      Mean: {model_sims.mean():.4f}\")\n",
    "    print(f\"      Std:  {model_sims.std():.4f}\")\n",
    "    print(f\"      Min:  {model_sims.min():.4f}\")\n",
    "    print(f\"      Max:  {model_sims.max():.4f}\")\n",
    "    print(f\"      Median: {model_sims.median():.4f}\")\n",
    "\n",
    "print(f\"\\n2. LLM-as-a-JUDGE EVALUATION RESULTS:\")\n",
    "print(\"-\" * 40)\n",
    "\n",
    "if not aqa_data.empty:\n",
    "    print(f\"\\n   Answer-Question-Answer Relevance (Sample of {evaluation_sample_size} per model):\")\n",
    "    aqa_summary = aqa_data.groupby(['model', 'Relevance']).size().unstack(fill_value=0)\n",
    "    for model in aqa_summary.index:\n",
    "        print(f\"   {model}:\")\n",
    "        for relevance in aqa_summary.columns:\n",
    "            count = aqa_summary.loc[model, relevance]\n",
    "            if count > 0:\n",
    "                print(f\"      {relevance}: {count}\")\n",
    "\n",
    "if not qa_data.empty:\n",
    "    print(f\"\\n   Question-Answer Relevance (Sample of {evaluation_sample_size} per model):\")\n",
    "    qa_summary = qa_data.groupby(['model', 'Relevance']).size().unstack(fill_value=0)\n",
    "    for model in qa_summary.index:\n",
    "        print(f\"   {model}:\")\n",
    "        for relevance in qa_summary.columns:\n",
    "            count = qa_summary.loc[model, relevance]\n",
    "            if count > 0:\n",
    "                print(f\"      {relevance}: {count}\")\n",
    "\n",
    "print(f\"\\n3. PERFORMANCE RANKING (by Average Cosine Similarity):\")\n",
    "print(\"-\" * 40)\n",
    "model_rankings = df_similarities.groupby('model')['cosine_similarity'].mean().sort_values(ascending=False)\n",
    "for i, (model, score) in enumerate(model_rankings.items(), 1):\n",
    "    medals = [\"🥇\", \"🥈\", \"🥉\"]\n",
    "    medal = medals[i-1] if i <= 3 else f\"{i}.\"\n",
    "    print(f\"   {medal} {model}: {score:.4f}\")\n",
    "\n",
    "print(f\"\\n4. FILES GENERATED:\")\n",
    "print(\"-\" * 40)\n",
    "print(\"   - results/multiple_examples_comparison.csv\")\n",
    "print(\"   - results/cosine_similarities_multiple.csv\") \n",
    "print(\"   - results/cosine_similarity_stats.csv\")\n",
    "print(\"   - results/llm_as_a_judge_evaluations_multiple.csv\")\n",
    "print(\"   - data/processed/ques-docs-pairs.json\")\n",
    "\n",
    "print(\"\\n\" + \"=\" * 60)"
   ]
  }
 ],
 "metadata": {
  "kernelspec": {
   "display_name": "Bhramana_env",
   "language": "python",
   "name": "python3"
  },
  "language_info": {
   "codemirror_mode": {
    "name": "ipython",
    "version": 3
   },
   "file_extension": ".py",
   "mimetype": "text/x-python",
   "name": "python",
   "nbconvert_exporter": "python",
   "pygments_lexer": "ipython3",
   "version": "3.10.18"
  }
 },
 "nbformat": 4,
 "nbformat_minor": 5
}
