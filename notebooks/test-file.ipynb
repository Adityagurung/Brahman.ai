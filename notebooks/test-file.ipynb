{
 "cells": [
  {
   "cell_type": "code",
   "execution_count": 32,
   "id": "0b99749c",
   "metadata": {},
   "outputs": [],
   "source": [
    "import os\n",
    "import requests\n",
    "from dotenv import load_dotenv\n",
    "# Load environment variables from .env file\n",
    "load_dotenv()\n",
    "# Retrieve the API key from environment variables\n",
    "API_KEY = os.getenv(\"PERPLEXITY_API_KEY\")\n",
    "\n",
    "#XAI_API_KEY\n",
    "#PERPLEXITY_API_KEY\n",
    "#GEMINI_API_KEY\n",
    "#OPENAI_API_KEY"
   ]
  },
  {
   "cell_type": "code",
   "execution_count": 33,
   "id": "fd4007aa",
   "metadata": {},
   "outputs": [],
   "source": [
    "#%pip install minsearch"
   ]
  },
  {
   "cell_type": "code",
   "execution_count": 34,
   "id": "6021af1a",
   "metadata": {},
   "outputs": [],
   "source": [
    "import minsearch"
   ]
  },
  {
   "cell_type": "code",
   "execution_count": 35,
   "id": "5e2bb6df",
   "metadata": {},
   "outputs": [],
   "source": [
    "#os.environ"
   ]
  },
  {
   "cell_type": "code",
   "execution_count": 36,
   "id": "d56f7f7e",
   "metadata": {},
   "outputs": [],
   "source": [
    "docs_url = 'https://github.com/DataTalksClub/llm-zoomcamp/blob/main/01-intro/documents.json?raw=1'\n",
    "docs_response = requests.get(docs_url)\n",
    "documents_raw = docs_response.json()\n",
    "\n",
    "documents = []\n",
    "\n",
    "for course in documents_raw:\n",
    "    course_name = course['course']\n",
    "\n",
    "    for doc in course['documents']:\n",
    "        doc['course'] = course_name\n",
    "        documents.append(doc)"
   ]
  },
  {
   "cell_type": "code",
   "execution_count": 37,
   "id": "6a8bcd16",
   "metadata": {},
   "outputs": [
    {
     "data": {
      "text/plain": [
       "{'text': \"The purpose of this document is to capture frequently asked technical questions\\nThe exact day and hour of the course will be 15th Jan 2024 at 17h00. The course will start with the first  “Office Hours'' live.1\\nSubscribe to course public Google Calendar (it works from Desktop only).\\nRegister before the course starts using this link.\\nJoin the course Telegram channel with announcements.\\nDon’t forget to register in DataTalks.Club's Slack and join the channel.\",\n",
       " 'section': 'General course-related questions',\n",
       " 'question': 'Course - When will the course start?',\n",
       " 'course': 'data-engineering-zoomcamp'}"
      ]
     },
     "execution_count": 37,
     "metadata": {},
     "output_type": "execute_result"
    }
   ],
   "source": [
    "documents[0]"
   ]
  },
  {
   "cell_type": "code",
   "execution_count": 38,
   "id": "c6bde5ea",
   "metadata": {},
   "outputs": [],
   "source": [
    "index = minsearch.Index(\n",
    "    text_fields = [\"question\",\"text\",\"section\"],\n",
    "    keyword_fields = [\"course\"]\n",
    ")"
   ]
  },
  {
   "cell_type": "code",
   "execution_count": 39,
   "id": "b82d80a4",
   "metadata": {},
   "outputs": [],
   "source": [
    "query = 'What is data engineering??'"
   ]
  },
  {
   "cell_type": "code",
   "execution_count": 40,
   "id": "cf4f47bf",
   "metadata": {},
   "outputs": [
    {
     "data": {
      "text/plain": [
       "<minsearch.minsearch.Index at 0x13de0825000>"
      ]
     },
     "execution_count": 40,
     "metadata": {},
     "output_type": "execute_result"
    }
   ],
   "source": [
    "index.fit(documents)"
   ]
  },
  {
   "cell_type": "code",
   "execution_count": 41,
   "id": "f0d83c85",
   "metadata": {},
   "outputs": [],
   "source": [
    "from openai import OpenAI"
   ]
  },
  {
   "cell_type": "code",
   "execution_count": 42,
   "id": "36025b25",
   "metadata": {},
   "outputs": [],
   "source": [
    "client = OpenAI()"
   ]
  },
  {
   "cell_type": "code",
   "execution_count": null,
   "id": "2341a082",
   "metadata": {},
   "outputs": [
    {
     "name": "stdout",
     "output_type": "stream",
     "text": [
      "**Data engineering is the practice of designing, building, and maintaining systems and processes that collect raw data and transform it into high-quality, accessible, and usable information for analysis, machine learning, and decision making.** It involves creating data pipelines, managing data storage and processing infrastructure, and ensuring data reliability, consistency, and security across organizations[1][3][4][5].\n",
      "\n",
      "More specifically, data engineers focus on:\n",
      "\n",
      "- Developing data infrastructure that extracts data from source systems and delivers it downstream for various use cases like analytics or ML[1].\n",
      "- Building and maintaining scalable systems for aggregation, storage, and real-time analysis of large datasets[4].\n",
      "- Managing the end-to-end lifecycle of data, including data ingestion, cleaning, transformation, and preparation for consumption by analysts, data scientists, or business intelligence tools[1][5].\n",
      "- Combining expertise in software engineering, data management, orchestration, and security to ensure robust data workflows[1].\n",
      "\n",
      "In essence, data engineering serves as the backbone of modern data-driven enterprises, enabling stakeholders to access reliable data in the right format at the right time to make strategic decisions[4][5].\n"
     ]
    }
   ],
   "source": [
    "import os\n",
    "from dotenv import load_dotenv\n",
    "import requests\n",
    "\n",
    "response = requests.post(\n",
    "    'https://api.perplexity.ai/chat/completions',\n",
    "    headers={\n",
    "        'Authorization': f'Bearer {API_KEY}',\n",
    "        'Content-Type': 'application/json'\n",
    "    },\n",
    "    json={\n",
    "        'model': 'Sonar',\n",
    "        'messages': [\n",
    "            {\n",
    "                'role': 'user',\n",
    "                'content': query\n",
    "            }\n",
    "        ]\n",
    "    }\n",
    ")\n",
    "\n",
    "if response.status_code == 200:\n",
    "    result = response.json()\n",
    "    answer = result['choices'][0]['message']['content']\n",
    "    print(answer)"
   ]
  },
  {
   "cell_type": "code",
   "execution_count": 44,
   "id": "6d6f1fe7",
   "metadata": {},
   "outputs": [],
   "source": [
    "# import os\n",
    "\n",
    "# from xai_sdk import Client\n",
    "# from xai_sdk.chat import user\n",
    "\n",
    "# client = Client(\n",
    "#     api_key=os.getenv(\"XAI_API_KEY\"),\n",
    "#     api_host=\"us-east-1.api.x.ai\"  # Without the https://\n",
    "# )\n",
    "\n",
    "# chat = client.chat.create(model=\"grok-4\")\n",
    "# chat.append(user(query))\n",
    "\n",
    "# completion = chat.sample()"
   ]
  },
  {
   "cell_type": "code",
   "execution_count": 45,
   "id": "ac6fd62c",
   "metadata": {},
   "outputs": [],
   "source": [
    "# response = client.chat.completions.create(\n",
    "#     model='gpt-4o',\n",
    "#     messages=[{\"role\": \"user\", \"content\": query}]\n",
    "# )\n",
    "\n",
    "# response.choices[0].message.content"
   ]
  }
 ],
 "metadata": {
  "kernelspec": {
   "display_name": "brahman_env",
   "language": "python",
   "name": "python3"
  },
  "language_info": {
   "codemirror_mode": {
    "name": "ipython",
    "version": 3
   },
   "file_extension": ".py",
   "mimetype": "text/x-python",
   "name": "python",
   "nbconvert_exporter": "python",
   "pygments_lexer": "ipython3",
   "version": "3.10.18"
  }
 },
 "nbformat": 4,
 "nbformat_minor": 5
}
