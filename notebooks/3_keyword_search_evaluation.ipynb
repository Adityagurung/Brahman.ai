{
 "cells": [
  {
   "cell_type": "markdown",
   "metadata": {},
   "source": [
    "# Keyword Search Evaluation\n",
    "This notebook evaluates the performance of keyword-based search using MinSearch for document retrieval."
   ]
  },
  {
   "cell_type": "code",
   "execution_count": 6,
   "metadata": {},
   "outputs": [],
   "source": [
    "# Import required libraries\n",
    "import json\n",
    "import pandas as pd\n",
    "import minsearch\n",
    "from tqdm.auto import tqdm\n",
    "import os"
   ]
  },
  {
   "cell_type": "markdown",
   "metadata": {},
   "source": [
    "## Load Data\n",
    "Loading documents and ground truth data for evaluation"
   ]
  },
  {
   "cell_type": "code",
   "execution_count": 7,
   "metadata": {},
   "outputs": [
    {
     "name": "stdout",
     "output_type": "stream",
     "text": [
      "Current working directory: c:\\Users\\Adi\\Brahman.ai\\notebooks\n",
      "Loaded 149 documents and 735 ground truth questions\n"
     ]
    }
   ],
   "source": [
    "print(f\"Current working directory: {os.getcwd()}\")\n",
    "\n",
    "# Load documents from processed JSON file\n",
    "# Using ../ to go up one level from notebooks/ to root, then down to data/processed/\n",
    "with open('../data/processed/documents-with-ids.json', 'r') as f:\n",
    "    documents = json.load(f)\n",
    "\n",
    "# Load ground truth dataset for evaluation from CSV file\n",
    "\n",
    "df_ground_truth = pd.read_csv('../data/processed/ground-truth-retrieval.csv')\n",
    "ground_truth = df_ground_truth.to_dict(orient='records')\n",
    "\n",
    "print(f\"Loaded {len(documents)} documents and {len(ground_truth)} ground truth questions\")"
   ]
  },
  {
   "cell_type": "markdown",
   "metadata": {},
   "source": [
    "## Setup MinSearch Index\n",
    "Configure and build the keyword search index"
   ]
  },
  {
   "cell_type": "code",
   "execution_count": null,
   "metadata": {},
   "outputs": [],
   "source": [
    "print(\"Setting up MinSearch index...\")\n",
    "\n",
    "# Initialize MinSearch index with text and keyword fields\n",
    "index = minsearch.Index(\n",
    "    text_fields=[\"content\"],  # Search in content field\n",
    "    keyword_fields=[\"location\", \"doc_id\", \"id\"]  # Filter fields\n",
    ")\n",
    "\n",
    "# Fit the index with document data\n",
    "index.fit(documents)\n",
    "\n",
    "print(\"MinSearch index ready!\")"
   ]
  },
  {
   "cell_type": "markdown",
   "metadata": {},
   "source": [
    "## Evaluation Process\n",
    "Evaluate retrieval performance using ground truth data"
   ]
  },
  {
   "cell_type": "code",
   "execution_count": null,
   "metadata": {},
   "outputs": [],
   "source": [
    "print(\"Evaluating keyword search...\")\n",
    "\n",
    "# Initialize list to store relevance results\n",
    "relevance_total = []\n",
    "\n",
    "# Iterate through each ground truth question\n",
    "for q in tqdm(ground_truth, desc=\"Evaluating retrieval\"):\n",
    "    doc_id = q['id']  # Ground truth document ID\n",
    "    \n",
    "    # Perform MinSearch query\n",
    "    results = index.search(\n",
    "        query=q['question'],\n",
    "        num_results=5\n",
    "    )\n",
    "    \n",
    "    # Check if correct document is in results\n",
    "    relevance = [d['id'] == doc_id for d in results]\n",
    "    relevance_total.append(relevance)\n",
    "\n",
    "print(\"Evaluation completed!\")"
   ]
  },
  {
   "cell_type": "markdown",
   "metadata": {},
   "source": [
    "## Calculate Metrics\n",
    "Compute Hit Rate and Mean Reciprocal Rank (MRR)"
   ]
  },
  {
   "cell_type": "code",
   "execution_count": null,
   "metadata": {},
   "outputs": [],
   "source": [
    "print(\"Calculating metrics...\")\n",
    "\n",
    "# Calculate Hit Rate\n",
    "hit_count = sum(1 for line in relevance_total if True in line)\n",
    "hit_rate = hit_count / len(relevance_total)\n",
    "\n",
    "# Calculate Mean Reciprocal Rank (MRR)\n",
    "total_score = 0.0\n",
    "for line in relevance_total:\n",
    "    for rank in range(len(line)):\n",
    "        if line[rank] == True:\n",
    "            total_score += 1 / (rank + 1)\n",
    "            break\n",
    "\n",
    "mrr = total_score / len(relevance_total)\n",
    "\n",
    "# Create metrics dictionary\n",
    "metrics = {\n",
    "    'hit_rate': hit_rate,\n",
    "    'mrr': mrr,\n",
    "    'total_questions': len(relevance_total)\n",
    "}\n",
    "\n",
    "print(f\"Metrics calculated successfully!\")"
   ]
  },
  {
   "cell_type": "markdown",
   "metadata": {},
   "source": [
    "## Save Results and Display Summary"
   ]
  },
  {
   "cell_type": "code",
   "execution_count": null,
   "metadata": {},
   "outputs": [],
   "source": [
    "# Prepare results for saving\n",
    "results = {\n",
    "    'method': 'keyword_search',\n",
    "    'metrics': metrics,\n",
    "    'relevance_results': relevance_total\n",
    "}\n",
    "\n",
    "# Save results to JSON file\n",
    "with open('results/keyword_search_results.json', 'w') as f:\n",
    "    json.dump(results, f, indent=2)\n",
    "\n",
    "# Display final results\n",
    "print(f\"\\nKeyword Search Results:\")\n",
    "print(f\"Hit Rate: {metrics['hit_rate']:.4f}\")\n",
    "print(f\"MRR: {metrics['mrr']:.4f}\")\n",
    "print(f\"Total Questions: {metrics['total_questions']}\")\n",
    "print(\"\\nResults saved to: results/keyword_search_results.json\")"
   ]
  }
 ],
 "metadata": {
  "kernelspec": {
   "display_name": "brahman_env",
   "language": "python",
   "name": "python3"
  },
  "language_info": {
   "codemirror_mode": {
    "name": "ipython",
    "version": 3
   },
   "file_extension": ".py",
   "mimetype": "text/x-python",
   "name": "python",
   "nbconvert_exporter": "python",
   "pygments_lexer": "ipython3",
   "version": "3.10.18"
  }
 },
 "nbformat": 4,
 "nbformat_minor": 4
}
