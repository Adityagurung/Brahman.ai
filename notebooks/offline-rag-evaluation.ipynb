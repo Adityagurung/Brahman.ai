{
 "cells": [
  {
   "cell_type": "code",
   "execution_count": 1,
   "id": "c0cac41c",
   "metadata": {},
   "outputs": [
    {
     "ename": "",
     "evalue": "",
     "output_type": "error",
     "traceback": [
      "\u001b[1;31mThe Kernel crashed while executing code in the current cell or a previous cell. \n",
      "\u001b[1;31mPlease review the code in the cell(s) to identify a possible cause of the failure. \n",
      "\u001b[1;31mClick <a href='https://aka.ms/vscodeJupyterKernelCrash'>here</a> for more info. \n",
      "\u001b[1;31mView Jupyter <a href='command:jupyter.viewOutput'>log</a> for further details."
     ]
    }
   ],
   "source": [
    "import json\n",
    "import pandas as pd\n",
    "import numpy as np\n",
    "from sentence_transformers import SentenceTransformer\n",
    "from tqdm.auto import tqdm\n",
    "import seaborn as sns\n",
    "import matplotlib.pyplot as plt\n",
    "from openai import OpenAI\n",
    "from concurrent.futures import ThreadPoolExecutor\n",
    "import os"
   ]
  },
  {
   "cell_type": "code",
   "execution_count": 6,
   "id": "70ee73b1",
   "metadata": {},
   "outputs": [],
   "source": [
    "# # Create necessary directories\n",
    "# os.makedirs('data/processed', exist_ok=True)\n",
    "# os.makedirs('results', exist_ok=True)\n",
    "# os.makedirs('images', exist_ok=True)"
   ]
  },
  {
   "cell_type": "code",
   "execution_count": 7,
   "id": "abecb06a",
   "metadata": {},
   "outputs": [
    {
     "name": "stdout",
     "output_type": "stream",
     "text": [
      "Loaded 149 documents and 735 ground truth questions\n"
     ]
    }
   ],
   "source": [
    "# Load documents from processed JSON file\n",
    "with open('../data/processed/documents-with-ids.json', 'r') as f:\n",
    "    documents = json.load(f)\n",
    "\n",
    "# Load ground truth dataset for evaluation from CSV file\n",
    "df_ground_truth = pd.read_csv('../data/processed/ground-truth-retrieval.csv')\n",
    "ground_truth = df_ground_truth.to_dict(orient='records')\n",
    "\n",
    "print(f\"Loaded {len(documents)} documents and {len(ground_truth)} ground truth questions\")"
   ]
  },
  {
   "cell_type": "code",
   "execution_count": 8,
   "id": "979776da",
   "metadata": {},
   "outputs": [
    {
     "data": {
      "text/plain": [
       "{'location': 'Andhra_Pradesh',\n",
       " 'doc_id': 'd4402d82c0',\n",
       " 'content': \"Andhra Pradesh is known for its rich history, architecture and culture. Andhra Pradesh has a variety of tourist attractions including beaches, hills, wildlife, forests and temples. Like rest of the Southern India, the culture of Andhra Pradesh is essentially Dravidian, quite different from North India's Sanskrit Hindu culture. Andhra Pradesh was part of the British Madras presidency and then independent India's Madras State until 1953, when Andhra State was formed, with the capital being\",\n",
       " 'id': '450a9d36'}"
      ]
     },
     "execution_count": 8,
     "metadata": {},
     "output_type": "execute_result"
    }
   ],
   "source": [
    "documents[10]"
   ]
  },
  {
   "cell_type": "code",
   "execution_count": 9,
   "id": "938a7f50",
   "metadata": {},
   "outputs": [
    {
     "data": {
      "text/plain": [
       "{'question': 'What are the must-see religious temples to visit in Andhra Pradesh?',\n",
       " 'id': 'db0beb52'}"
      ]
     },
     "execution_count": 9,
     "metadata": {},
     "output_type": "execute_result"
    }
   ],
   "source": [
    "ground_truth[10]"
   ]
  },
  {
   "cell_type": "code",
   "execution_count": 10,
   "id": "d92f8c0c",
   "metadata": {},
   "outputs": [
    {
     "name": "stdout",
     "output_type": "stream",
     "text": [
      "Created merged dataset with 745 question-document pairs\n",
      "Sample merged record keys: ['question', 'id', 'location', 'doc_id', 'content']\n"
     ]
    }
   ],
   "source": [
    "# Create a merged dataframe by joining ground-truth with documents on 'id' column\n",
    "df_documents = pd.DataFrame(documents)\n",
    "df_merged = df_ground_truth.merge(df_documents, on='id', how='inner')\n",
    "merged_data = df_merged.to_dict(orient='records')\n",
    "with open('../data/processed/ques-docs-pairs.json', 'w') as f:\n",
    "    json.dump(merged_data, f, indent=2)\n",
    "    \n",
    "print(f\"Created merged dataset with {len(merged_data)} question-document pairs\")\n",
    "print(f\"Sample merged record keys: {list(merged_data[0].keys()) if merged_data else 'No data'}\")"
   ]
  },
  {
   "cell_type": "code",
   "execution_count": 11,
   "id": "f7da208f",
   "metadata": {},
   "outputs": [],
   "source": [
    "# Create document index for quick lookup\n",
    "doc_idx = {d['id']: d for d in documents}"
   ]
  },
  {
   "cell_type": "code",
   "execution_count": 12,
   "id": "314ed3f6",
   "metadata": {},
   "outputs": [
    {
     "data": {
      "text/plain": [
       "'Northern Coast (Alluri Sitharama Raju, Anakapalli, East Godavari, Kakinada, Konaseema, Parvathipuram Manyam, Srikakulam, Visakhapatnam, Vizianagaram, Yanam) Central Coast (Eluru, Krishna, NTR, West Godavari) Southern Coast (Bapatla, Guntur, Nellore, Palnadu, Prakasam, Tirupati) Rayalaseema (Annamayya, Anantapur, Chittoor, Kadapa, Kurnool, Nandyal, Sri Sathya Sai)  \\n![0_image_1.png](0_image_1.png) interactive map'"
      ]
     },
     "execution_count": 12,
     "metadata": {},
     "output_type": "execute_result"
    }
   ],
   "source": [
    "doc_idx['db0beb52']['content']"
   ]
  },
  {
   "cell_type": "markdown",
   "id": "97e562ce",
   "metadata": {},
   "source": [
    " #### Index data"
   ]
  },
  {
   "cell_type": "code",
   "execution_count": 13,
   "id": "12241af7",
   "metadata": {},
   "outputs": [],
   "source": [
    "# We'll generate embeddings using [the sentence transformers](https://sbert.net/) library, if you don't have it, install it with pip:\n",
    "# !pip install sentence-transformers"
   ]
  },
  {
   "cell_type": "code",
   "execution_count": 14,
   "id": "8cc82898",
   "metadata": {},
   "outputs": [],
   "source": [
    "# Initialize sentence transformer model\n",
    "model_name = 'multi-qa-MiniLM-L6-cos-v1'\n",
    "model = SentenceTransformer(model_name)"
   ]
  },
  {
   "cell_type": "code",
   "execution_count": 15,
   "id": "4a2ba7e6",
   "metadata": {},
   "outputs": [
    {
     "data": {
      "application/vnd.jupyter.widget-view+json": {
       "model_id": "d4873676f4284b73abdf57390b3a3a5c",
       "version_major": 2,
       "version_minor": 0
      },
      "text/plain": [
       "  0%|          | 0/149 [00:00<?, ?it/s]"
      ]
     },
     "metadata": {},
     "output_type": "display_data"
    }
   ],
   "source": [
    "# Generate vectors for all documents\n",
    "vectors = []\n",
    "for doc in tqdm(documents):\n",
    "    # Use content field instead of question + text\n",
    "    content = doc['content']\n",
    "    vector = model.encode(content)\n",
    "    vectors.append(vector)\n",
    "\n",
    "vectors = np.array(vectors)"
   ]
  },
  {
   "cell_type": "code",
   "execution_count": 16,
   "id": "e7f50e55",
   "metadata": {},
   "outputs": [
    {
     "data": {
      "text/plain": [
       "<minsearch.vector.VectorSearch at 0x152f8113280>"
      ]
     },
     "execution_count": 16,
     "metadata": {},
     "output_type": "execute_result"
    }
   ],
   "source": [
    "# Create vector search index\n",
    "from minsearch import VectorSearch\n",
    "\n",
    "vindex = VectorSearch(keyword_fields=['location'])\n",
    "vindex.fit(vectors, documents)"
   ]
  },
  {
   "cell_type": "markdown",
   "id": "d0cb6f1c",
   "metadata": {},
   "source": [
    "### Retrieval\n"
   ]
  },
  {
   "cell_type": "code",
   "execution_count": 17,
   "id": "4e2a3ae6",
   "metadata": {},
   "outputs": [],
   "source": [
    "def minsearch_vector_search(vector, location):\n",
    "    return vindex.search(\n",
    "        vector,\n",
    "        filter_dict={'location': location},\n",
    "        num_results=5\n",
    "    )\n",
    "\n",
    "def question_text_vector(q):\n",
    "    question = q['question']\n",
    "    location = q.get('location', None)  # Get location if available, otherwise None\n",
    "    v_q = model.encode(question)\n",
    "    \n",
    "    if location:\n",
    "        return minsearch_vector_search(v_q, location)\n",
    "    else:\n",
    "        # If no location specified, search without filter\n",
    "        return vindex.search(v_q, num_results=5)"
   ]
  },
  {
   "cell_type": "code",
   "execution_count": 18,
   "id": "671e5606",
   "metadata": {},
   "outputs": [
    {
     "name": "stdout",
     "output_type": "stream",
     "text": [
      "Found 5 relevant documents\n"
     ]
    }
   ],
   "source": [
    "# Test vector search functionality\n",
    "test_question = {\n",
    "    'question': 'What are the must-see religious sites in Andhra Pradesh?',\n",
    "}\n",
    "search_results = question_text_vector(test_question)\n",
    "print(f\"Found {len(search_results)} relevant documents\")"
   ]
  },
  {
   "cell_type": "code",
   "execution_count": 19,
   "id": "b44dfc4f",
   "metadata": {},
   "outputs": [
    {
     "data": {
      "text/plain": [
       "[{'location': 'Andhra_Pradesh',\n",
       "  'doc_id': 'd4402d82c0',\n",
       "  'content': 'Andhra Pradesh (AP) is a state in Southern India, with Bay of Bengal on the east and shares boundaries with Telangana on the north, Chhattisgarh and Odisha on the north-east, Tamil Nadu on the south and Karnataka on the west. Vijayawada is the capital of this state.',\n",
       "  'id': 'a411c9aa'},\n",
       " {'location': 'Andhra_Pradesh',\n",
       "  'doc_id': 'd4402d82c0',\n",
       "  'content': \"Andhra Pradesh is known for its rich history, architecture and culture. Andhra Pradesh has a variety of tourist attractions including beaches, hills, wildlife, forests and temples. Like rest of the Southern India, the culture of Andhra Pradesh is essentially Dravidian, quite different from North India's Sanskrit Hindu culture. Andhra Pradesh was part of the British Madras presidency and then independent India's Madras State until 1953, when Andhra State was formed, with the capital being\",\n",
       "  'id': '450a9d36'},\n",
       " {'location': 'Andhra_Pradesh',\n",
       "  'doc_id': '9eb5245053',\n",
       "  'content': 'the most attractive city in Andhra Pradesh, with exotic resorts near beaches 7 8 9',\n",
       "  'id': '3ed17fb0'},\n",
       " {'location': 'Andhra_Pradesh',\n",
       "  'doc_id': 'ed240be0ed',\n",
       "  'content': 'Amaravati - the capital of Andhra Pradesh which covers the areas that have Buddhist sites Anantapur - a city well connected by road and rail with the city and nearby attractions Guntur - the third largest city in Andhra Pradesh and home to many ancient and archaeological sites and temples Kurnool - the site of Konda Reddy Fort Nellore - a combination of religion, nature, and history Rajahmundry - known as the cultural capital of Andhra Pradesh, noted for its versatile Vedic culture and',\n",
       "  'id': '4de0caea'},\n",
       " {'location': 'Andhra_Pradesh',\n",
       "  'doc_id': 'd4402d82c0',\n",
       "  'content': 'Odisha Karnataka Tamil Nadu Telangana Retrieved from \"https://en.wikivoyage.org/w/index.php?title=Andhra_Pradesh&oldid=5081274\"',\n",
       "  'id': 'b184cf08'}]"
      ]
     },
     "execution_count": 19,
     "metadata": {},
     "output_type": "execute_result"
    }
   ],
   "source": [
    "search_results"
   ]
  },
  {
   "cell_type": "markdown",
   "id": "89b17141",
   "metadata": {},
   "source": [
    "#### The RAG flow with Travel Assistant Prompt"
   ]
  },
  {
   "cell_type": "code",
   "execution_count": 20,
   "id": "176dbdf1",
   "metadata": {},
   "outputs": [],
   "source": [
    "def build_prompt(query, search_results):\n",
    "    prompt_template = \"\"\"\n",
    "You're a travel assistant bot that helps users plan their itinerary and discover amazing places to visit.\n",
    "Answer the QUESTION based on the CONTEXT from the travel database.\n",
    "Use only the facts from the CONTEXT when answering the QUESTION.\n",
    "\n",
    "When answering, consider:\n",
    "- Must-visit tourist attractions and landmarks\n",
    "- Cultural experiences and local traditions  \n",
    "- Historical significance of places\n",
    "- Best times to visit and travel tips\n",
    "- Local cuisine and specialties (if mentioned in context)\n",
    "- Transportation and accessibility information (if available)\n",
    "\n",
    "QUESTION: {question}\n",
    "\n",
    "CONTEXT: \n",
    "{context}\n",
    "\"\"\".strip()\n",
    "\n",
    "    context = \"\"\n",
    "    for doc in search_results:\n",
    "        location = doc.get('location', 'Unknown')\n",
    "        content = doc.get('content', doc.get('text', ''))  # Handle both content and text fields\n",
    "        context = context + f\"location: {location}\\ncontent: {content}\\n\\n\"\n",
    "    \n",
    "    prompt = prompt_template.format(question=query, context=context).strip()\n",
    "    return prompt"
   ]
  },
  {
   "cell_type": "code",
   "execution_count": 21,
   "id": "b8b6c7fb",
   "metadata": {},
   "outputs": [],
   "source": [
    "# Initialize OpenAI client\n",
    "client = OpenAI()"
   ]
  },
  {
   "cell_type": "code",
   "execution_count": 22,
   "id": "854e24eb",
   "metadata": {},
   "outputs": [],
   "source": [
    "def llm(prompt, model='gpt-4o'):\n",
    "    response = client.chat.completions.create(\n",
    "        model=model,\n",
    "        messages=[{\"role\": \"user\", \"content\": prompt}]\n",
    "    )\n",
    "    return response.choices[0].message.content"
   ]
  },
  {
   "cell_type": "code",
   "execution_count": 23,
   "id": "fa4f7ae3",
   "metadata": {},
   "outputs": [],
   "source": [
    "def rag(query: dict, model='gpt-4o') -> str:\n",
    "    search_results = question_text_vector(query)\n",
    "    prompt = build_prompt(query['question'], search_results)\n",
    "    answer = llm(prompt, model=model)\n",
    "    return answer"
   ]
  },
  {
   "cell_type": "markdown",
   "id": "33872cf6",
   "metadata": {},
   "source": [
    "#### Single Example Evaluation Across All Models"
   ]
  },
  {
   "cell_type": "code",
   "execution_count": 24,
   "id": "fa0bb0ad",
   "metadata": {},
   "outputs": [
    {
     "data": {
      "text/plain": [
       "{'question': 'What are the must-see religious temples to visit in Andhra Pradesh?',\n",
       " 'id': 'db0beb52'}"
      ]
     },
     "execution_count": 24,
     "metadata": {},
     "output_type": "execute_result"
    }
   ],
   "source": [
    "ground_truth[10]"
   ]
  },
  {
   "cell_type": "code",
   "execution_count": 25,
   "id": "2ed7402f",
   "metadata": {},
   "outputs": [
    {
     "name": "stdout",
     "output_type": "stream",
     "text": [
      "Selected question for evaluation:\n",
      "Question: What are the must-see religious temples to visit in Andhra Pradesh?\n",
      "Document ID: db0beb52\n"
     ]
    }
   ],
   "source": [
    "# Select a single example for evaluation across all models\n",
    "sample_question = ground_truth[10]  # using a random question\n",
    "print(\"Selected question for evaluation:\")\n",
    "print(f\"Question: {sample_question['question']}\")\n",
    "print(f\"Document ID: {sample_question['id']}\")"
   ]
  },
  {
   "cell_type": "code",
   "execution_count": 26,
   "id": "ff71793b",
   "metadata": {},
   "outputs": [],
   "source": [
    "# Get original answer from merged data or documents\n",
    "doc_id = sample_question['id']\n",
    "original_doc = doc_idx[doc_id]\n",
    "answer_orig = original_doc['content']  # Use 'content' field instead of 'text'\n",
    "sample_location = original_doc.get('location', 'Unknown')"
   ]
  },
  {
   "cell_type": "code",
   "execution_count": 27,
   "id": "9a7959c1",
   "metadata": {},
   "outputs": [
    {
     "name": "stdout",
     "output_type": "stream",
     "text": [
      "Location: Andhra_Pradesh\n",
      "Original Content: Northern Coast (Alluri Sitharama Raju, Anakapalli, East Godavari, Kakinada, Konaseema, Parvathipuram Manyam, Srikakulam, Visakhapatnam, Vizianagaram, Yanam) Central Coast (Eluru, Krishna, NTR, West Go...\n"
     ]
    }
   ],
   "source": [
    "print(f\"Location: {sample_location}\")\n",
    "print(f\"Original Content: {answer_orig[:200]}...\")"
   ]
  },
  {
   "cell_type": "code",
   "execution_count": 28,
   "id": "b82bb306",
   "metadata": {},
   "outputs": [],
   "source": [
    "# Prepare the question dict for RAG\n",
    "sample_question_dict = {\n",
    "    'question': sample_question['question'],\n",
    "    'location': sample_location,\n",
    "    'id': doc_id\n",
    "}"
   ]
  },
  {
   "cell_type": "code",
   "execution_count": 29,
   "id": "079625d9",
   "metadata": {},
   "outputs": [
    {
     "name": "stdout",
     "output_type": "stream",
     "text": [
      "\n",
      "Testing model: gpt-3.5-turbo\n",
      "Generated Answer: Some of the must-see religious temples to visit in Andhra Pradesh include:\n",
      "1. Tirupati - known as the spiritual capital of Andhra Pradesh with a sacred temple on the Tirumala Hills.\n",
      "2. Amaravati - the...\n",
      "\n",
      "Testing model: gpt-4o\n",
      "Generated Answer: In Andhra Pradesh, a must-see religious temple is the sacred temple on the Tirumala Hills in Tirupati, which is known as the spiritual capital of the state. This temple is one of the most iconic relig...\n",
      "\n",
      "Testing model: gpt-4o-mini\n",
      "Generated Answer: In Andhra Pradesh, several must-see religious temples stand out for their significance and cultural heritage. Here are key temples to consider visiting:\n",
      "\n",
      "1. **Tirupati Temple (Tirumala Temple)** - Loc...\n"
     ]
    }
   ],
   "source": [
    "# Test all GPT models on the single example\n",
    "models_to_test = ['gpt-3.5-turbo', 'gpt-4o', 'gpt-4o-mini']\n",
    "single_example_results = []\n",
    "\n",
    "for model_name in models_to_test:\n",
    "    print(f\"\\nTesting model: {model_name}\")\n",
    "    try:\n",
    "        answer_llm = rag(sample_question_dict, model=model_name)\n",
    "        \n",
    "        result = {\n",
    "            'model': model_name,\n",
    "            'question': sample_question_dict['question'],\n",
    "            'location': sample_location,\n",
    "            'document_id': doc_id,\n",
    "            'answer_orig': answer_orig,\n",
    "            'answer_llm': answer_llm\n",
    "        }\n",
    "        single_example_results.append(result)\n",
    "        print(f\"Generated Answer: {answer_llm[:200]}...\")\n",
    "        \n",
    "    except Exception as e:\n",
    "        print(f\"Error with model {model_name}: {e}\")"
   ]
  },
  {
   "cell_type": "code",
   "execution_count": 30,
   "id": "af8b79d7",
   "metadata": {},
   "outputs": [
    {
     "data": {
      "text/html": [
       "<div>\n",
       "<style scoped>\n",
       "    .dataframe tbody tr th:only-of-type {\n",
       "        vertical-align: middle;\n",
       "    }\n",
       "\n",
       "    .dataframe tbody tr th {\n",
       "        vertical-align: top;\n",
       "    }\n",
       "\n",
       "    .dataframe thead th {\n",
       "        text-align: right;\n",
       "    }\n",
       "</style>\n",
       "<table border=\"1\" class=\"dataframe\">\n",
       "  <thead>\n",
       "    <tr style=\"text-align: right;\">\n",
       "      <th></th>\n",
       "      <th>model</th>\n",
       "      <th>question</th>\n",
       "      <th>location</th>\n",
       "      <th>document_id</th>\n",
       "      <th>answer_orig</th>\n",
       "      <th>answer_llm</th>\n",
       "    </tr>\n",
       "  </thead>\n",
       "  <tbody>\n",
       "    <tr>\n",
       "      <th>0</th>\n",
       "      <td>gpt-3.5-turbo</td>\n",
       "      <td>What are the must-see religious temples to vis...</td>\n",
       "      <td>Andhra_Pradesh</td>\n",
       "      <td>db0beb52</td>\n",
       "      <td>Northern Coast (Alluri Sitharama Raju, Anakapa...</td>\n",
       "      <td>Some of the must-see religious temples to visi...</td>\n",
       "    </tr>\n",
       "    <tr>\n",
       "      <th>1</th>\n",
       "      <td>gpt-4o</td>\n",
       "      <td>What are the must-see religious temples to vis...</td>\n",
       "      <td>Andhra_Pradesh</td>\n",
       "      <td>db0beb52</td>\n",
       "      <td>Northern Coast (Alluri Sitharama Raju, Anakapa...</td>\n",
       "      <td>In Andhra Pradesh, a must-see religious temple...</td>\n",
       "    </tr>\n",
       "    <tr>\n",
       "      <th>2</th>\n",
       "      <td>gpt-4o-mini</td>\n",
       "      <td>What are the must-see religious temples to vis...</td>\n",
       "      <td>Andhra_Pradesh</td>\n",
       "      <td>db0beb52</td>\n",
       "      <td>Northern Coast (Alluri Sitharama Raju, Anakapa...</td>\n",
       "      <td>In Andhra Pradesh, several must-see religious ...</td>\n",
       "    </tr>\n",
       "  </tbody>\n",
       "</table>\n",
       "</div>"
      ],
      "text/plain": [
       "           model                                           question  \\\n",
       "0  gpt-3.5-turbo  What are the must-see religious temples to vis...   \n",
       "1         gpt-4o  What are the must-see religious temples to vis...   \n",
       "2    gpt-4o-mini  What are the must-see religious temples to vis...   \n",
       "\n",
       "         location document_id  \\\n",
       "0  Andhra_Pradesh    db0beb52   \n",
       "1  Andhra_Pradesh    db0beb52   \n",
       "2  Andhra_Pradesh    db0beb52   \n",
       "\n",
       "                                         answer_orig  \\\n",
       "0  Northern Coast (Alluri Sitharama Raju, Anakapa...   \n",
       "1  Northern Coast (Alluri Sitharama Raju, Anakapa...   \n",
       "2  Northern Coast (Alluri Sitharama Raju, Anakapa...   \n",
       "\n",
       "                                          answer_llm  \n",
       "0  Some of the must-see religious temples to visi...  \n",
       "1  In Andhra Pradesh, a must-see religious temple...  \n",
       "2  In Andhra Pradesh, several must-see religious ...  "
      ]
     },
     "metadata": {},
     "output_type": "display_data"
    }
   ],
   "source": [
    "# Save single example results\n",
    "df_single_example = pd.DataFrame(single_example_results)\n",
    "display(df_single_example)"
   ]
  },
  {
   "cell_type": "code",
   "execution_count": 31,
   "id": "5d9116b7",
   "metadata": {},
   "outputs": [
    {
     "name": "stdout",
     "output_type": "stream",
     "text": [
      "Saved single example results to: results/single_example_comparison.csv\n"
     ]
    }
   ],
   "source": [
    "df_single_example.to_csv('../results/single_example_comparison.csv', index=False)\n",
    "print(\"Saved single example results to: results/single_example_comparison.csv\")"
   ]
  },
  {
   "cell_type": "markdown",
   "id": "d810719e",
   "metadata": {},
   "source": [
    "#### Cosine Similarity Metric "
   ]
  },
  {
   "cell_type": "code",
   "execution_count": 32,
   "id": "ba1bb080",
   "metadata": {},
   "outputs": [],
   "source": [
    "def compute_similarity(record):\n",
    "    \"\"\"Calculate cosine similarity between original and LLM answers\"\"\"\n",
    "    answer_orig = record['answer_orig']\n",
    "    answer_llm = record['answer_llm']\n",
    "    \n",
    "    v_llm = model.encode(answer_llm)\n",
    "    v_orig = model.encode(answer_orig)\n",
    "    \n",
    "    return v_llm.dot(v_orig)"
   ]
  },
  {
   "cell_type": "code",
   "execution_count": 33,
   "id": "804f1b8a",
   "metadata": {},
   "outputs": [
    {
     "name": "stdout",
     "output_type": "stream",
     "text": [
      "gpt-3.5-turbo: 0.3566\n",
      "gpt-4o: 0.3690\n",
      "gpt-4o-mini: 0.3911\n"
     ]
    }
   ],
   "source": [
    "# Calculate cosine similarities for all models\n",
    "cosine_similarities = []\n",
    "\n",
    "for result in single_example_results:\n",
    "    similarity = compute_similarity(result)\n",
    "    cosine_similarities.append({\n",
    "        'model': result['model'],\n",
    "        'cosine_similarity': similarity,\n",
    "        'question': result['question']\n",
    "    })\n",
    "    print(f\"{result['model']}: {similarity:.4f}\")"
   ]
  },
  {
   "cell_type": "code",
   "execution_count": 34,
   "id": "45ff4154",
   "metadata": {},
   "outputs": [
    {
     "name": "stderr",
     "output_type": "stream",
     "text": [
      "C:\\Users\\Adi\\AppData\\Local\\Temp\\ipykernel_6760\\128967923.py:51: UserWarning: Glyph 129353 (\\N{THIRD PLACE MEDAL}) missing from font(s) DejaVu Sans.\n",
      "  plt.tight_layout()\n",
      "C:\\Users\\Adi\\AppData\\Local\\Temp\\ipykernel_6760\\128967923.py:51: UserWarning: Glyph 129352 (\\N{SECOND PLACE MEDAL}) missing from font(s) DejaVu Sans.\n",
      "  plt.tight_layout()\n",
      "C:\\Users\\Adi\\AppData\\Local\\Temp\\ipykernel_6760\\128967923.py:51: UserWarning: Glyph 129351 (\\N{FIRST PLACE MEDAL}) missing from font(s) DejaVu Sans.\n",
      "  plt.tight_layout()\n",
      "C:\\Users\\Adi\\AppData\\Local\\Temp\\ipykernel_6760\\128967923.py:52: UserWarning: Glyph 129353 (\\N{THIRD PLACE MEDAL}) missing from font(s) DejaVu Sans.\n",
      "  plt.savefig('../images/cosine_similarity_comparison.png', dpi=300, bbox_inches='tight',\n",
      "C:\\Users\\Adi\\AppData\\Local\\Temp\\ipykernel_6760\\128967923.py:52: UserWarning: Glyph 129352 (\\N{SECOND PLACE MEDAL}) missing from font(s) DejaVu Sans.\n",
      "  plt.savefig('../images/cosine_similarity_comparison.png', dpi=300, bbox_inches='tight',\n",
      "C:\\Users\\Adi\\AppData\\Local\\Temp\\ipykernel_6760\\128967923.py:52: UserWarning: Glyph 129351 (\\N{FIRST PLACE MEDAL}) missing from font(s) DejaVu Sans.\n",
      "  plt.savefig('../images/cosine_similarity_comparison.png', dpi=300, bbox_inches='tight',\n",
      "c:\\Users\\Adi\\Miniconda\\envs\\brahman_env\\lib\\site-packages\\IPython\\core\\pylabtools.py:170: UserWarning: Glyph 129353 (\\N{THIRD PLACE MEDAL}) missing from font(s) DejaVu Sans.\n",
      "  fig.canvas.print_figure(bytes_io, **kw)\n",
      "c:\\Users\\Adi\\Miniconda\\envs\\brahman_env\\lib\\site-packages\\IPython\\core\\pylabtools.py:170: UserWarning: Glyph 129352 (\\N{SECOND PLACE MEDAL}) missing from font(s) DejaVu Sans.\n",
      "  fig.canvas.print_figure(bytes_io, **kw)\n",
      "c:\\Users\\Adi\\Miniconda\\envs\\brahman_env\\lib\\site-packages\\IPython\\core\\pylabtools.py:170: UserWarning: Glyph 129351 (\\N{FIRST PLACE MEDAL}) missing from font(s) DejaVu Sans.\n",
      "  fig.canvas.print_figure(bytes_io, **kw)\n"
     ]
    },
    {
     "data": {
      "image/png": "[encoded data removed]",
      "text/plain": [
       "<Figure size 1200x800 with 1 Axes>"
      ]
     },
     "metadata": {},
     "output_type": "display_data"
    }
   ],
   "source": [
    "# Create visualization for cosine similarities\n",
    "df_similarities = pd.DataFrame(cosine_similarities)\n",
    "\n",
    "plt.figure(figsize=(12, 8))\n",
    "plt.style.use('default')  # Use default matplotlib style\n",
    "\n",
    "# Create bar chart with custom colors\n",
    "colors = ['#FF6B6B', '#4ECDC4', '#45B7D1']\n",
    "bars = plt.bar(df_similarities['model'], df_similarities['cosine_similarity'], \n",
    "               color=colors, alpha=0.8, edgecolor='black', linewidth=1.2)\n",
    "\n",
    "# Customize the chart\n",
    "plt.title('Travel RAG System - Model Performance Comparison\\n(Cosine Similarity Between Original and Generated Answers)', \n",
    "          fontsize=16, fontweight='bold', pad=20)\n",
    "plt.xlabel('Language Model', fontsize=14, fontweight='bold')\n",
    "plt.ylabel('Cosine Similarity Score', fontsize=14, fontweight='bold')\n",
    "plt.ylim(0, max(df_similarities['cosine_similarity']) + 0.1)\n",
    "\n",
    "# Add grid for better readability\n",
    "plt.grid(axis='y', alpha=0.3, linestyle='--')\n",
    "\n",
    "# Add value labels on bars with better formatting\n",
    "for i, (bar, similarity) in enumerate(zip(bars, df_similarities['cosine_similarity'])):\n",
    "    plt.text(bar.get_x() + bar.get_width()/2, bar.get_height() + 0.02, \n",
    "             f'{similarity:.3f}', ha='center', va='bottom', \n",
    "             fontsize=12, fontweight='bold')\n",
    "    \n",
    "    # Add rank labels\n",
    "    rank_labels = ['🥇 Best', '🥈 Second', '🥉 Third']\n",
    "    if i < len(rank_labels):\n",
    "        plt.text(bar.get_x() + bar.get_width()/2, bar.get_height()/2, \n",
    "                 rank_labels[sorted(enumerate(df_similarities['cosine_similarity']), \n",
    "                                   key=lambda x: x[1], reverse=True).index((i, similarity))], \n",
    "                 ha='center', va='center', fontsize=10, fontweight='bold', color='white')\n",
    "\n",
    "# Improve x-axis labels\n",
    "model_labels = ['GPT-3.5\\nTurbo', 'GPT-4o', 'GPT-4o\\nMini']\n",
    "plt.xticks(range(len(df_similarities)), model_labels, fontsize=12, fontweight='bold')\n",
    "plt.yticks(fontsize=11)\n",
    "\n",
    "# Add interpretation guide\n",
    "interpretation_text = \"\"\"\n",
    "Interpretation Guide:\n",
    "• Score > 0.7: High similarity (Excellent)\n",
    "• Score 0.5-0.7: Moderate similarity (Good)  \n",
    "• Score < 0.5: Low similarity (Needs improvement)\n",
    "\"\"\"\n",
    "plt.figtext(0.02, 0.02, interpretation_text, fontsize=10, ha='left', \n",
    "            bbox=dict(boxstyle=\"round,pad=0.3\", facecolor=\"lightgray\", alpha=0.8))\n",
    "\n",
    "plt.tight_layout()\n",
    "plt.savefig('../images/cosine_similarity_comparison.png', dpi=300, bbox_inches='tight', \n",
    "            facecolor='white', edgecolor='none')\n",
    "plt.show()"
   ]
  },
  {
   "cell_type": "code",
   "execution_count": 35,
   "id": "6d25c960",
   "metadata": {},
   "outputs": [],
   "source": [
    "# Save similarities to CSV\n",
    "df_similarities.to_csv('../results/cosine_similarities.csv', index=False)"
   ]
  },
  {
   "cell_type": "markdown",
   "id": "5eb0a9cf",
   "metadata": {},
   "source": [
    "#### LLM-as-a-Judge Evaluation"
   ]
  },
  {
   "cell_type": "code",
   "execution_count": 36,
   "id": "308cd76e",
   "metadata": {},
   "outputs": [],
   "source": [
    "# LLM-as-a-Judge evaluation prompts\n",
    "prompt1_template = \"\"\"\n",
    "You are an expert evaluator for a Retrieval-Augmented Generation (RAG) system.\n",
    "Your task is to analyze the relevance of the generated answer compared to the original answer provided.\n",
    "Based on the relevance and similarity of the generated answer to the original answer, you will classify\n",
    "it as \"NON_RELEVANT\", \"PARTLY_RELEVANT\", or \"RELEVANT\".\n",
    "\n",
    "Here is the data for evaluation:\n",
    "\n",
    "Original Answer: {answer_orig}\n",
    "Generated Question: {question}\n",
    "Generated Answer: {answer_llm}\n",
    "\n",
    "Please analyze the content and context of the generated answer in relation to the original\n",
    "answer and provide your evaluation in parsable JSON without using code blocks:\n",
    "\n",
    "{{\n",
    "  \"Relevance\": \"NON_RELEVANT\" | \"PARTLY_RELEVANT\" | \"RELEVANT\",\n",
    "  \"Explanation\": \"[Provide a brief explanation for your evaluation]\"\n",
    "}}\n",
    "\"\"\".strip()\n",
    "\n",
    "prompt2_template = \"\"\"\n",
    "You are an expert evaluator for a Retrieval-Augmented Generation (RAG) system.\n",
    "Your task is to analyze the relevance of the generated answer to the given question.\n",
    "Based on the relevance of the generated answer, you will classify it\n",
    "as \"NON_RELEVANT\", \"PARTLY_RELEVANT\", or \"RELEVANT\".\n",
    "\n",
    "Here is the data for evaluation:\n",
    "\n",
    "Question: {question}\n",
    "Generated Answer: {answer_llm}\n",
    "\n",
    "Please analyze the content and context of the generated answer in relation to the question\n",
    "and provide your evaluation in parsable JSON without using code blocks:\n",
    "\n",
    "{{\n",
    "  \"Relevance\": \"NON_RELEVANT\" | \"PARTLY_RELEVANT\" | \"RELEVANT\",\n",
    "  \"Explanation\": \"[Provide a brief explanation for your evaluation]\"\n",
    "}}\n",
    "\"\"\".strip()"
   ]
  },
  {
   "cell_type": "code",
   "execution_count": 37,
   "id": "a1b0bfd8",
   "metadata": {},
   "outputs": [],
   "source": [
    "# Evaluate all models using LLM-as-a-Judge (A>Q>A evaluation)\n",
    "evaluations_aqa = []\n",
    "\n",
    "for result in single_example_results:\n",
    "    prompt = prompt1_template.format(**result)\n",
    "    evaluation_str = llm(prompt, model='gpt-4o-mini')\n",
    "    \n",
    "    try:\n",
    "        evaluation = json.loads(evaluation_str)\n",
    "        evaluation['model'] = result['model']\n",
    "        evaluation['evaluation_type'] = 'Answer-Question-Answer'\n",
    "        evaluations_aqa.append(evaluation)\n",
    "    except json.JSONDecodeError:\n",
    "        print(f\"Failed to parse evaluation for model {result['model']}\")"
   ]
  },
  {
   "cell_type": "code",
   "execution_count": 38,
   "id": "0a0bcf73",
   "metadata": {},
   "outputs": [],
   "source": [
    "# Evaluate all models using LLM-as-a-Judge (Q>A evaluation)\n",
    "evaluations_qa = []\n",
    "\n",
    "for result in single_example_results:\n",
    "    prompt = prompt2_template.format(**result)\n",
    "    evaluation_str = llm(prompt, model='gpt-4o-mini')\n",
    "    \n",
    "    try:\n",
    "        evaluation = json.loads(evaluation_str)\n",
    "        evaluation['model'] = result['model']\n",
    "        evaluation['evaluation_type'] = 'Question-Answer'\n",
    "        evaluations_qa.append(evaluation)\n",
    "    except json.JSONDecodeError:\n",
    "        print(f\"Failed to parse evaluation for model {result['model']}\")"
   ]
  },
  {
   "cell_type": "code",
   "execution_count": 39,
   "id": "587906e3",
   "metadata": {},
   "outputs": [],
   "source": [
    "# Combine all evaluations\n",
    "all_evaluations = evaluations_aqa + evaluations_qa\n",
    "df_evaluations = pd.DataFrame(all_evaluations)"
   ]
  },
  {
   "cell_type": "code",
   "execution_count": 40,
   "id": "80e0a95b",
   "metadata": {},
   "outputs": [
    {
     "name": "stdout",
     "output_type": "stream",
     "text": [
      "LLM-as-a-Judge Evaluation Results:\n",
      "           model         evaluation_type        Relevance  \\\n",
      "0  gpt-3.5-turbo  Answer-Question-Answer     NON_RELEVANT   \n",
      "1         gpt-4o  Answer-Question-Answer     NON_RELEVANT   \n",
      "2    gpt-4o-mini  Answer-Question-Answer     NON_RELEVANT   \n",
      "3  gpt-3.5-turbo         Question-Answer  PARTLY_RELEVANT   \n",
      "4         gpt-4o         Question-Answer  PARTLY_RELEVANT   \n",
      "5    gpt-4o-mini         Question-Answer         RELEVANT   \n",
      "\n",
      "                                         Explanation  \n",
      "0  The generated answer focuses on must-see relig...  \n",
      "1  The generated answer focuses on must-see relig...  \n",
      "2  The generated answer provides information abou...  \n",
      "3  The generated answer provides information abou...  \n",
      "4  The generated answer mentions the Tirumala Hil...  \n",
      "5  The generated answer directly addresses the qu...  \n"
     ]
    }
   ],
   "source": [
    "# Display evaluation results\n",
    "print(\"LLM-as-a-Judge Evaluation Results:\")\n",
    "print(df_evaluations[['model', 'evaluation_type', 'Relevance', 'Explanation']])"
   ]
  },
  {
   "cell_type": "code",
   "execution_count": 41,
   "id": "0f417831",
   "metadata": {},
   "outputs": [],
   "source": [
    "# Save LLM-as-a-Judge evaluations\n",
    "df_evaluations.to_csv('../results/llm_as_a_judge_evaluations.csv', index=False)"
   ]
  },
  {
   "cell_type": "code",
   "execution_count": 42,
   "id": "66377b1e",
   "metadata": {},
   "outputs": [
    {
     "data": {
      "image/png": "[encoded data removed]",
      "text/plain": [
       "<Figure size 1500x600 with 2 Axes>"
      ]
     },
     "metadata": {},
     "output_type": "display_data"
    }
   ],
   "source": [
    "# Create visualization for LLM-as-a-Judge results\n",
    "fig, (ax1, ax2) = plt.subplots(1, 2, figsize=(15, 6))"
   ]
  },
  {
   "cell_type": "code",
   "execution_count": 43,
   "id": "a55293b1",
   "metadata": {},
   "outputs": [],
   "source": [
    "# Plot AQA evaluations\n",
    "aqa_data = df_evaluations[df_evaluations['evaluation_type'] == 'Answer-Question-Answer']\n",
    "aqa_counts = aqa_data.groupby(['model', 'Relevance']).size().unstack(fill_value=0)\n",
    "aqa_counts.plot(kind='bar', ax=ax1, title='Answer-Question-Answer Evaluation')\n",
    "ax1.set_xlabel('Model')\n",
    "ax1.set_ylabel('Count')\n",
    "ax1.legend(title='Relevance')\n",
    "ax1.tick_params(axis='x', rotation=45)"
   ]
  },
  {
   "cell_type": "code",
   "execution_count": 44,
   "id": "1a6bb546",
   "metadata": {},
   "outputs": [
    {
     "data": {
      "text/plain": [
       "<Figure size 640x480 with 0 Axes>"
      ]
     },
     "metadata": {},
     "output_type": "display_data"
    }
   ],
   "source": [
    "# Plot QA evaluations\n",
    "qa_data = df_evaluations[df_evaluations['evaluation_type'] == 'Question-Answer']\n",
    "qa_counts = qa_data.groupby(['model', 'Relevance']).size().unstack(fill_value=0)\n",
    "qa_counts.plot(kind='bar', ax=ax2, title='Question-Answer Evaluation')\n",
    "ax2.set_xlabel('Model')\n",
    "ax2.set_ylabel('Count')\n",
    "ax2.legend(title='Relevance')\n",
    "ax2.tick_params(axis='x', rotation=45)\n",
    "\n",
    "plt.tight_layout()\n",
    "plt.savefig('../images/llm_as_a_judge_evaluation.png', dpi=300, bbox_inches='tight')\n",
    "plt.show()"
   ]
  },
  {
   "cell_type": "markdown",
   "id": "29d1ef86",
   "metadata": {},
   "source": [
    "#### Summary Results"
   ]
  },
  {
   "cell_type": "code",
   "execution_count": 45,
   "id": "7fda695f",
   "metadata": {},
   "outputs": [
    {
     "name": "stdout",
     "output_type": "stream",
     "text": [
      "=== EVALUATION SUMMARY ===\n",
      "\n",
      "1. COSINE SIMILARITY SCORES:\n",
      "   gpt-3.5-turbo: 0.3566\n",
      "   gpt-4o: 0.3690\n",
      "   gpt-4o-mini: 0.3911\n",
      "\n",
      "2. LLM-as-a-JUDGE EVALUATIONS:\n",
      "\n",
      "   Answer-Question-Answer Relevance:\n",
      "   gpt-3.5-turbo: NON_RELEVANT\n",
      "   gpt-4o: NON_RELEVANT\n",
      "   gpt-4o-mini: NON_RELEVANT\n",
      "\n",
      "   Question-Answer Relevance:\n",
      "   gpt-3.5-turbo: PARTLY_RELEVANT\n",
      "   gpt-4o: PARTLY_RELEVANT\n",
      "   gpt-4o-mini: RELEVANT\n",
      "\n",
      "3. FILES GENERATED:\n",
      "   - results/single_example_comparison.csv\n",
      "   - results/cosine_similarities.csv\n",
      "   - results/llm_judge_evaluations.csv\n",
      "   - images/cosine_similarity_comparison.png\n",
      "   - images/llm_judge_evaluation.png\n",
      "   - data/processed/ques-docs-pairs.json\n"
     ]
    }
   ],
   "source": [
    "# Create summary report\n",
    "print(\"=== EVALUATION SUMMARY ===\")\n",
    "print(\"\\n1. COSINE SIMILARITY SCORES:\")\n",
    "for _, row in df_similarities.iterrows():\n",
    "    print(f\"   {row['model']}: {row['cosine_similarity']:.4f}\")\n",
    "\n",
    "print(\"\\n2. LLM-as-a-JUDGE EVALUATIONS:\")\n",
    "print(\"\\n   Answer-Question-Answer Relevance:\")\n",
    "for _, row in aqa_data.iterrows():\n",
    "    print(f\"   {row['model']}: {row['Relevance']}\")\n",
    "\n",
    "print(\"\\n   Question-Answer Relevance:\")\n",
    "for _, row in qa_data.iterrows():\n",
    "    print(f\"   {row['model']}: {row['Relevance']}\")\n",
    "\n",
    "print(\"\\n3. FILES GENERATED:\")\n",
    "print(\"   - results/single_example_comparison.csv\")\n",
    "print(\"   - results/cosine_similarities.csv\") \n",
    "print(\"   - results/llm_judge_evaluations.csv\")\n",
    "print(\"   - images/cosine_similarity_comparison.png\")\n",
    "print(\"   - images/llm_judge_evaluation.png\")\n",
    "print(\"   - data/processed/ques-docs-pairs.json\")"
   ]
  }
 ],
 "metadata": {
  "kernelspec": {
   "display_name": "brahman_env",
   "language": "python",
   "name": "python3"
  },
  "language_info": {
   "codemirror_mode": {
    "name": "ipython",
    "version": 3
   },
   "file_extension": ".py",
   "mimetype": "text/x-python",
   "name": "python",
   "nbconvert_exporter": "python",
   "pygments_lexer": "ipython3",
   "version": "3.10.18"
  }
 },
 "nbformat": 4,
 "nbformat_minor": 5
}
