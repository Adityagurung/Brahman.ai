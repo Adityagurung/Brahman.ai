{
 "cells": [
  {
   "cell_type": "code",
   "execution_count": 43,
   "id": "724cef1b",
   "metadata": {},
   "outputs": [],
   "source": [
    "import torch\n",
    "import transformers"
   ]
  },
  {
   "cell_type": "code",
   "execution_count": 44,
   "id": "9e46bcc1",
   "metadata": {},
   "outputs": [],
   "source": [
    "import json\n",
    "import pandas as pd\n",
    "import numpy as np\n",
    "import seaborn as sns\n",
    "import matplotlib.pyplot as plt\n",
    "import os\n",
    "import random"
   ]
  },
  {
   "cell_type": "code",
   "execution_count": 45,
   "id": "41f74b87",
   "metadata": {},
   "outputs": [],
   "source": [
    "from sentence_transformers import SentenceTransformer\n",
    "from tqdm.auto import tqdm\n",
    "from openai import OpenAI\n",
    "from concurrent.futures import ThreadPoolExecutor"
   ]
  },
  {
   "cell_type": "code",
   "execution_count": null,
   "id": "0e777fc4",
   "metadata": {},
   "outputs": [
    {
     "name": "stderr",
     "output_type": "stream",
     "text": [
      "Some weights of BertModel were not initialized from the model checkpoint at jinaai/jina-embeddings-v2-small-en and are newly initialized: ['embeddings.position_embeddings.weight', 'encoder.layer.0.intermediate.dense.bias', 'encoder.layer.0.intermediate.dense.weight', 'encoder.layer.0.output.LayerNorm.bias', 'encoder.layer.0.output.LayerNorm.weight', 'encoder.layer.0.output.dense.bias', 'encoder.layer.0.output.dense.weight', 'encoder.layer.1.intermediate.dense.bias', 'encoder.layer.1.intermediate.dense.weight', 'encoder.layer.1.output.LayerNorm.bias', 'encoder.layer.1.output.LayerNorm.weight', 'encoder.layer.1.output.dense.bias', 'encoder.layer.1.output.dense.weight', 'encoder.layer.2.intermediate.dense.bias', 'encoder.layer.2.intermediate.dense.weight', 'encoder.layer.2.output.LayerNorm.bias', 'encoder.layer.2.output.LayerNorm.weight', 'encoder.layer.2.output.dense.bias', 'encoder.layer.2.output.dense.weight', 'encoder.layer.3.intermediate.dense.bias', 'encoder.layer.3.intermediate.dense.weight', 'encoder.layer.3.output.LayerNorm.bias', 'encoder.layer.3.output.LayerNorm.weight', 'encoder.layer.3.output.dense.bias', 'encoder.layer.3.output.dense.weight']\n",
      "You should probably TRAIN this model on a down-stream task to be able to use it for predictions and inference.\n"
     ]
    },
    {
     "name": "stdout",
     "output_type": "stream",
     "text": [
      "✅ SentenceTransformer model loaded successfully\n"
     ]
    }
   ],
   "source": [
    "try:\n",
    "    from sentence_transformers import SentenceTransformer\n",
    "    model = SentenceTransformer(\"jinaai/jina-embeddings-v2-small-en\")\n",
    "    print(\"✅ SentenceTransformer model loaded successfully\")\n",
    "except Exception as e:\n",
    "    print(f\"❌ Failed to load SentenceTransformer: {e}\")\n",
    "    model = None\n"
   ]
  },
  {
   "cell_type": "code",
   "execution_count": 48,
   "id": "abecb06a",
   "metadata": {},
   "outputs": [
    {
     "name": "stdout",
     "output_type": "stream",
     "text": [
      "Loaded 149 documents and 735 ground truth questions\n"
     ]
    }
   ],
   "source": [
    "# Load documents from processed JSON file\n",
    "with open('../data/processed/documents-with-ids.json', 'r') as f:\n",
    "    documents = json.load(f)\n",
    "\n",
    "# Load ground truth dataset for evaluation from CSV file\n",
    "df_ground_truth = pd.read_csv('../data/processed/ground-truth-retrieval.csv')\n",
    "ground_truth = df_ground_truth.to_dict(orient='records')\n",
    "\n",
    "print(f\"Loaded {len(documents)} documents and {len(ground_truth)} ground truth questions\")"
   ]
  },
  {
   "cell_type": "code",
   "execution_count": 49,
   "id": "979776da",
   "metadata": {},
   "outputs": [
    {
     "data": {
      "text/plain": [
       "{'location': 'Andhra_Pradesh',\n",
       " 'doc_id': 'd4402d82c0',\n",
       " 'content': \"Andhra Pradesh is known for its rich history, architecture and culture. Andhra Pradesh has a variety of tourist attractions including beaches, hills, wildlife, forests and temples. Like rest of the Southern India, the culture of Andhra Pradesh is essentially Dravidian, quite different from North India's Sanskrit Hindu culture. Andhra Pradesh was part of the British Madras presidency and then independent India's Madras State until 1953, when Andhra State was formed, with the capital being\",\n",
       " 'id': '450a9d36'}"
      ]
     },
     "execution_count": 49,
     "metadata": {},
     "output_type": "execute_result"
    }
   ],
   "source": [
    "documents[10]"
   ]
  },
  {
   "cell_type": "code",
   "execution_count": 50,
   "id": "938a7f50",
   "metadata": {},
   "outputs": [
    {
     "data": {
      "text/plain": [
       "{'question': 'What are the must-see religious temples to visit in Andhra Pradesh?',\n",
       " 'id': 'db0beb52'}"
      ]
     },
     "execution_count": 50,
     "metadata": {},
     "output_type": "execute_result"
    }
   ],
   "source": [
    "ground_truth[10]"
   ]
  },
  {
   "cell_type": "code",
   "execution_count": 51,
   "id": "d92f8c0c",
   "metadata": {},
   "outputs": [
    {
     "name": "stdout",
     "output_type": "stream",
     "text": [
      "Created merged dataset with 745 question-document pairs\n",
      "Sample merged record keys: ['question', 'id', 'location', 'doc_id', 'content']\n"
     ]
    }
   ],
   "source": [
    "# Create a merged dataframe by joining ground-truth with documents on 'id' column\n",
    "df_documents = pd.DataFrame(documents)\n",
    "df_merged = df_ground_truth.merge(df_documents, on='id', how='inner')\n",
    "merged_data = df_merged.to_dict(orient='records')\n",
    "with open('../data/processed/ques-docs-pairs.json', 'w') as f:\n",
    "    json.dump(merged_data, f, indent=2)\n",
    "    \n",
    "print(f\"Created merged dataset with {len(merged_data)} question-document pairs\")\n",
    "print(f\"Sample merged record keys: {list(merged_data[0].keys()) if merged_data else 'No data'}\")"
   ]
  },
  {
   "cell_type": "code",
   "execution_count": 52,
   "id": "f7da208f",
   "metadata": {},
   "outputs": [],
   "source": [
    "# Create document index for quick lookup\n",
    "doc_idx = {d['id']: d for d in documents}"
   ]
  },
  {
   "cell_type": "code",
   "execution_count": 53,
   "id": "314ed3f6",
   "metadata": {},
   "outputs": [
    {
     "data": {
      "text/plain": [
       "'Northern Coast (Alluri Sitharama Raju, Anakapalli, East Godavari, Kakinada, Konaseema, Parvathipuram Manyam, Srikakulam, Visakhapatnam, Vizianagaram, Yanam) Central Coast (Eluru, Krishna, NTR, West Godavari) Southern Coast (Bapatla, Guntur, Nellore, Palnadu, Prakasam, Tirupati) Rayalaseema (Annamayya, Anantapur, Chittoor, Kadapa, Kurnool, Nandyal, Sri Sathya Sai)  \\n![0_image_1.png](0_image_1.png) interactive map'"
      ]
     },
     "execution_count": 53,
     "metadata": {},
     "output_type": "execute_result"
    }
   ],
   "source": [
    "doc_idx['db0beb52']['content']"
   ]
  },
  {
   "cell_type": "markdown",
   "id": "97e562ce",
   "metadata": {},
   "source": [
    " #### Index data"
   ]
  },
  {
   "cell_type": "code",
   "execution_count": 54,
   "id": "8cc82898",
   "metadata": {},
   "outputs": [],
   "source": [
    "# Initialize sentence transformer model\n",
    "model_name = 'multi-qa-MiniLM-L6-cos-v1'\n",
    "model = SentenceTransformer(model_name)"
   ]
  },
  {
   "cell_type": "code",
   "execution_count": 55,
   "id": "4a2ba7e6",
   "metadata": {},
   "outputs": [
    {
     "data": {
      "application/vnd.jupyter.widget-view+json": {
       "model_id": "6c6253bbfa984e4ab95583a8b52b9d16",
       "version_major": 2,
       "version_minor": 0
      },
      "text/plain": [
       "  0%|          | 0/149 [00:00<?, ?it/s]"
      ]
     },
     "metadata": {},
     "output_type": "display_data"
    }
   ],
   "source": [
    "# Generate vectors for all documents\n",
    "vectors = []\n",
    "for doc in tqdm(documents):\n",
    "    # Use content field instead of question + text\n",
    "    content = doc['content']\n",
    "    vector = model.encode(content)\n",
    "    vectors.append(vector)\n",
    "\n",
    "vectors = np.array(vectors)"
   ]
  },
  {
   "cell_type": "code",
   "execution_count": 56,
   "id": "e7f50e55",
   "metadata": {},
   "outputs": [
    {
     "data": {
      "text/plain": [
       "<minsearch.vector.VectorSearch at 0x1c62691a650>"
      ]
     },
     "execution_count": 56,
     "metadata": {},
     "output_type": "execute_result"
    }
   ],
   "source": [
    "# Create vector search index\n",
    "from minsearch import VectorSearch\n",
    "\n",
    "vindex = VectorSearch(keyword_fields=['location'])\n",
    "vindex.fit(vectors, documents)"
   ]
  },
  {
   "cell_type": "markdown",
   "id": "d0cb6f1c",
   "metadata": {},
   "source": [
    "### Retrieval\n"
   ]
  },
  {
   "cell_type": "code",
   "execution_count": 57,
   "id": "4e2a3ae6",
   "metadata": {},
   "outputs": [],
   "source": [
    "def minsearch_vector_search(vector, location):\n",
    "    return vindex.search(\n",
    "        vector,\n",
    "        filter_dict={'location': location},\n",
    "        num_results=5\n",
    "    )\n",
    "\n",
    "def question_text_vector(q):\n",
    "    question = q['question']\n",
    "    location = q.get('location', None)  # Get location if available, otherwise None\n",
    "    v_q = model.encode(question)\n",
    "    \n",
    "    if location:\n",
    "        return minsearch_vector_search(v_q, location)\n",
    "    else:\n",
    "        # If no location specified, search without filter\n",
    "        return vindex.search(v_q, num_results=5)"
   ]
  },
  {
   "cell_type": "code",
   "execution_count": 58,
   "id": "671e5606",
   "metadata": {},
   "outputs": [
    {
     "name": "stdout",
     "output_type": "stream",
     "text": [
      "Found 5 relevant documents\n"
     ]
    }
   ],
   "source": [
    "# Test vector search functionality\n",
    "test_question = {\n",
    "    'question': 'What are the must-see religious sites in Andhra Pradesh?',\n",
    "}\n",
    "search_results = question_text_vector(test_question)\n",
    "print(f\"Found {len(search_results)} relevant documents\")"
   ]
  },
  {
   "cell_type": "code",
   "execution_count": 59,
   "id": "b44dfc4f",
   "metadata": {},
   "outputs": [
    {
     "data": {
      "text/plain": [
       "[{'location': 'Andhra_Pradesh',\n",
       "  'doc_id': 'd4402d82c0',\n",
       "  'content': 'Andhra Pradesh (AP) is a state in Southern India, with Bay of Bengal on the east and shares boundaries with Telangana on the north, Chhattisgarh and Odisha on the north-east, Tamil Nadu on the south and Karnataka on the west. Vijayawada is the capital of this state.',\n",
       "  'id': 'a411c9aa'},\n",
       " {'location': 'Andhra_Pradesh',\n",
       "  'doc_id': 'd4402d82c0',\n",
       "  'content': \"Andhra Pradesh is known for its rich history, architecture and culture. Andhra Pradesh has a variety of tourist attractions including beaches, hills, wildlife, forests and temples. Like rest of the Southern India, the culture of Andhra Pradesh is essentially Dravidian, quite different from North India's Sanskrit Hindu culture. Andhra Pradesh was part of the British Madras presidency and then independent India's Madras State until 1953, when Andhra State was formed, with the capital being\",\n",
       "  'id': '450a9d36'},\n",
       " {'location': 'Andhra_Pradesh',\n",
       "  'doc_id': '9eb5245053',\n",
       "  'content': 'the most attractive city in Andhra Pradesh, with exotic resorts near beaches 7 8 9',\n",
       "  'id': '3ed17fb0'},\n",
       " {'location': 'Andhra_Pradesh',\n",
       "  'doc_id': 'ed240be0ed',\n",
       "  'content': 'Amaravati - the capital of Andhra Pradesh which covers the areas that have Buddhist sites Anantapur - a city well connected by road and rail with the city and nearby attractions Guntur - the third largest city in Andhra Pradesh and home to many ancient and archaeological sites and temples Kurnool - the site of Konda Reddy Fort Nellore - a combination of religion, nature, and history Rajahmundry - known as the cultural capital of Andhra Pradesh, noted for its versatile Vedic culture and',\n",
       "  'id': '4de0caea'},\n",
       " {'location': 'Andhra_Pradesh',\n",
       "  'doc_id': 'd4402d82c0',\n",
       "  'content': 'Odisha Karnataka Tamil Nadu Telangana Retrieved from \"https://en.wikivoyage.org/w/index.php?title=Andhra_Pradesh&oldid=5081274\"',\n",
       "  'id': 'b184cf08'}]"
      ]
     },
     "execution_count": 59,
     "metadata": {},
     "output_type": "execute_result"
    }
   ],
   "source": [
    "search_results"
   ]
  },
  {
   "cell_type": "markdown",
   "id": "89b17141",
   "metadata": {},
   "source": [
    "#### The RAG flow with Travel Assistant Prompt"
   ]
  },
  {
   "cell_type": "code",
   "execution_count": 60,
   "id": "176dbdf1",
   "metadata": {},
   "outputs": [],
   "source": [
    "def build_prompt(query, search_results):\n",
    "    prompt_template = \"\"\"\n",
    "You're a travel assistant bot that helps users plan their itinerary and discover amazing places to visit.\n",
    "Answer the QUESTION based on the CONTEXT from the travel database.\n",
    "Use only the facts from the CONTEXT when answering the QUESTION.\n",
    "\n",
    "When answering, consider:\n",
    "- Must-visit tourist attractions and landmarks\n",
    "- Cultural experiences and local traditions  \n",
    "- Historical significance of places\n",
    "- Best times to visit and travel tips\n",
    "- Local cuisine and specialties (if mentioned in context)\n",
    "- Transportation and accessibility information (if available)\n",
    "\n",
    "QUESTION: {question}\n",
    "\n",
    "CONTEXT: \n",
    "{context}\n",
    "\"\"\".strip()\n",
    "\n",
    "    context = \"\"\n",
    "    for doc in search_results:\n",
    "        location = doc.get('location', 'Unknown')\n",
    "        content = doc.get('content', doc.get('text', ''))  # Handle both content and text fields\n",
    "        context = context + f\"location: {location}\\ncontent: {content}\\n\\n\"\n",
    "    \n",
    "    prompt = prompt_template.format(question=query, context=context).strip()\n",
    "    return prompt"
   ]
  },
  {
   "cell_type": "code",
   "execution_count": 61,
   "id": "b8b6c7fb",
   "metadata": {},
   "outputs": [],
   "source": [
    "# Initialize OpenAI client\n",
    "client = OpenAI()"
   ]
  },
  {
   "cell_type": "code",
   "execution_count": 62,
   "id": "854e24eb",
   "metadata": {},
   "outputs": [],
   "source": [
    "def llm(prompt, model='gpt-4o'):\n",
    "    response = client.chat.completions.create(\n",
    "        model=model,\n",
    "        messages=[{\"role\": \"user\", \"content\": prompt}]\n",
    "    )\n",
    "    return response.choices[0].message.content"
   ]
  },
  {
   "cell_type": "code",
   "execution_count": 63,
   "id": "fa4f7ae3",
   "metadata": {},
   "outputs": [],
   "source": [
    "def rag(query: dict, model='gpt-4o') -> str:\n",
    "    search_results = question_text_vector(query)\n",
    "    prompt = build_prompt(query['question'], search_results)\n",
    "    answer = llm(prompt, model=model)\n",
    "    return answer"
   ]
  },
  {
   "cell_type": "markdown",
   "id": "33872cf6",
   "metadata": {},
   "source": [
    "#### Single Example Evaluation Across All Models"
   ]
  },
  {
   "cell_type": "code",
   "execution_count": 64,
   "id": "fa0bb0ad",
   "metadata": {},
   "outputs": [
    {
     "data": {
      "text/plain": [
       "{'question': 'What are the must-see religious temples to visit in Andhra Pradesh?',\n",
       " 'id': 'db0beb52'}"
      ]
     },
     "execution_count": 64,
     "metadata": {},
     "output_type": "execute_result"
    }
   ],
   "source": [
    "ground_truth[10]"
   ]
  },
  {
   "cell_type": "code",
   "execution_count": 65,
   "id": "261ddc3c",
   "metadata": {},
   "outputs": [],
   "source": [
    "# Set random seed for reproducibility\n",
    "random.seed(42)\n",
    "np.random.seed(42)"
   ]
  },
  {
   "cell_type": "code",
   "execution_count": 66,
   "id": "7a056c20",
   "metadata": {},
   "outputs": [
    {
     "name": "stdout",
     "output_type": "stream",
     "text": [
      "Selected 25 random questions for evaluation:\n",
      "1. Question: Do foreign travelers need a visa and passport to visit Karnataka?...\n",
      "   Document ID: 7adcc584\n",
      "2. Question: What is the historical importance of Penukonda in the context of the Vijayanagara empire?...\n",
      "   Document ID: 032385d9\n",
      "3. Question: What are the main cultural and spiritual centers to visit in Andhra Pradesh?...\n",
      "   Document ID: dceae12c\n",
      "4. Question: Which species of animals and birds might I encounter in Bandipur National Park?...\n",
      "   Document ID: 2ffbfa3d\n",
      "5. Question: What are some must-visit cultural and natural attractions in Karnataka?...\n",
      "   Document ID: 56d1a83b\n"
     ]
    }
   ],
   "source": [
    "# Select 25 random examples for evaluation across all models\n",
    "sample_size = 25\n",
    "sample_questions = random.sample(ground_truth, min(sample_size, len(ground_truth)))\n",
    "\n",
    "print(f\"Selected {len(sample_questions)} random questions for evaluation:\")\n",
    "for i, q in enumerate(sample_questions[:5]):  # Show first 5 as preview\n",
    "    print(f\"{i+1}. Question: {q['question'][:100]}...\")\n",
    "    print(f\"   Document ID: {q['id']}\")"
   ]
  },
  {
   "cell_type": "code",
   "execution_count": 67,
   "id": "b82bb306",
   "metadata": {},
   "outputs": [
    {
     "name": "stdout",
     "output_type": "stream",
     "text": [
      "Prepared 25 question dictionaries for RAG evaluation\n"
     ]
    }
   ],
   "source": [
    "# Prepare all question dictionaries for RAG\n",
    "sample_question_dicts = []\n",
    "for sample_question in sample_questions:\n",
    "    doc_id = sample_question['id']\n",
    "    original_doc = doc_idx[doc_id]\n",
    "    sample_location = original_doc.get('location', 'Unknown')\n",
    "    \n",
    "    question_dict = {\n",
    "        'question': sample_question['question'],\n",
    "        'location': sample_location,\n",
    "        'id': doc_id\n",
    "    }\n",
    "    sample_question_dicts.append(question_dict)\n",
    "\n",
    "print(f\"Prepared {len(sample_question_dicts)} question dictionaries for RAG evaluation\")"
   ]
  },
  {
   "cell_type": "code",
   "execution_count": 68,
   "id": "3baef524",
   "metadata": {},
   "outputs": [
    {
     "name": "stdout",
     "output_type": "stream",
     "text": [
      "\n",
      "Testing model: gpt-3.5-turbo\n",
      "  Processing question 1/25...\n",
      "  Processing question 2/25...\n",
      "  Processing question 3/25...\n",
      "  Processing question 4/25...\n",
      "  Processing question 5/25...\n",
      "  Processing question 6/25...\n",
      "  Processing question 7/25...\n",
      "  Processing question 8/25...\n",
      "  Processing question 9/25...\n",
      "  Processing question 10/25...\n",
      "  Processing question 11/25...\n",
      "  Processing question 12/25...\n",
      "  Processing question 13/25...\n",
      "  Processing question 14/25...\n",
      "  Processing question 15/25...\n",
      "  Processing question 16/25...\n",
      "  Processing question 17/25...\n",
      "  Processing question 18/25...\n",
      "  Processing question 19/25...\n",
      "  Processing question 20/25...\n",
      "  Processing question 21/25...\n",
      "  Processing question 22/25...\n",
      "  Processing question 23/25...\n",
      "  Processing question 24/25...\n",
      "  Processing question 25/25...\n",
      "\n",
      "Testing model: gpt-4o\n",
      "  Processing question 1/25...\n",
      "  Processing question 2/25...\n",
      "  Processing question 3/25...\n",
      "  Processing question 4/25...\n",
      "  Processing question 5/25...\n",
      "  Processing question 6/25...\n",
      "  Processing question 7/25...\n",
      "  Processing question 8/25...\n",
      "  Processing question 9/25...\n",
      "  Processing question 10/25...\n",
      "  Processing question 11/25...\n",
      "  Processing question 12/25...\n",
      "  Processing question 13/25...\n",
      "  Processing question 14/25...\n",
      "  Processing question 15/25...\n",
      "  Processing question 16/25...\n",
      "  Processing question 17/25...\n",
      "  Processing question 18/25...\n",
      "  Processing question 19/25...\n",
      "  Processing question 20/25...\n",
      "  Processing question 21/25...\n",
      "  Processing question 22/25...\n",
      "  Processing question 23/25...\n",
      "  Processing question 24/25...\n",
      "  Processing question 25/25...\n",
      "\n",
      "Testing model: gpt-4o-mini\n",
      "  Processing question 1/25...\n",
      "  Processing question 2/25...\n",
      "  Processing question 3/25...\n",
      "  Processing question 4/25...\n",
      "  Processing question 5/25...\n",
      "  Processing question 6/25...\n",
      "  Processing question 7/25...\n",
      "  Processing question 8/25...\n",
      "  Processing question 9/25...\n",
      "  Processing question 10/25...\n",
      "  Processing question 11/25...\n",
      "  Processing question 12/25...\n",
      "  Processing question 13/25...\n",
      "  Processing question 14/25...\n",
      "  Processing question 15/25...\n",
      "  Processing question 16/25...\n",
      "  Processing question 17/25...\n",
      "  Processing question 18/25...\n",
      "  Processing question 19/25...\n",
      "  Processing question 20/25...\n",
      "  Processing question 21/25...\n",
      "  Processing question 22/25...\n",
      "  Processing question 23/25...\n",
      "  Processing question 24/25...\n",
      "  Processing question 25/25...\n",
      "\n",
      "Completed evaluation. Generated 75 results.\n"
     ]
    }
   ],
   "source": [
    "# Test all GPT models on the 25 examples\n",
    "models_to_test = ['gpt-3.5-turbo', 'gpt-4o', 'gpt-4o-mini']\n",
    "multiple_examples_results = []\n",
    "\n",
    "for model_name in models_to_test:\n",
    "    print(f\"\\nTesting model: {model_name}\")\n",
    "    \n",
    "    for i, (sample_question, question_dict) in enumerate(zip(sample_questions, sample_question_dicts)):\n",
    "        try:\n",
    "            print(f\"  Processing question {i+1}/{len(sample_questions)}...\")\n",
    "            \n",
    "            # Get original answer from documents\n",
    "            doc_id = sample_question['id']\n",
    "            original_doc = doc_idx[doc_id]\n",
    "            answer_orig = original_doc['content']\n",
    "            \n",
    "            # Generate answer using RAG\n",
    "            answer_llm = rag(question_dict, model=model_name)\n",
    "            \n",
    "            result = {\n",
    "                'model': model_name,\n",
    "                'question_id': i+1,\n",
    "                'question': question_dict['question'],\n",
    "                'location': question_dict['location'],\n",
    "                'document_id': doc_id,\n",
    "                'answer_orig': answer_orig,\n",
    "                'answer_llm': answer_llm\n",
    "            }\n",
    "            multiple_examples_results.append(result)\n",
    "            \n",
    "        except Exception as e:\n",
    "            print(f\"    Error with model {model_name}, question {i+1}: {e}\")\n",
    "\n",
    "print(f\"\\nCompleted evaluation. Generated {len(multiple_examples_results)} results.\")"
   ]
  },
  {
   "cell_type": "code",
   "execution_count": 69,
   "id": "35531657",
   "metadata": {},
   "outputs": [],
   "source": [
    "df_multiple_examples = pd.DataFrame(multiple_examples_results)"
   ]
  },
  {
   "cell_type": "code",
   "execution_count": 70,
   "id": "6e04864e",
   "metadata": {},
   "outputs": [
    {
     "name": "stdout",
     "output_type": "stream",
     "text": [
      "\n",
      "Results summary:\n",
      "Total results: 75\n",
      "Results per model:\n",
      "  gpt-3.5-turbo: 25 results\n",
      "  gpt-4o: 25 results\n",
      "  gpt-4o-mini: 25 results\n"
     ]
    }
   ],
   "source": [
    "# Display summary statistics\n",
    "print(f\"\\nResults summary:\")\n",
    "print(f\"Total results: {len(multiple_examples_results)}\")\n",
    "print(f\"Results per model:\")\n",
    "for model in models_to_test:\n",
    "    count = len(df_multiple_examples[df_multiple_examples['model'] == model])\n",
    "    print(f\"  {model}: {count} results\")"
   ]
  },
  {
   "cell_type": "code",
   "execution_count": 71,
   "id": "af8b79d7",
   "metadata": {},
   "outputs": [
    {
     "name": "stdout",
     "output_type": "stream",
     "text": [
      "Saved multiple examples results to: results/multiple_examples_comparison.csv\n"
     ]
    }
   ],
   "source": [
    "# Save multiple examples results\n",
    "df_multiple_examples.to_csv('../results/multiple_examples_comparison.csv', index=False)\n",
    "print(\"Saved multiple examples results to: results/multiple_examples_comparison.csv\")"
   ]
  },
  {
   "cell_type": "markdown",
   "id": "d810719e",
   "metadata": {},
   "source": [
    "#### Cosine Similarity Metric "
   ]
  },
  {
   "cell_type": "code",
   "execution_count": 72,
   "id": "ba1bb080",
   "metadata": {},
   "outputs": [],
   "source": [
    "def compute_similarity(record):\n",
    "    \"\"\"Calculate cosine similarity between original and LLM answers\"\"\"\n",
    "    answer_orig = record['answer_orig']\n",
    "    answer_llm = record['answer_llm']\n",
    "    \n",
    "    v_llm = model.encode(answer_llm)\n",
    "    v_orig = model.encode(answer_orig)\n",
    "    \n",
    "    return v_llm.dot(v_orig)"
   ]
  },
  {
   "cell_type": "code",
   "execution_count": null,
   "id": "88879519",
   "metadata": {},
   "outputs": [],
   "source": [
    "def compute_similarity(record):\n",
    "    try:\n",
    "        answer_orig = record['answer_orig']\n",
    "        answer_llm = record['answer_llm']\n",
    "        \n",
    "        # Convert to strings and handle None values\n",
    "        answer_llm = str(answer_llm) if answer_llm is not None else \"\"\n",
    "        answer_orig = str(answer_orig) if answer_orig is not None else \"\"\n",
    "        \n",
    "        # Skip if either is empty\n",
    "        if not answer_llm.strip() or not answer_orig.strip():\n",
    "            return 0.0\n",
    "        \n",
    "        v_llm = model.encode(answer_llm)\n",
    "        v_orig = model.encode(answer_orig)\n",
    "        \n",
    "        return v_llm.dot(v_orig)\n",
    "        \n",
    "    except Exception as e:\n",
    "        print(f\"Error processing record: {record}\")\n",
    "        print(f\"Error: {e}\")\n",
    "        return 0.0  # or return None"
   ]
  },
  {
   "cell_type": "code",
   "execution_count": 76,
   "id": "804f1b8a",
   "metadata": {},
   "outputs": [
    {
     "name": "stdout",
     "output_type": "stream",
     "text": [
      "Calculating cosine similarities for all examples...\n"
     ]
    },
    {
     "data": {
      "application/vnd.jupyter.widget-view+json": {
       "model_id": "0dd760ff7bc241c18bc01710058612f7",
       "version_major": 2,
       "version_minor": 0
      },
      "text/plain": [
       "  0%|          | 0/75 [00:00<?, ?it/s]"
      ]
     },
     "metadata": {},
     "output_type": "display_data"
    },
    {
     "ename": "LookupError",
     "evalue": "unknown encoding: Foreign travelers visiting Karnataka will need a visa and passport to enter the state, as with entering any state in India. It is important to have the necessary travel documents when planning a trip to Karnataka to avoid any issues upon arrival.",
     "output_type": "error",
     "traceback": [
      "\u001b[1;31m---------------------------------------------------------------------------\u001b[0m",
      "\u001b[1;31mLookupError\u001b[0m                               Traceback (most recent call last)",
      "Cell \u001b[1;32mIn[76], line 6\u001b[0m\n\u001b[0;32m      4\u001b[0m \u001b[38;5;28mprint\u001b[39m(\u001b[38;5;124m\"\u001b[39m\u001b[38;5;124mCalculating cosine similarities for all examples...\u001b[39m\u001b[38;5;124m\"\u001b[39m)\n\u001b[0;32m      5\u001b[0m \u001b[38;5;28;01mfor\u001b[39;00m i, result \u001b[38;5;129;01min\u001b[39;00m \u001b[38;5;28menumerate\u001b[39m(tqdm(multiple_examples_results)):\n\u001b[1;32m----> 6\u001b[0m     similarity \u001b[38;5;241m=\u001b[39m \u001b[43mcompute_similarity\u001b[49m\u001b[43m(\u001b[49m\u001b[43mresult\u001b[49m\u001b[43m)\u001b[49m\n\u001b[0;32m      7\u001b[0m     cosine_similarities_all\u001b[38;5;241m.\u001b[39mappend({\n\u001b[0;32m      8\u001b[0m         \u001b[38;5;124m'\u001b[39m\u001b[38;5;124mmodel\u001b[39m\u001b[38;5;124m'\u001b[39m: result[\u001b[38;5;124m'\u001b[39m\u001b[38;5;124mmodel\u001b[39m\u001b[38;5;124m'\u001b[39m],\n\u001b[0;32m      9\u001b[0m         \u001b[38;5;124m'\u001b[39m\u001b[38;5;124mquestion_id\u001b[39m\u001b[38;5;124m'\u001b[39m: result[\u001b[38;5;124m'\u001b[39m\u001b[38;5;124mquestion_id\u001b[39m\u001b[38;5;124m'\u001b[39m],\n\u001b[0;32m     10\u001b[0m         \u001b[38;5;124m'\u001b[39m\u001b[38;5;124mcosine_similarity\u001b[39m\u001b[38;5;124m'\u001b[39m: similarity,\n\u001b[0;32m     11\u001b[0m         \u001b[38;5;124m'\u001b[39m\u001b[38;5;124mquestion\u001b[39m\u001b[38;5;124m'\u001b[39m: result[\u001b[38;5;124m'\u001b[39m\u001b[38;5;124mquestion\u001b[39m\u001b[38;5;124m'\u001b[39m]\n\u001b[0;32m     12\u001b[0m     })\n",
      "Cell \u001b[1;32mIn[72], line 6\u001b[0m, in \u001b[0;36mcompute_similarity\u001b[1;34m(record)\u001b[0m\n\u001b[0;32m      3\u001b[0m answer_orig \u001b[38;5;241m=\u001b[39m record[\u001b[38;5;124m'\u001b[39m\u001b[38;5;124manswer_orig\u001b[39m\u001b[38;5;124m'\u001b[39m]\n\u001b[0;32m      4\u001b[0m answer_llm \u001b[38;5;241m=\u001b[39m record[\u001b[38;5;124m'\u001b[39m\u001b[38;5;124manswer_llm\u001b[39m\u001b[38;5;124m'\u001b[39m]\n\u001b[1;32m----> 6\u001b[0m v_llm \u001b[38;5;241m=\u001b[39m \u001b[43mmodel\u001b[49m\u001b[38;5;241;43m.\u001b[39;49m\u001b[43mencode\u001b[49m\u001b[43m(\u001b[49m\u001b[43manswer_llm\u001b[49m\u001b[43m)\u001b[49m\n\u001b[0;32m      7\u001b[0m v_orig \u001b[38;5;241m=\u001b[39m model\u001b[38;5;241m.\u001b[39mencode(answer_orig)\n\u001b[0;32m      9\u001b[0m \u001b[38;5;28;01mreturn\u001b[39;00m v_llm\u001b[38;5;241m.\u001b[39mdot(v_orig)\n",
      "\u001b[1;31mLookupError\u001b[0m: unknown encoding: Foreign travelers visiting Karnataka will need a visa and passport to enter the state, as with entering any state in India. It is important to have the necessary travel documents when planning a trip to Karnataka to avoid any issues upon arrival."
     ]
    }
   ],
   "source": [
    "# Calculate cosine similarities for all models and all examples\n",
    "cosine_similarities_all = []\n",
    "\n",
    "print(\"Calculating cosine similarities for all examples...\")\n",
    "for i, result in enumerate(tqdm(multiple_examples_results)):\n",
    "    similarity = compute_similarity(result)\n",
    "    cosine_similarities_all.append({\n",
    "        'model': result['model'],\n",
    "        'question_id': result['question_id'],\n",
    "        'cosine_similarity': similarity,\n",
    "        'question': result['question']\n",
    "    })"
   ]
  },
  {
   "cell_type": "code",
   "execution_count": null,
   "id": "5484f65e",
   "metadata": {},
   "outputs": [],
   "source": [
    "# Convert to DataFrame\n",
    "df_similarities_all = pd.DataFrame(cosine_similarities_all)"
   ]
  },
  {
   "cell_type": "code",
   "execution_count": 77,
   "id": "cb3617d6",
   "metadata": {},
   "outputs": [
    {
     "name": "stdout",
     "output_type": "stream",
     "text": [
      "\n",
      "Cosine Similarity Statistics by Model:\n",
      "               count        mean        std         min         max  \\\n",
      "model                                                                 \n",
      "gpt-3.5-turbo     25  339.673889  40.448502  231.639099  416.498413   \n",
      "gpt-4o            25  337.053406  41.856098  242.224396  397.559601   \n",
      "gpt-4o-mini       25  333.478210  40.722000  232.546295  409.327606   \n",
      "\n",
      "                   median  \n",
      "model                      \n",
      "gpt-3.5-turbo  344.909698  \n",
      "gpt-4o         337.513702  \n",
      "gpt-4o-mini    339.849396  \n"
     ]
    }
   ],
   "source": [
    "# Calculate summary statistics\n",
    "similarity_stats = df_similarities_all.groupby('model')['cosine_similarity'].agg([\n",
    "    'count', 'mean', 'std', 'min', 'max', 'median'\n",
    "]).round(4)\n",
    "print(\"\\nCosine Similarity Statistics by Model:\")\n",
    "print(similarity_stats)"
   ]
  },
  {
   "cell_type": "code",
   "execution_count": null,
   "id": "6aa0e9e7",
   "metadata": {},
   "outputs": [],
   "source": []
  },
  {
   "cell_type": "code",
   "execution_count": null,
   "id": "9362e2b5",
   "metadata": {},
   "outputs": [],
   "source": [
    "from scipy.stats import gaussian_kde\n",
    "\n",
    "\n",
    "# Define the three models to compare\n",
    "models_to_compare = ['gpt-3.5-turbo', 'gpt-4o', 'gpt-4o-mini']\n",
    "colors = ['green', 'blue', 'orange']\n",
    "model_labels = ['GPT-3.5 Turbo', 'GPT-4o', 'GPT-4o Mini']\n",
    "\n",
    "# Sample data for each model\n",
    "sampled_data = {}\n",
    "\n",
    "for model in models_to_compare:\n",
    "    model_data = df_similarities_all[df_similarities_all['model'] == model]['cosine_similarity']\n",
    "    if len(model_data) >= sample_size:\n",
    "        sampled_data[model] = model_data.sample(n=sample_size, random_state=42).values\n",
    "    else:\n",
    "        sampled_data[model] = model_data.values\n",
    "        print(f\"Warning: Only {len(model_data)} samples available for {model}\")\n",
    "\n",
    "plt.figure(figsize=figsize)\n",
    "\n",
    "# Create histograms for each model\n",
    "for i, (model, color, label) in enumerate(zip(models_to_compare, colors, model_labels)):\n",
    "    if model in sampled_data:\n",
    "        plt.hist(sampled_data[model], bins=20, density=True, alpha=0.4, \n",
    "                label=label, color=color, edgecolor='black', linewidth=0.5)\n",
    "\n",
    "# Create smooth KDE curves\n",
    "x_vals = np.linspace(0, 1, 300)\n",
    "\n",
    "for i, (model, color) in enumerate(zip(models_to_compare, colors)):\n",
    "    if model in sampled_data and len(sampled_data[model]) > 1:\n",
    "        kde = gaussian_kde(sampled_data[model])\n",
    "        plt.plot(x_vals, kde(x_vals), color=color, lw=2.5)\n",
    "\n",
    "# Add interpretation lines\n",
    "plt.axvline(x=0.5, color='red', linestyle='--', alpha=0.7, \n",
    "            label='Moderate Similarity', linewidth=1)\n",
    "plt.axvline(x=0.7, color='darkred', linestyle='--', alpha=0.7, \n",
    "            label='High Similarity', linewidth=1)\n",
    "\n",
    "# Customize the plot\n",
    "plt.title('Travel Assistant RAG - Model Performance Comparison\\n(Cosine Similarity Between Original and Generated Answers)', \n",
    "          fontsize=16, fontweight='bold', pad=20)\n",
    "plt.xlabel('Cosine Similarity Score', fontsize=14, fontweight='bold')\n",
    "plt.ylabel('Density', fontsize=14, fontweight='bold')\n",
    "\n",
    "# Add sample information\n",
    "plt.figtext(0.5, 0.02, f'Sample Size: {sample_size} questions per model (Total: {sample_size * len(models_to_compare)} samples)', \n",
    "            ha='center', fontsize=10, style='italic')\n",
    "\n",
    "interpretation_text = \n",
    "plt.figtext(0.02, 0.65, interpretation_text, fontsize=9, \n",
    "            bbox=dict(boxstyle=\"round,pad=0.3\", facecolor=\"lightgray\", alpha=0.8))\n",
    "\n",
    "plt.legend(loc='upper right', fontsize=11)\n",
    "plt.grid(True, alpha=0.3)\n",
    "plt.xlim(0, 1)\n",
    "\n",
    "# Calculate and display summary statistics\n",
    "print(\"\\n=== SUMMARY STATISTICS ===\")\n",
    "for i, model in enumerate(models_to_compare):\n",
    "    if model in sampled_data:\n",
    "        data = sampled_data[model]\n",
    "        print(f\"\\n{model_labels[i]}:\")\n",
    "        print(f\"  Mean: {np.mean(data):.3f}\")\n",
    "        print(f\"  Std:  {np.std(data):.3f}\")\n",
    "        print(f\"  Median: {np.median(data):.3f}\")\n",
    "        print(f\"  Samples: {len(data)}\")\n",
    "        \n",
    "        # Performance classification\n",
    "        excellent = np.sum(data > 0.7)\n",
    "        good = np.sum((data >= 0.5) & (data <= 0.7))\n",
    "        needs_improvement = np.sum(data < 0.5)\n",
    "        \n",
    "        print(f\"  Excellent (>0.7): {excellent}/{len(data)} ({excellent/len(data)*100:.1f}%)\")\n",
    "        print(f\"  Good (0.5-0.7): {good}/{len(data)} ({good/len(data)*100:.1f}%)\")\n",
    "        print(f\"  Needs Improvement (<0.5): {needs_improvement}/{len(data)} ({needs_improvement/len(data)*100:.1f}%)\")\n",
    "\n",
    "plt.tight_layout()\n",
    "plt.show()\n",
    "\n",
    "return sampled_data\n"
   ]
  },
  {
   "cell_type": "code",
   "execution_count": null,
   "id": "5af67dd6",
   "metadata": {},
   "outputs": [],
   "source": []
  },
  {
   "cell_type": "code",
   "execution_count": null,
   "id": "bbbbfcac",
   "metadata": {},
   "outputs": [],
   "source": [
    "sampled_data = create_rag_comparison_histogram(df_similarities_all, sample_size=25)"
   ]
  },
  {
   "cell_type": "code",
   "execution_count": null,
   "id": "6d25c960",
   "metadata": {},
   "outputs": [],
   "source": [
    "# # Save similarities to CSV\n",
    "# df_similarities_all.to_csv('../results/cosine_similarities.csv', index=False)"
   ]
  },
  {
   "cell_type": "code",
   "execution_count": null,
   "id": "fa7f33be",
   "metadata": {},
   "outputs": [
    {
     "name": "stdout",
     "output_type": "stream",
     "text": [
      "=== DETAILED COSINE SIMILARITY ANALYSIS ===\n",
      "\n",
      "Summary Statistics:\n",
      "               count  mean  std  min  max  median\n",
      "model                                            \n",
      "gpt-3.5-turbo     15   0.0  0.0  0.0  0.0     0.0\n",
      "gpt-4o            15   0.0  0.0  0.0  0.0     0.0\n",
      "gpt-4o-mini       15   0.0  0.0  0.0  0.0     0.0\n",
      "\n",
      "Performance Classification:\n",
      "\n",
      "gpt-3.5-turbo:\n",
      "  Excellent (>0.7): 0/15 (0.0%)\n",
      "  Good (0.5-0.7): 0/15 (0.0%)\n",
      "  Needs Improvement (<0.5): 15/15 (100.0%)\n",
      "\n",
      "gpt-4o:\n",
      "  Excellent (>0.7): 0/15 (0.0%)\n",
      "  Good (0.5-0.7): 0/15 (0.0%)\n",
      "  Needs Improvement (<0.5): 15/15 (100.0%)\n",
      "\n",
      "gpt-4o-mini:\n",
      "  Excellent (>0.7): 0/15 (0.0%)\n",
      "  Good (0.5-0.7): 0/15 (0.0%)\n",
      "  Needs Improvement (<0.5): 15/15 (100.0%)\n"
     ]
    }
   ],
   "source": [
    "#Create detailed statistical comparison\n",
    "print(\"=== DETAILED COSINE SIMILARITY ANALYSIS ===\")\n",
    "print(\"\\nSummary Statistics:\")\n",
    "print(similarity_stats)\n",
    "\n",
    "print(\"\\nPerformance Classification:\")\n",
    "for model_name in models_to_test:\n",
    "    model_similarities = df_similarities_all[df_similarities_all['model'] == model_name]['cosine_similarity']\n",
    "    \n",
    "    excellent = len(model_similarities[model_similarities > 0.7])\n",
    "    good = len(model_similarities[(model_similarities >= 0.5) & (model_similarities <= 0.7)])\n",
    "    needs_improvement = len(model_similarities[model_similarities < 0.5])\n",
    "    total = len(model_similarities)\n",
    "    \n",
    "    print(f\"\\n{model_name}:\")\n",
    "    print(f\"  Excellent (>0.7): {excellent}/{total} ({excellent/total*100:.1f}%)\")\n",
    "    print(f\"  Good (0.5-0.7): {good}/{total} ({good/total*100:.1f}%)\")\n",
    "    print(f\"  Needs Improvement (<0.5): {needs_improvement}/{total} ({needs_improvement/total*100:.1f}%)\")\n"
   ]
  },
  {
   "cell_type": "markdown",
   "id": "5eb0a9cf",
   "metadata": {},
   "source": [
    "#### LLM-as-a-Judge Evaluation"
   ]
  },
  {
   "cell_type": "code",
   "execution_count": null,
   "id": "308cd76e",
   "metadata": {},
   "outputs": [],
   "source": [
    "# LLM-as-a-Judge evaluation prompts\n",
    "prompt1_template = \"\"\"\n",
    "You are an expert evaluator for a Retrieval-Augmented Generation (RAG) system.\n",
    "Your task is to analyze the relevance of the generated answer compared to the original answer provided.\n",
    "Based on the relevance and similarity of the generated answer to the original answer, you will classify\n",
    "it as \"NON_RELEVANT\", \"PARTLY_RELEVANT\", or \"RELEVANT\".\n",
    "\n",
    "Here is the data for evaluation:\n",
    "\n",
    "Original Answer: {answer_orig}\n",
    "Generated Question: {question}\n",
    "Generated Answer: {answer_llm}\n",
    "\n",
    "Please analyze the content and context of the generated answer in relation to the original\n",
    "answer and provide your evaluation in parsable JSON without using code blocks:\n",
    "\n",
    "{{\n",
    "  \"Relevance\": \"NON_RELEVANT\" | \"PARTLY_RELEVANT\" | \"RELEVANT\",\n",
    "  \"Explanation\": \"[Provide a brief explanation for your evaluation]\"\n",
    "}}\n",
    "\"\"\".strip()\n",
    "\n",
    "prompt2_template = \"\"\"\n",
    "You are an expert evaluator for a Retrieval-Augmented Generation (RAG) system.\n",
    "Your task is to analyze the relevance of the generated answer to the given question.\n",
    "Based on the relevance of the generated answer, you will classify it\n",
    "as \"NON_RELEVANT\", \"PARTLY_RELEVANT\", or \"RELEVANT\".\n",
    "\n",
    "Here is the data for evaluation:\n",
    "\n",
    "Question: {question}\n",
    "Generated Answer: {answer_llm}\n",
    "\n",
    "Please analyze the content and context of the generated answer in relation to the question\n",
    "and provide your evaluation in parsable JSON without using code blocks:\n",
    "\n",
    "{{\n",
    "  \"Relevance\": \"NON_RELEVANT\" | \"PARTLY_RELEVANT\" | \"RELEVANT\",\n",
    "  \"Explanation\": \"[Provide a brief explanation for your evaluation]\"\n",
    "}}\n",
    "\"\"\".strip()"
   ]
  },
  {
   "cell_type": "code",
   "execution_count": null,
   "id": "a1b0bfd8",
   "metadata": {},
   "outputs": [
    {
     "name": "stdout",
     "output_type": "stream",
     "text": [
      "Performing LLM-as-a-Judge evaluation on sample of results...\n",
      "\n",
      "Evaluating 5 examples for gpt-3.5-turbo...\n",
      "\n",
      "Evaluating 5 examples for gpt-4o...\n",
      "\n",
      "Evaluating 5 examples for gpt-4o-mini...\n"
     ]
    }
   ],
   "source": [
    "# Evaluate subset of examples using LLM-as-a-Judge (due to cost considerations)\n",
    "# Select 5 examples from each model (15 total evaluations)\n",
    "evaluation_sample_size = 5\n",
    "evaluations_aqa = []\n",
    "evaluations_qa = []\n",
    "\n",
    "print(\"Performing LLM-as-a-Judge evaluation on sample of results...\")\n",
    "\n",
    "for model_name in models_to_test:\n",
    "    model_results = [r for r in multiple_examples_results if r['model'] == model_name]\n",
    "    sample_results = random.sample(model_results, min(evaluation_sample_size, len(model_results)))\n",
    "    \n",
    "    print(f\"\\nEvaluating {len(sample_results)} examples for {model_name}...\")\n",
    "    \n",
    "    # A>Q>A evaluation\n",
    "    for result in sample_results:\n",
    "        try:\n",
    "            prompt = prompt1_template.format(**result)\n",
    "            evaluation_str = llm(prompt, model='gpt-4o-mini')\n",
    "            evaluation = json.loads(evaluation_str)\n",
    "            evaluation['model'] = result['model']\n",
    "            evaluation['question_id'] = result['question_id']\n",
    "            evaluation['evaluation_type'] = 'Answer-Question-Answer'\n",
    "            evaluations_aqa.append(evaluation)\n",
    "        except (json.JSONDecodeError, Exception) as e:\n",
    "            print(f\"  Failed AQA evaluation for {model_name}, question {result['question_id']}: {e}\")\n",
    "    \n",
    "    # Q>A evaluation\n",
    "    for result in sample_results:\n",
    "        try:\n",
    "            prompt = prompt2_template.format(**result)\n",
    "            evaluation_str = llm(prompt, model='gpt-4o-mini')\n",
    "            evaluation = json.loads(evaluation_str)\n",
    "            evaluation['model'] = result['model']\n",
    "            evaluation['question_id'] = result['question_id']\n",
    "            evaluation['evaluation_type'] = 'Question-Answer'\n",
    "            evaluations_qa.append(evaluation)\n",
    "        except (json.JSONDecodeError, Exception) as e:\n",
    "            print(f\"  Failed QA evaluation for {model_name}, question {result['question_id']}: {e}\")\n"
   ]
  },
  {
   "cell_type": "code",
   "execution_count": null,
   "id": "587906e3",
   "metadata": {},
   "outputs": [],
   "source": [
    "# Combine all evaluations\n",
    "all_evaluations_multiple = evaluations_aqa + evaluations_qa\n",
    "df_evaluations_multiple = pd.DataFrame(all_evaluations_multiple)"
   ]
  },
  {
   "cell_type": "code",
   "execution_count": null,
   "id": "80e0a95b",
   "metadata": {},
   "outputs": [
    {
     "name": "stdout",
     "output_type": "stream",
     "text": [
      "\n",
      "Completed LLM-as-a-Judge evaluation:\n",
      "Total evaluations: 30\n",
      "AQA evaluations: 15\n",
      "QA evaluations: 15\n"
     ]
    }
   ],
   "source": [
    "print(f\"\\nCompleted LLM-as-a-Judge evaluation:\")\n",
    "print(f\"Total evaluations: {len(all_evaluations_multiple)}\")\n",
    "print(f\"AQA evaluations: {len(evaluations_aqa)}\")\n",
    "print(f\"QA evaluations: {len(evaluations_qa)}\")"
   ]
  },
  {
   "cell_type": "code",
   "execution_count": null,
   "id": "1b43d585",
   "metadata": {},
   "outputs": [
    {
     "name": "stdout",
     "output_type": "stream",
     "text": [
      "\n",
      "LLM-as-a-Judge Evaluation Summary:\n",
      "Relevance                             NON_RELEVANT  PARTLY_RELEVANT  RELEVANT\n",
      "model         evaluation_type                                                \n",
      "gpt-3.5-turbo Answer-Question-Answer             0                2         3\n",
      "              Question-Answer                    0                1         4\n",
      "gpt-4o        Answer-Question-Answer             2                1         2\n",
      "              Question-Answer                    0                1         4\n",
      "gpt-4o-mini   Answer-Question-Answer             1                3         1\n",
      "              Question-Answer                    0                1         4\n"
     ]
    }
   ],
   "source": [
    "# Display evaluation summary\n",
    "print(\"\\nLLM-as-a-Judge Evaluation Summary:\")\n",
    "eval_summary = df_evaluations_multiple.groupby(['model', 'evaluation_type', 'Relevance']).size().unstack(fill_value=0)\n",
    "print(eval_summary)"
   ]
  },
  {
   "cell_type": "code",
   "execution_count": null,
   "id": "0f417831",
   "metadata": {},
   "outputs": [],
   "source": [
    "# # Save LLM-as-a-Judge evaluations\n",
    "# df_evaluations_multiple.to_csv('../results/llm_as_a_judge_evaluations.csv', index=False)"
   ]
  },
  {
   "cell_type": "code",
   "execution_count": null,
   "id": "66377b1e",
   "metadata": {},
   "outputs": [
    {
     "data": {
      "text/plain": [
       "Text(0.5, 0.98, 'LLM-as-a-Judge Evaluation Results - Multiple Examples')"
      ]
     },
     "execution_count": 47,
     "metadata": {},
     "output_type": "execute_result"
    },
    {
     "data": {
      "image/png": "[encoded data removed]",
      "text/plain": [
       "<Figure size 1600x800 with 2 Axes>"
      ]
     },
     "metadata": {},
     "output_type": "display_data"
    }
   ],
   "source": [
    "# Create visualization for LLM-as-a-Judge results\n",
    "fig, axes = plt.subplots(1, 2, figsize=(16, 8))\n",
    "fig.suptitle('LLM-as-a-Judge Evaluation Results - Multiple Examples', fontsize=16, fontweight='bold')\n"
   ]
  },
  {
   "cell_type": "code",
   "execution_count": null,
   "id": "a55293b1",
   "metadata": {},
   "outputs": [],
   "source": [
    "# Plot AQA evaluations\n",
    "aqa_data = df_evaluations_multiple[df_evaluations_multiple['evaluation_type'] == 'Answer-Question-Answer']\n",
    "if len(aqa_data) > 0:\n",
    "    aqa_counts = aqa_data.groupby(['model', 'Relevance']).size().unstack(fill_value=0)\n",
    "    aqa_counts.plot(kind='bar', ax=axes[0], title='Answer-Question-Answer Evaluation', \n",
    "                    color=['#FF6B6B', '#FFD93D', '#6BCF7F'])\n",
    "    axes[0].set_xlabel('Model')\n",
    "    axes[0].set_ylabel('Count')\n",
    "    axes[0].legend(title='Relevance')\n",
    "    axes[0].tick_params(axis='x', rotation=45)"
   ]
  },
  {
   "cell_type": "code",
   "execution_count": null,
   "id": "1a6bb546",
   "metadata": {},
   "outputs": [
    {
     "data": {
      "text/plain": [
       "<Figure size 640x480 with 0 Axes>"
      ]
     },
     "metadata": {},
     "output_type": "display_data"
    }
   ],
   "source": [
    "# Plot QA evaluations\n",
    "qa_data = df_evaluations_multiple[df_evaluations_multiple['evaluation_type'] == 'Question-Answer']\n",
    "if len(qa_data) > 0:\n",
    "    qa_counts = qa_data.groupby(['model', 'Relevance']).size().unstack(fill_value=0)\n",
    "    qa_counts.plot(kind='bar', ax=axes[1], title='Question-Answer Evaluation',\n",
    "                   color=['#FF6B6B', '#FFD93D', '#6BCF7F'])\n",
    "    axes[1].set_xlabel('Model')\n",
    "    axes[1].set_ylabel('Count')\n",
    "    axes[1].legend(title='Relevance')\n",
    "    axes[1].tick_params(axis='x', rotation=45)\n",
    "plt.tight_layout()\n",
    "plt.show()"
   ]
  },
  {
   "cell_type": "code",
   "execution_count": null,
   "id": "ba4a1faa",
   "metadata": {},
   "outputs": [],
   "source": [
    "# plt.savefig('../images/llm_as_a_judge_evaluation_multiple.png', dpi=300, bbox_inches='tight')"
   ]
  },
  {
   "cell_type": "markdown",
   "id": "29d1ef86",
   "metadata": {},
   "source": [
    "#### Comprehensive summary Results"
   ]
  },
  {
   "cell_type": "code",
   "execution_count": null,
   "metadata": {},
   "outputs": [
    {
     "name": "stdout",
     "output_type": "stream",
     "text": [
      "=== COMPREHENSIVE EVALUATION SUMMARY (15 Examples) ===\n",
      "\n",
      "1. DATASET INFORMATION:\n",
      "   • Total examples evaluated: 15\n",
      "   • Models tested: gpt-3.5-turbo, gpt-4o, gpt-4o-mini\n",
      "   • Total RAG generations: 45\n",
      "\n",
      "2. COSINE SIMILARITY ANALYSIS:\n",
      "   Mean ± Std Dev by Model:\n",
      "   • gpt-3.5-turbo: 0.0000 ± 0.0000\n",
      "   • gpt-4o: 0.0000 ± 0.0000\n",
      "   • gpt-4o-mini: 0.0000 ± 0.0000\n",
      "\n",
      "   Performance Distribution:\n",
      "   • gpt-3.5-turbo:\n",
      "     - Excellent (>0.7): 0/15 (0.0%)\n",
      "     - Good (0.5-0.7): 0/15 (0.0%)\n",
      "     - Needs Improvement (<0.5): 15/15 (100.0%)\n",
      "   • gpt-4o:\n",
      "     - Excellent (>0.7): 0/15 (0.0%)\n",
      "     - Good (0.5-0.7): 0/15 (0.0%)\n",
      "     - Needs Improvement (<0.5): 15/15 (100.0%)\n",
      "   • gpt-4o-mini:\n",
      "     - Excellent (>0.7): 0/15 (0.0%)\n",
      "     - Good (0.5-0.7): 0/15 (0.0%)\n",
      "     - Needs Improvement (<0.5): 15/15 (100.0%)\n",
      "\n",
      "3. LLM-as-a-JUDGE EVALUATION:\n",
      "   Samples evaluated per model: 5\n",
      "\n",
      "   Answer-Question-Answer Relevance:\n",
      "   • gpt-3.5-turbo: {'RELEVANT': np.int64(3), 'PARTLY_RELEVANT': np.int64(2)}\n",
      "   • gpt-4o: {'NON_RELEVANT': np.int64(2), 'RELEVANT': np.int64(2), 'PARTLY_RELEVANT': np.int64(1)}\n",
      "   • gpt-4o-mini: {'PARTLY_RELEVANT': np.int64(3), 'RELEVANT': np.int64(1), 'NON_RELEVANT': np.int64(1)}\n",
      "\n",
      "   Question-Answer Relevance:\n",
      "   • gpt-3.5-turbo: {'RELEVANT': np.int64(4), 'PARTLY_RELEVANT': np.int64(1)}\n",
      "   • gpt-4o: {'RELEVANT': np.int64(4), 'PARTLY_RELEVANT': np.int64(1)}\n",
      "   • gpt-4o-mini: {'RELEVANT': np.int64(4), 'PARTLY_RELEVANT': np.int64(1)}\n",
      "\n",
      "4. FILES GENERATED:\n",
      "   • results/multiple_examples_comparison.csv\n",
      "   • results/cosine_similarities_all_examples.csv\n",
      "   • results/llm_as_a_judge_evaluations_multiple.csv\n",
      "   • images/cosine_similarity_histograms.png\n",
      "   • images/cosine_similarity_violin_plot.png\n",
      "   • images/llm_as_a_judge_evaluation_multiple.png\n",
      "   • data/processed/ques-docs-pairs.json\n",
      "\n",
      "5. KEY INSIGHTS:\n",
      "   • Best performing model (avg. similarity): gpt-3.5-turbo\n",
      "   • Most consistent model (lowest std dev): gpt-3.5-turbo\n",
      "   • Largest similarity range: 0.0000\n"
     ]
    }
   ],
   "source": [
    "print(\"=== COMPREHENSIVE EVALUATION SUMMARY (15 Examples) ===\")\n",
    "\n",
    "print(f\"\\n1. DATASET INFORMATION:\")\n",
    "print(f\"   • Total examples evaluated: {len(sample_questions)}\")\n",
    "print(f\"   • Models tested: {', '.join(models_to_test)}\")\n",
    "print(f\"   • Total RAG generations: {len(multiple_examples_results)}\")\n",
    "\n",
    "print(f\"\\n2. COSINE SIMILARITY ANALYSIS:\")\n",
    "print(\"   Mean ± Std Dev by Model:\")\n",
    "for model in models_to_test:\n",
    "    model_data = df_similarities_all[df_similarities_all['model'] == model]['cosine_similarity']\n",
    "    print(f\"   • {model}: {model_data.mean():.4f} ± {model_data.std():.4f}\")\n",
    "\n",
    "print(f\"\\n   Performance Distribution:\")\n",
    "for model_name in models_to_test:\n",
    "    model_similarities = df_similarities_all[df_similarities_all['model'] == model_name]['cosine_similarity']\n",
    "    excellent = len(model_similarities[model_similarities > 0.7])\n",
    "    good = len(model_similarities[(model_similarities >= 0.5) & (model_similarities <= 0.7)])\n",
    "    needs_improvement = len(model_similarities[model_similarities < 0.5])\n",
    "    total = len(model_similarities)\n",
    "    \n",
    "    print(f\"   • {model_name}:\")\n",
    "    print(f\"     - Excellent (>0.7): {excellent}/{total} ({excellent/total*100:.1f}%)\")\n",
    "    print(f\"     - Good (0.5-0.7): {good}/{total} ({good/total*100:.1f}%)\")\n",
    "    print(f\"     - Needs Improvement (<0.5): {needs_improvement}/{total} ({needs_improvement/total*100:.1f}%)\")\n",
    "\n",
    "if len(all_evaluations_multiple) > 0:\n",
    "    print(f\"\\n3. LLM-as-a-JUDGE EVALUATION:\")\n",
    "    print(f\"   Samples evaluated per model: {evaluation_sample_size}\")\n",
    "    \n",
    "    print(f\"\\n   Answer-Question-Answer Relevance:\")\n",
    "    for model in models_to_test:\n",
    "        model_aqa = aqa_data[aqa_data['model'] == model]\n",
    "        if len(model_aqa) > 0:\n",
    "            relevance_dist = model_aqa['Relevance'].value_counts()\n",
    "            print(f\"   • {model}: {dict(relevance_dist)}\")\n",
    "    \n",
    "    print(f\"\\n   Question-Answer Relevance:\")\n",
    "    for model in models_to_test:\n",
    "        model_qa = qa_data[qa_data['model'] == model]\n",
    "        if len(model_qa) > 0:\n",
    "            relevance_dist = model_qa['Relevance'].value_counts()\n",
    "            print(f\"   • {model}: {dict(relevance_dist)}\")\n",
    "\n",
    "print(f\"\\n4. FILES GENERATED:\")\n",
    "print(\"   • results/multiple_examples_comparison.csv\")\n",
    "print(\"   • results/cosine_similarities_all_examples.csv\")\n",
    "print(\"   • results/llm_as_a_judge_evaluations_multiple.csv\") \n",
    "print(\"   • images/cosine_similarity_histograms.png\")\n",
    "print(\"   • images/cosine_similarity_violin_plot.png\")\n",
    "print(\"   • images/llm_as_a_judge_evaluation_multiple.png\")\n",
    "print(\"   • data/processed/ques-docs-pairs.json\")\n",
    "\n",
    "print(f\"\\n5. KEY INSIGHTS:\")\n",
    "best_model_idx = similarity_stats['mean'].idxmax()\n",
    "worst_model_idx = similarity_stats['mean'].idxmin()\n",
    "print(f\"   • Best performing model (avg. similarity): {best_model_idx}\")\n",
    "print(f\"   • Most consistent model (lowest std dev): {similarity_stats['std'].idxmin()}\")\n",
    "print(f\"   • Largest similarity range: {similarity_stats['max'].max() - similarity_stats['min'].min():.4f}\")"
   ]
  }
 ],
 "metadata": {
  "kernelspec": {
   "display_name": "brahman_env",
   "language": "python",
   "name": "python3"
  },
  "language_info": {
   "codemirror_mode": {
    "name": "ipython",
    "version": 3
   },
   "file_extension": ".py",
   "mimetype": "text/x-python",
   "name": "python",
   "nbconvert_exporter": "python",
   "pygments_lexer": "ipython3",
   "version": "3.10.18"
  }
 },
 "nbformat": 4,
 "nbformat_minor": 5
}
