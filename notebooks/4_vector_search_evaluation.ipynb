{
 "cells": [
  {
   "cell_type": "markdown",
   "metadata": {},
   "source": [
    "# Vector Search Evaluation\n",
    "This notebook evaluates the performance of vector-based semantic search using sentence transformers."
   ]
  },
  {
   "cell_type": "code",
   "execution_count": null,
   "metadata": {},
   "outputs": [],
   "source": [
    "# Import required libraries\n",
    "import json\n",
    "import pandas as pd\n",
    "import numpy as np\n",
    "from sentence_transformers import SentenceTransformer\n",
    "from tqdm.auto import tqdm\n",
    "from sklearn.metrics.pairwise import cosine_similarity\n",
    "import os"
   ]
  },
  {
   "cell_type": "code",
   "execution_count": null,
   "metadata": {},
   "outputs": [],
   "source": [
    "# Create results directory if it doesn't exist\n",
    "os.makedirs('results', exist_ok=True)"
   ]
  },
  {
   "cell_type": "markdown",
   "metadata": {},
   "source": [
    "### Initialize Vector Search Model\n",
    "Setup sentence transformer model for embedding generation"
   ]
  },
  {
   "cell_type": "code",
   "execution_count": null,
   "metadata": {},
   "outputs": [],
   "source": [
    "# Initialize sentence transformer model for vector embeddings\n",
    "model_name = 'all-MiniLM-L6-v2'\n",
    "model = SentenceTransformer(model_name)\n",
    "print(f\"Loaded sentence transformer model: {model_name}\")"
   ]
  },
  {
   "cell_type": "markdown",
   "metadata": {},
   "source": [
    "### Load Data\n",
    "Loading documents and ground truth data for evaluation"
   ]
  },
  {
   "cell_type": "code",
   "execution_count": null,
   "metadata": {},
   "outputs": [],
   "source": [
    "print(\"Loading data...\")\n",
    "\n",
    "# Load documents from processed JSON file\n",
    "with open('data/processed/documents-with-ids.json', 'r') as f:\n",
    "    documents = json.load(f)\n",
    "\n",
    "# Load ground truth dataset for evaluation\n",
    "df_ground_truth = pd.read_csv('data/ground-truth-retrieval.csv')\n",
    "ground_truth = df_ground_truth.to_dict(orient='records')\n",
    "\n",
    "print(f\"Loaded {len(documents)} documents and {len(ground_truth)} ground truth questions\")"
   ]
  },
  {
   "cell_type": "markdown",
   "metadata": {},
   "source": [
    "### Generate Document Embeddings\n",
    "Create vector representations for all documents"
   ]
  },
  {
   "cell_type": "code",
   "execution_count": null,
   "metadata": {},
   "outputs": [],
   "source": [
    "print(\"Generating document embeddings...\")\n",
    "\n",
    "# Extract text content from documents\n",
    "texts = [doc['content'] for doc in documents]\n",
    "\n",
    "# Generate embeddings for all documents\n",
    "document_vectors = model.encode(texts, show_progress_bar=True)\n",
    "\n",
    "print(f\"Generated embeddings for {len(document_vectors)} documents\")"
   ]
  },
  {
   "cell_type": "markdown",
   "metadata": {},
   "source": [
    "### Evaluation Process\n",
    "Evaluate vector search performance using ground truth data"
   ]
  },
  {
   "cell_type": "code",
   "execution_count": null,
   "metadata": {},
   "outputs": [],
   "source": [
    "print(\"Evaluating vector search...\")\n",
    "\n",
    "# Initialize list to store relevance results\n",
    "relevance_total = []\n",
    "\n",
    "# Iterate through each ground truth question\n",
    "for q in tqdm(ground_truth, desc=\"Evaluating retrieval\"):\n",
    "    doc_id = q['id']  # Ground truth document ID\n",
    "    query = q['question']\n",
    "    \n",
    "    # Generate query embedding\n",
    "    query_vector = model.encode([query])\n",
    "    \n",
    "    # Calculate cosine similarities with all documents\n",
    "    similarities = cosine_similarity(query_vector, document_vectors)[0]\n",
    "    \n",
    "    # Get top 5 most similar documents\n",
    "    top_indices = np.argsort(similarities)[::-1][:5]\n",
    "    \n",
    "    # Create results with similarity scores\n",
    "    results = []\n",
    "    for idx in top_indices:\n",
    "        doc = documents[idx].copy()\n",
    "        doc['similarity_score'] = float(similarities[idx])\n",
    "        results.append(doc)\n",
    "    \n",
    "    # Check if correct document is in results\n",
    "    relevance = [d['id'] == doc_id for d in results]\n",
    "    relevance_total.append(relevance)\n",
    "\n",
    "print(\"Evaluation completed!\")"
   ]
  },
  {
   "cell_type": "markdown",
   "metadata": {},
   "source": [
    "### Calculate Metrics\n",
    "Compute Hit Rate and Mean Reciprocal Rank (MRR)"
   ]
  },
  {
   "cell_type": "code",
   "execution_count": null,
   "metadata": {},
   "outputs": [],
   "source": [
    "print(\"Calculating metrics...\")\n",
    "\n",
    "# Calculate Hit Rate\n",
    "hit_count = sum(1 for line in relevance_total if True in line)\n",
    "hit_rate = hit_count / len(relevance_total)\n",
    "\n",
    "# Calculate Mean Reciprocal Rank (MRR)\n",
    "total_score = 0.0\n",
    "for line in relevance_total:\n",
    "    for rank in range(len(line)):\n",
    "        if line[rank] == True:\n",
    "            total_score += 1 / (rank + 1)\n",
    "            break\n",
    "\n",
    "mrr = total_score / len(relevance_total)\n",
    "\n",
    "# Create metrics dictionary\n",
    "metrics = {\n",
    "    'hit_rate': hit_rate,\n",
    "    'mrr': mrr,\n",
    "    'total_questions': len(relevance_total)\n",
    "}\n",
    "\n",
    "print(f\"Metrics calculated successfully!\")"
   ]
  },
  {
   "cell_type": "markdown",
   "metadata": {},
   "source": [
    "### Save Results and Display Summary"
   ]
  },
  {
   "cell_type": "code",
   "execution_count": null,
   "metadata": {},
   "outputs": [],
   "source": [
    "# Prepare results for saving\n",
    "results = {\n",
    "    'method': 'vector_search',\n",
    "    'model_name': model_name,\n",
    "    'metrics': metrics,\n",
    "    'relevance_results': relevance_total\n",
    "}\n",
    "\n",
    "# Save results to JSON file\n",
    "with open('results/vector_search_results.json', 'w') as f:\n",
    "    json.dump(results, f, indent=2)\n",
    "\n",
    "# Display final results\n",
    "print(f\"\\nVector Search Results:\")\n",
    "print(f\"Hit Rate: {metrics['hit_rate']:.4f}\")\n",
    "print(f\"MRR: {metrics['mrr']:.4f}\")\n",
    "print(f\"Total Questions: {metrics['total_questions']}\")\n",
    "print(\"\\nResults saved to: results/vector_search_results.json\")"
   ]
  }
 ],
 "metadata": {
  "kernelspec": {
   "display_name": "Python 3",
   "language": "python",
   "name": "python3"
  },
  "language_info": {
   "codemirror_mode": {
    "name": "ipython",
    "version": 3
   },
   "file_extension": ".py",
   "name": "python",
   "nbconvert_exporter": "python",
   "pygments_lexer": "ipython3",
   "version": "3.8.5"
  }
 },
 "nbformat": 4,
 "nbformat_minor": 4
}
