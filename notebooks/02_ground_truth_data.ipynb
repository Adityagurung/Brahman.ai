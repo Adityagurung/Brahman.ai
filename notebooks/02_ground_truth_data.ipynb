{
 "cells": [
  {
   "cell_type": "markdown",
   "id": "b6845a9f",
   "metadata": {},
   "source": [
    "This notebook/script processes semantic chunks generated from PDF and creates ground truth data \n",
    "for retrieval evaluation\n",
    "1. Reads chunked semantic data from a JSON file.\n",
    "2. Filters and renames specific fields for cleaner processing.\n",
    "3. Uses an AI model to generate 5 sustainability-focused travel questions \n",
    "   for each record.\n",
    "4. Saves the resulting ground truth dataset to CSV for retrieval evaluation."
   ]
  },
  {
   "cell_type": "markdown",
   "id": "4b0c8ff8",
   "metadata": {},
   "source": [
    "#### Helper functions"
   ]
  },
  {
   "cell_type": "code",
   "execution_count": 1,
   "id": "d46edba5",
   "metadata": {},
   "outputs": [],
   "source": [
    "import json\n",
    "import pandas as pd\n",
    "from pathlib import Path\n",
    "from tqdm import tqdm\n",
    "import os\n",
    "import sys\n",
    "from dotenv import load_dotenv"
   ]
  },
  {
   "cell_type": "code",
   "execution_count": 2,
   "id": "33b7ca53",
   "metadata": {},
   "outputs": [],
   "source": [
    "file_path = '../data/processed/semantic_chunks.json'\n",
    "output_csv = '../data/processed/ground-truth-retreival.csv'"
   ]
  },
  {
   "cell_type": "code",
   "execution_count": 3,
   "id": "8883266c",
   "metadata": {},
   "outputs": [],
   "source": [
    "# ------------------------------------------------------------\n",
    "# Load semantic chunks JSON file\n",
    "# ------------------------------------------------------------\n",
    "with open(file_path, \"r\", encoding=\"utf-8\") as f:\n",
    "    chunks = json.load(f)"
   ]
  },
  {
   "cell_type": "code",
   "execution_count": 4,
   "id": "faf78dc8",
   "metadata": {},
   "outputs": [
    {
     "data": {
      "text/plain": [
       "{'metadata': {'document_id': 'd4402d82c0',\n",
       "  'pdf_name': 'Andhra_Pradesh.pdf',\n",
       "  'pdf_part': 0},\n",
       " 'chunk_text': 'Asia > South Asia > India > Southern India > Andhra Pradesh  \\n![0_image_0.png](0_image_0.png)',\n",
       " 'token_count': 93}"
      ]
     },
     "execution_count": 4,
     "metadata": {},
     "output_type": "execute_result"
    }
   ],
   "source": [
    "chunks[0]"
   ]
  },
  {
   "cell_type": "code",
   "execution_count": 5,
   "id": "546e9c5c",
   "metadata": {},
   "outputs": [],
   "source": [
    "# ------------------------------------------------------------\n",
    "# Create DataFrame with required fields\n",
    "# ------------------------------------------------------------\n",
    "df_filtered = pd.DataFrame(chunks)\n",
    "df_filtered[\"location\"] = df_filtered[\"metadata\"].apply(lambda m: m.get(\"pdf_name\", \"\").replace(\".pdf\", \"\"))\n",
    "df_filtered[\"doc_id\"] = df_filtered[\"metadata\"].apply(lambda m: m.get(\"document_id\", \"\"))\n",
    "df_filtered[\"content\"] = df_filtered[\"chunk_text\"]\n",
    "df_filtered = df_filtered[[\"location\", \"doc_id\", \"content\"]]"
   ]
  },
  {
   "cell_type": "code",
   "execution_count": 6,
   "id": "6b7e3529",
   "metadata": {},
   "outputs": [
    {
     "data": {
      "text/html": [
       "<div>\n",
       "<style scoped>\n",
       "    .dataframe tbody tr th:only-of-type {\n",
       "        vertical-align: middle;\n",
       "    }\n",
       "\n",
       "    .dataframe tbody tr th {\n",
       "        vertical-align: top;\n",
       "    }\n",
       "\n",
       "    .dataframe thead th {\n",
       "        text-align: right;\n",
       "    }\n",
       "</style>\n",
       "<table border=\"1\" class=\"dataframe\">\n",
       "  <thead>\n",
       "    <tr style=\"text-align: right;\">\n",
       "      <th></th>\n",
       "      <th>location</th>\n",
       "      <th>doc_id</th>\n",
       "      <th>content</th>\n",
       "    </tr>\n",
       "  </thead>\n",
       "  <tbody>\n",
       "    <tr>\n",
       "      <th>0</th>\n",
       "      <td>Andhra_Pradesh</td>\n",
       "      <td>d4402d82c0</td>\n",
       "      <td>Asia &gt; South Asia &gt; India &gt; Southern India &gt; A...</td>\n",
       "    </tr>\n",
       "    <tr>\n",
       "      <th>1</th>\n",
       "      <td>Andhra_Pradesh</td>\n",
       "      <td>d4402d82c0</td>\n",
       "      <td>Andhra Pradesh (AP) is a state in Southern Ind...</td>\n",
       "    </tr>\n",
       "    <tr>\n",
       "      <th>2</th>\n",
       "      <td>Andhra_Pradesh</td>\n",
       "      <td>d4402d82c0</td>\n",
       "      <td>Northern Coast (Alluri Sitharama Raju, Anakapa...</td>\n",
       "    </tr>\n",
       "    <tr>\n",
       "      <th>3</th>\n",
       "      <td>Andhra_Pradesh</td>\n",
       "      <td>d4402d82c0</td>\n",
       "      <td>Here are some of the most notable cities.</td>\n",
       "    </tr>\n",
       "    <tr>\n",
       "      <th>4</th>\n",
       "      <td>Andhra_Pradesh</td>\n",
       "      <td>ed240be0ed</td>\n",
       "      <td>Amaravati - the capital of Andhra Pradesh whic...</td>\n",
       "    </tr>\n",
       "  </tbody>\n",
       "</table>\n",
       "</div>"
      ],
      "text/plain": [
       "         location      doc_id  \\\n",
       "0  Andhra_Pradesh  d4402d82c0   \n",
       "1  Andhra_Pradesh  d4402d82c0   \n",
       "2  Andhra_Pradesh  d4402d82c0   \n",
       "3  Andhra_Pradesh  d4402d82c0   \n",
       "4  Andhra_Pradesh  ed240be0ed   \n",
       "\n",
       "                                             content  \n",
       "0  Asia > South Asia > India > Southern India > A...  \n",
       "1  Andhra Pradesh (AP) is a state in Southern Ind...  \n",
       "2  Northern Coast (Alluri Sitharama Raju, Anakapa...  \n",
       "3          Here are some of the most notable cities.  \n",
       "4  Amaravati - the capital of Andhra Pradesh whic...  "
      ]
     },
     "metadata": {},
     "output_type": "display_data"
    }
   ],
   "source": [
    "display(df_filtered.head())"
   ]
  },
  {
   "cell_type": "code",
   "execution_count": 7,
   "id": "13fb1ff4",
   "metadata": {},
   "outputs": [],
   "source": [
    "documents = df_filtered.to_dict(orient=\"records\")"
   ]
  },
  {
   "cell_type": "code",
   "execution_count": 11,
   "id": "d039bc2f",
   "metadata": {},
   "outputs": [
    {
     "data": {
      "text/plain": [
       "{'location': 'Andhra_Pradesh',\n",
       " 'doc_id': 'd4402d82c0',\n",
       " 'content': 'Andhra Pradesh (AP) is a state in Southern India, with Bay of Bengal on the east and shares boundaries with Telangana on the north, Chhattisgarh and Odisha on the north-east, Tamil Nadu on the south and Karnataka on the west. Vijayawada is the capital of this state.'}"
      ]
     },
     "execution_count": 11,
     "metadata": {},
     "output_type": "execute_result"
    }
   ],
   "source": [
    "documents[1]"
   ]
  },
  {
   "cell_type": "code",
   "execution_count": 12,
   "id": "271ecaab",
   "metadata": {},
   "outputs": [],
   "source": [
    "# ------------------------------------------------------------\n",
    "# Prompt template for generating questions\n",
    "# ------------------------------------------------------------\n",
    "prompt_template = \"\"\"\n",
    "You are an AI model assisting in developing a sustainable tourism recommender system for India.  \n",
    "Your task is to generate 5 questions that a user might ask when planning a trip to this region with a focus on sustainability. \n",
    "The questions should be based on the provided record, which contains information from sources like WikiVoyage about travel destinations, ethical travel practices, and sustainable tourism tips. \n",
    "\n",
    "The record includes:\n",
    "\n",
    "location: {location}\n",
    "content: {content}\n",
    "\n",
    "Formulate 5 clear and complete questions based on the provided record. These questions should be relevant to sustainable travel and tourism in Southeast Asia and should encourage users to think about ethical and eco-friendly travel options. \n",
    "Ensure the questions are varied and concise, using as few words as possible from the original text.\n",
    "\n",
    "Provide the output in parsable JSON format without using code blocks:\n",
    "\n",
    "[\"question1\", \"question2\", ..., \"question5\"]\n",
    "\"\"\".strip()"
   ]
  },
  {
   "cell_type": "code",
   "execution_count": 15,
   "id": "65d0ee12",
   "metadata": {},
   "outputs": [],
   "source": [
    "prompt = prompt_template.format(**documents[1])"
   ]
  },
  {
   "cell_type": "code",
   "execution_count": 16,
   "id": "0bd5661d",
   "metadata": {},
   "outputs": [
    {
     "name": "stdout",
     "output_type": "stream",
     "text": [
      "You are an AI model assisting in developing a sustainable tourism recommender system for India.  \n",
      "Your task is to generate 5 questions that a user might ask when planning a trip to this region with a focus on sustainability. \n",
      "The questions should be based on the provided record, which contains information from sources like WikiVoyage about travel destinations, ethical travel practices, and sustainable tourism tips. \n",
      "\n",
      "The record includes:\n",
      "\n",
      "location: Andhra_Pradesh\n",
      "content: Andhra Pradesh (AP) is a state in Southern India, with Bay of Bengal on the east and shares boundaries with Telangana on the north, Chhattisgarh and Odisha on the north-east, Tamil Nadu on the south and Karnataka on the west. Vijayawada is the capital of this state.\n",
      "\n",
      "Formulate 5 clear and complete questions based on the provided record. These questions should be relevant to sustainable travel and tourism in Southeast Asia and should encourage users to think about ethical and eco-friendly travel options. \n",
      "Ensure the questions are varied and concise, using as few words as possible from the original text.\n",
      "\n",
      "Provide the output in parsable JSON format without using code blocks:\n",
      "\n",
      "[\"question1\", \"question2\", ..., \"question5\"]\n"
     ]
    }
   ],
   "source": [
    "print(prompt)"
   ]
  },
  {
   "cell_type": "code",
   "execution_count": 21,
   "id": "68f417fa",
   "metadata": {},
   "outputs": [],
   "source": [
    "from dotenv import load_dotenv\n",
    "import os\n",
    "import requests\n",
    "\n",
    "load_dotenv()  # Loads variables from .env\n",
    "API_KEY = os.getenv(\"PERPLEXITY_API_KEY\")"
   ]
  },
  {
   "cell_type": "code",
   "execution_count": 24,
   "id": "e5842bc3",
   "metadata": {},
   "outputs": [],
   "source": [
    "def llm(prompt):\n",
    "    response = requests.post(\n",
    "        'https://api.perplexity.ai/chat/completions',\n",
    "        headers={\n",
    "            'Authorization': f'Bearer {API_KEY}',\n",
    "            'Content-Type': 'application/json'\n",
    "        },\n",
    "        json={\n",
    "            'model': 'sonar',\n",
    "            'messages': [{\"role\": \"user\", \"content\": prompt}]\n",
    "        }\n",
    "    )\n",
    "    \n",
    "    if response.status_code == 200:\n",
    "        return response.json()['choices'][0]['message']['content']\n",
    "    else:\n",
    "        raise Exception(f\"API call failed with status {response.status_code}: {response.text}\")"
   ]
  },
  {
   "cell_type": "code",
   "execution_count": null,
   "id": "0defc567",
   "metadata": {},
   "outputs": [],
   "source": [
    "# def llm(prompt):\n",
    "#     response = client.chat.completions.create(\n",
    "#         model='gpt-4o-mini',\n",
    "#         messages=[{\"role\": \"user\", \"content\": prompt}]\n",
    "#     )\n",
    "    \n",
    "#     return response.choices[0].message.content"
   ]
  },
  {
   "cell_type": "code",
   "execution_count": 25,
   "id": "2cb76ac2",
   "metadata": {},
   "outputs": [],
   "source": [
    "questions = llm(prompt)"
   ]
  },
  {
   "cell_type": "code",
   "execution_count": 26,
   "id": "053b01b9",
   "metadata": {},
   "outputs": [
    {
     "data": {
      "text/plain": [
       "['What eco-friendly accommodations are available in Andhra Pradesh that support local communities?',\n",
       " 'How can I participate in cultural preservation while visiting historical sites like Lepakshi Temple and Gandikota Fort sustainably?',\n",
       " 'What wildlife or nature conservation activities can I engage in when visiting places like Irakam Island?',\n",
       " 'How do homestays in Andhra Pradesh contribute to sustainable tourism and benefit local residents?',\n",
       " 'What sustainable travel infrastructure or services exist to minimize the environmental impact while exploring Andhra Pradesh?']"
      ]
     },
     "execution_count": 26,
     "metadata": {},
     "output_type": "execute_result"
    }
   ],
   "source": [
    "json.loads(questions)"
   ]
  },
  {
   "cell_type": "code",
   "execution_count": null,
   "id": "23e5b2d2",
   "metadata": {},
   "outputs": [],
   "source": [
    "# def generate_questions(doc):\n",
    "#     prompt = prompt_template.format(**doc)\n",
    "\n",
    "#     response = client.chat.completions.create(\n",
    "#         model='gpt-4o-mini',\n",
    "#         messages=[{\"role\": \"user\", \"content\": prompt}]\n",
    "#     )\n",
    "\n",
    "#     json_response = response.choices[0].message.content\n",
    "#     return json_response"
   ]
  },
  {
   "cell_type": "code",
   "execution_count": 27,
   "id": "81df8da5",
   "metadata": {},
   "outputs": [],
   "source": [
    "def generate_questions(doc, prompt_template):\n",
    "    # Format the prompt using the doc dict\n",
    "    prompt = prompt_template.format(**doc)\n",
    "\n",
    "    # Make the Perplexity API call\n",
    "    response = requests.post(\n",
    "        'https://api.perplexity.ai/chat/completions',\n",
    "        headers={\n",
    "            'Authorization': f'Bearer {API_KEY}',\n",
    "            'Content-Type': 'application/json'\n",
    "        },\n",
    "        json={\n",
    "            'model': 'sonar',\n",
    "            'messages': [{\"role\": \"user\", \"content\": prompt}]\n",
    "        }\n",
    "    )\n",
    "    # Handle response (simple error handling)\n",
    "    if response.status_code == 200:\n",
    "        json_response = response.json()['choices'][0]['message']['content']\n",
    "        return json_response\n",
    "    else:\n",
    "        raise Exception(f\"API call failed with status {response.status_code}: {response.text}\")"
   ]
  },
  {
   "cell_type": "code",
   "execution_count": 28,
   "id": "870b5c7f",
   "metadata": {},
   "outputs": [],
   "source": [
    "from tqdm.auto import tqdm"
   ]
  },
  {
   "cell_type": "code",
   "execution_count": 29,
   "id": "7decb048",
   "metadata": {},
   "outputs": [],
   "source": [
    "results = {}"
   ]
  },
  {
   "cell_type": "code",
   "execution_count": 32,
   "id": "a17572b4",
   "metadata": {},
   "outputs": [
    {
     "name": "stdout",
     "output_type": "stream",
     "text": [
      "{'location': 'Andhra_Pradesh', 'doc_id': 'd4402d82c0', 'content': 'Asia > South Asia > India > Southern India > Andhra Pradesh  \\n![0_image_0.png](0_image_0.png)'}\n"
     ]
    }
   ],
   "source": [
    "print(documents[0])"
   ]
  },
  {
   "cell_type": "code",
   "execution_count": 35,
   "id": "af2c8873",
   "metadata": {},
   "outputs": [
    {
     "data": {
      "application/vnd.jupyter.widget-view+json": {
       "model_id": "2f1bbe671f214d73b6eeb5fb53c86ef7",
       "version_major": 2,
       "version_minor": 0
      },
      "text/plain": [
       "  0%|          | 0/149 [00:00<?, ?it/s]"
      ]
     },
     "metadata": {},
     "output_type": "display_data"
    }
   ],
   "source": [
    "for doc in tqdm(documents):\n",
    "\n",
    "    doc_id = doc[\"doc_id\"]\n",
    "    if doc_id in results:\n",
    "        continue\n",
    "\n",
    "    questions = generate_questions(doc,prompt_template)\n",
    "    results[doc_id] = questions"
   ]
  },
  {
   "cell_type": "code",
   "execution_count": 39,
   "id": "6e2b1823",
   "metadata": {},
   "outputs": [
    {
     "data": {
      "text/plain": [
       "{'location': 'Andhra_Pradesh',\n",
       " 'doc_id': 'd4402d82c0',\n",
       " 'content': 'Carnatic music - Carnatic music is born in the rich Telugu language Kuchipudi dance - one of the world famous classical dance forms of India.'}"
      ]
     },
     "execution_count": 39,
     "metadata": {},
     "output_type": "execute_result"
    }
   ],
   "source": [
    "documents[20]"
   ]
  },
  {
   "cell_type": "code",
   "execution_count": 40,
   "id": "4b51d64b",
   "metadata": {},
   "outputs": [],
   "source": [
    "final_results = []\n",
    "\n",
    "for doc_id, questions in results.items():\n",
    "    for q in questions:\n",
    "        final_results.append((doc_id, q))"
   ]
  },
  {
   "cell_type": "code",
   "execution_count": 43,
   "id": "4adde004",
   "metadata": {},
   "outputs": [
    {
     "data": {
      "text/plain": [
       "('d4402d82c0', 'W')"
      ]
     },
     "execution_count": 43,
     "metadata": {},
     "output_type": "execute_result"
    }
   ],
   "source": [
    "final_results[5]"
   ]
  },
  {
   "cell_type": "code",
   "execution_count": null,
   "id": "04085a56",
   "metadata": {},
   "outputs": [],
   "source": [
    "df_results = pd.DataFrame(final_results, columns=['id', 'question'])"
   ]
  },
  {
   "cell_type": "code",
   "execution_count": null,
   "id": "85112503",
   "metadata": {},
   "outputs": [],
   "source": [
    "df_results.to_csv(output_csv, index=False, encoding=\"utf-8\")\n",
    "print(f\"✅ Ground truth data saved to {output_csv}\")"
   ]
  }
 ],
 "metadata": {
  "kernelspec": {
   "display_name": "brahman_env",
   "language": "python",
   "name": "python3"
  },
  "language_info": {
   "codemirror_mode": {
    "name": "ipython",
    "version": 3
   },
   "file_extension": ".py",
   "mimetype": "text/x-python",
   "name": "python",
   "nbconvert_exporter": "python",
   "pygments_lexer": "ipython3",
   "version": "3.10.18"
  }
 },
 "nbformat": 4,
 "nbformat_minor": 5
}
